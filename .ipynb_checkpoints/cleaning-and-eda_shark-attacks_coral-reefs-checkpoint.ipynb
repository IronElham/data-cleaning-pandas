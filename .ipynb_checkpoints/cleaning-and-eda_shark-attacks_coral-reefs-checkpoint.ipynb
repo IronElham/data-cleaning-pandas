{
 "cells": [
  {
   "attachments": {
    "535f544d-433f-48fc-967a-14fec00ddb50.png": {
     "image/png": "[encoded data removed]"
    }
   },
   "cell_type": "markdown",
   "id": "dccadf02-f3b1-4f3a-bbde-009f94531526",
   "metadata": {},
   "source": [
    "![download.png](attachment:535f544d-433f-48fc-967a-14fec00ddb50.png)"
   ]
  },
  {
   "cell_type": "markdown",
   "id": "65092321",
   "metadata": {},
   "source": [
    "<h1 style=\"color: #00BFFF;\">Data Template: Extraction & Cleaning</h1>"
   ]
  },
  {
   "cell_type": "markdown",
   "id": "7813165d",
   "metadata": {},
   "source": [
    "<h1 style=\"color: #00BFFF;\">00 |</h1>"
   ]
  },
  {
   "cell_type": "code",
   "execution_count": 5,
   "id": "f70cf10a-f3e3-4ac4-9f23-5a192c7086b5",
   "metadata": {
    "tags": []
   },
   "outputs": [],
   "source": [
    "#!pip install matplotlib\n",
    "#!pip install seaborn\n",
    "#!pip install openpyxl"
   ]
  },
  {
   "cell_type": "code",
   "execution_count": 6,
   "id": "e682116d-4203-4773-8b7c-8c4527ab3411",
   "metadata": {
    "tags": []
   },
   "outputs": [],
   "source": [
    "# 📚 Basic libraries\n",
    "import pandas as pd # data manipulation\n",
    "import numpy as np # funciones matemáticas\n",
    "\n",
    "import re # data manipulation\n",
    "\n",
    "import matplotlib.pyplot as plt # visualization\n",
    "import seaborn as sns # visualization"
   ]
  },
  {
   "cell_type": "code",
   "execution_count": 7,
   "id": "56b79224-9337-4ece-a65f-9c271c643a80",
   "metadata": {
    "tags": []
   },
   "outputs": [],
   "source": [
    "# ⚙️ Settings\n",
    "pd.set_option('display.max_columns', None) # display all columns\n",
    "import warnings\n",
    "warnings.filterwarnings('ignore') # ignore warnings"
   ]
  },
  {
   "cell_type": "markdown",
   "id": "0114e245-9195-45ae-867a-7f3e0f08fe35",
   "metadata": {
    "tags": []
   },
   "source": [
    "<h1 style=\"color: #00BFFF;\">01 | Data Extraction</h1>"
   ]
  },
  {
   "cell_type": "code",
   "execution_count": 9,
   "id": "4b4e3929-a589-474e-bcdc-55e45d0c7c73",
   "metadata": {
    "tags": []
   },
   "outputs": [],
   "source": [
    "df = pd.read_excel(\"GSAF5.xls\")"
   ]
  },
  {
   "cell_type": "code",
   "execution_count": 10,
   "id": "53d18c16-f6c8-449e-bc2c-1128f63a3cda",
   "metadata": {},
   "outputs": [],
   "source": [
    "# making a copy\n",
    "\n",
    "df1 = df.copy()"
   ]
  },
  {
   "cell_type": "markdown",
   "id": "6ccd0e85-7c73-4e84-a2d8-f21a62d6c5e3",
   "metadata": {
    "tags": []
   },
   "source": [
    "<h2 style=\"color: #008080;\">Exploring the Data (First Impression)</h2>"
   ]
  },
  {
   "cell_type": "code",
   "execution_count": 12,
   "id": "54e8b884-28fa-4aeb-b73c-8c71a514a1c4",
   "metadata": {
    "tags": []
   },
   "outputs": [
    {
     "data": {
      "text/html": [
       "<div>\n",
       "<style scoped>\n",
       "    .dataframe tbody tr th:only-of-type {\n",
       "        vertical-align: middle;\n",
       "    }\n",
       "\n",
       "    .dataframe tbody tr th {\n",
       "        vertical-align: top;\n",
       "    }\n",
       "\n",
       "    .dataframe thead th {\n",
       "        text-align: right;\n",
       "    }\n",
       "</style>\n",
       "<table border=\"1\" class=\"dataframe\">\n",
       "  <thead>\n",
       "    <tr style=\"text-align: right;\">\n",
       "      <th></th>\n",
       "      <th>Date</th>\n",
       "      <th>Year</th>\n",
       "      <th>Type</th>\n",
       "      <th>Country</th>\n",
       "      <th>State</th>\n",
       "      <th>Location</th>\n",
       "      <th>Activity</th>\n",
       "      <th>Name</th>\n",
       "      <th>Sex</th>\n",
       "      <th>Age</th>\n",
       "      <th>Injury</th>\n",
       "      <th>Unnamed: 11</th>\n",
       "      <th>Time</th>\n",
       "      <th>Species</th>\n",
       "      <th>Source</th>\n",
       "      <th>pdf</th>\n",
       "      <th>href formula</th>\n",
       "      <th>href</th>\n",
       "      <th>Case Number</th>\n",
       "      <th>Case Number.1</th>\n",
       "      <th>original order</th>\n",
       "      <th>Unnamed: 21</th>\n",
       "      <th>Unnamed: 22</th>\n",
       "    </tr>\n",
       "  </thead>\n",
       "  <tbody>\n",
       "    <tr>\n",
       "      <th>1360</th>\n",
       "      <td>02-Sep-2012</td>\n",
       "      <td>2012.0</td>\n",
       "      <td>Unprovoked</td>\n",
       "      <td>USA</td>\n",
       "      <td>Florida</td>\n",
       "      <td>New Smyrna Beach, Volusia County</td>\n",
       "      <td>Boogie boarding</td>\n",
       "      <td>female</td>\n",
       "      <td>F</td>\n",
       "      <td>8</td>\n",
       "      <td>Puncture wounds to calf and hand</td>\n",
       "      <td>N</td>\n",
       "      <td>18h30</td>\n",
       "      <td>3.5' to 4' shark</td>\n",
       "      <td>WYTV, 9/3/2012</td>\n",
       "      <td>2012.09.02.b-NSB-girl.pdf</td>\n",
       "      <td>http://sharkattackfile.net/spreadsheets/pdf_di...</td>\n",
       "      <td>http://sharkattackfile.net/spreadsheets/pdf_di...</td>\n",
       "      <td>2012.09.02.b</td>\n",
       "      <td>2012.09.02.b</td>\n",
       "      <td>5582.0</td>\n",
       "      <td>NaN</td>\n",
       "      <td>NaN</td>\n",
       "    </tr>\n",
       "    <tr>\n",
       "      <th>6907</th>\n",
       "      <td>1941-1942</td>\n",
       "      <td>0.0</td>\n",
       "      <td>Unprovoked</td>\n",
       "      <td>IRAQ</td>\n",
       "      <td>Basrah</td>\n",
       "      <td>Shatt-el Arab River near a small boat stand</td>\n",
       "      <td>Swimming</td>\n",
       "      <td>male</td>\n",
       "      <td>M</td>\n",
       "      <td>13 or 14</td>\n",
       "      <td>FATAL, left leg bitten with severe blood loss</td>\n",
       "      <td>Y</td>\n",
       "      <td>Afternoon</td>\n",
       "      <td>Bull shark</td>\n",
       "      <td>B.W. Coad &amp; L.A.J. Al-Hassan</td>\n",
       "      <td>ND-0038-Shatt-al-Arab.pdf</td>\n",
       "      <td>http://sharkattackfile.net/spreadsheets/pdf_di...</td>\n",
       "      <td>http://sharkattackfile.net/spreadsheets/pdf_di...</td>\n",
       "      <td>ND.0038</td>\n",
       "      <td>ND.0038</td>\n",
       "      <td>38.0</td>\n",
       "      <td>NaN</td>\n",
       "      <td>NaN</td>\n",
       "    </tr>\n",
       "    <tr>\n",
       "      <th>2113</th>\n",
       "      <td>27-Feb-2006</td>\n",
       "      <td>2006.0</td>\n",
       "      <td>Unprovoked</td>\n",
       "      <td>USA</td>\n",
       "      <td>Hawaii</td>\n",
       "      <td>Makena, Maui</td>\n",
       "      <td>Standing</td>\n",
       "      <td>Nikky Raleigh</td>\n",
       "      <td>F</td>\n",
       "      <td>15</td>\n",
       "      <td>Deep laceration to right calf</td>\n",
       "      <td>N</td>\n",
       "      <td>16h30</td>\n",
       "      <td>5' to 7' shark</td>\n",
       "      <td>G.T. Kubota, Star Bulletin, 2/28/2006</td>\n",
       "      <td>2006.02.27-Raleigh.pdf</td>\n",
       "      <td>http://sharkattackfile.net/spreadsheets/pdf_di...</td>\n",
       "      <td>http://sharkattackfile.net/spreadsheets/pdf_di...</td>\n",
       "      <td>2006.02.27</td>\n",
       "      <td>2006.02.27</td>\n",
       "      <td>4829.0</td>\n",
       "      <td>NaN</td>\n",
       "      <td>NaN</td>\n",
       "    </tr>\n",
       "    <tr>\n",
       "      <th>6879</th>\n",
       "      <td>No date, Before 1963</td>\n",
       "      <td>0.0</td>\n",
       "      <td>Unprovoked</td>\n",
       "      <td>SINGAPORE</td>\n",
       "      <td>NaN</td>\n",
       "      <td>Keppel Harbor,  2 miles from Singapore city ce...</td>\n",
       "      <td>Swimming</td>\n",
       "      <td>NaN</td>\n",
       "      <td>NaN</td>\n",
       "      <td>NaN</td>\n",
       "      <td>Recovered</td>\n",
       "      <td>N</td>\n",
       "      <td>NaN</td>\n",
       "      <td>NaN</td>\n",
       "      <td>V.M. Coppleson (1958), p.266</td>\n",
       "      <td>ND-0073-KeppelHarbourSingapore.pdf</td>\n",
       "      <td>http://sharkattackfile.net/spreadsheets/pdf_di...</td>\n",
       "      <td>http://sharkattackfile.net/spreadsheets/pdf_di...</td>\n",
       "      <td>ND.0073</td>\n",
       "      <td>ND.0073</td>\n",
       "      <td>66.0</td>\n",
       "      <td>NaN</td>\n",
       "      <td>NaN</td>\n",
       "    </tr>\n",
       "    <tr>\n",
       "      <th>2592</th>\n",
       "      <td>Reported  24-Jan-2001</td>\n",
       "      <td>2001.0</td>\n",
       "      <td>Watercraft</td>\n",
       "      <td>AUSTRALIA</td>\n",
       "      <td>New South Wales</td>\n",
       "      <td>South West Rocks</td>\n",
       "      <td>Kayaking</td>\n",
       "      <td>Mark Elkinton</td>\n",
       "      <td>M</td>\n",
       "      <td>35</td>\n",
       "      <td>No injury, shark rammed &amp; bit kayak</td>\n",
       "      <td>N</td>\n",
       "      <td>NaN</td>\n",
       "      <td>5 m shark</td>\n",
       "      <td>Daily Telegraph 1/24/2001, p.19</td>\n",
       "      <td>2001.01.24.R-Elkinton.pdf</td>\n",
       "      <td>http://sharkattackfile.net/spreadsheets/pdf_di...</td>\n",
       "      <td>http://sharkattackfile.net/spreadsheets/pdf_di...</td>\n",
       "      <td>2001.01.24.R</td>\n",
       "      <td>2001.01.24.R</td>\n",
       "      <td>4350.0</td>\n",
       "      <td>NaN</td>\n",
       "      <td>NaN</td>\n",
       "    </tr>\n",
       "  </tbody>\n",
       "</table>\n",
       "</div>"
      ],
      "text/plain": [
       "                       Date    Year        Type    Country            State  \\\n",
       "1360            02-Sep-2012  2012.0  Unprovoked        USA          Florida   \n",
       "6907              1941-1942     0.0  Unprovoked       IRAQ           Basrah   \n",
       "2113            27-Feb-2006  2006.0  Unprovoked        USA           Hawaii   \n",
       "6879   No date, Before 1963     0.0  Unprovoked  SINGAPORE              NaN   \n",
       "2592  Reported  24-Jan-2001  2001.0  Watercraft  AUSTRALIA  New South Wales   \n",
       "\n",
       "                                               Location         Activity  \\\n",
       "1360                   New Smyrna Beach, Volusia County  Boogie boarding   \n",
       "6907        Shatt-el Arab River near a small boat stand         Swimming   \n",
       "2113                                       Makena, Maui         Standing   \n",
       "6879  Keppel Harbor,  2 miles from Singapore city ce...         Swimming   \n",
       "2592                                   South West Rocks         Kayaking   \n",
       "\n",
       "               Name  Sex       Age  \\\n",
       "1360         female    F         8   \n",
       "6907           male    M  13 or 14   \n",
       "2113  Nikky Raleigh    F        15   \n",
       "6879            NaN  NaN       NaN   \n",
       "2592  Mark Elkinton    M        35   \n",
       "\n",
       "                                             Injury Unnamed: 11       Time  \\\n",
       "1360               Puncture wounds to calf and hand           N      18h30   \n",
       "6907  FATAL, left leg bitten with severe blood loss           Y  Afternoon   \n",
       "2113                  Deep laceration to right calf           N      16h30   \n",
       "6879                                      Recovered           N        NaN   \n",
       "2592            No injury, shark rammed & bit kayak           N        NaN   \n",
       "\n",
       "              Species                                  Source  \\\n",
       "1360  3.5' to 4' shark                         WYTV, 9/3/2012   \n",
       "6907        Bull shark           B.W. Coad & L.A.J. Al-Hassan   \n",
       "2113    5' to 7' shark  G.T. Kubota, Star Bulletin, 2/28/2006   \n",
       "6879               NaN           V.M. Coppleson (1958), p.266   \n",
       "2592         5 m shark        Daily Telegraph 1/24/2001, p.19   \n",
       "\n",
       "                                     pdf  \\\n",
       "1360           2012.09.02.b-NSB-girl.pdf   \n",
       "6907           ND-0038-Shatt-al-Arab.pdf   \n",
       "2113              2006.02.27-Raleigh.pdf   \n",
       "6879  ND-0073-KeppelHarbourSingapore.pdf   \n",
       "2592           2001.01.24.R-Elkinton.pdf   \n",
       "\n",
       "                                           href formula  \\\n",
       "1360  http://sharkattackfile.net/spreadsheets/pdf_di...   \n",
       "6907  http://sharkattackfile.net/spreadsheets/pdf_di...   \n",
       "2113  http://sharkattackfile.net/spreadsheets/pdf_di...   \n",
       "6879  http://sharkattackfile.net/spreadsheets/pdf_di...   \n",
       "2592  http://sharkattackfile.net/spreadsheets/pdf_di...   \n",
       "\n",
       "                                                   href   Case Number  \\\n",
       "1360  http://sharkattackfile.net/spreadsheets/pdf_di...  2012.09.02.b   \n",
       "6907  http://sharkattackfile.net/spreadsheets/pdf_di...       ND.0038   \n",
       "2113  http://sharkattackfile.net/spreadsheets/pdf_di...    2006.02.27   \n",
       "6879  http://sharkattackfile.net/spreadsheets/pdf_di...       ND.0073   \n",
       "2592  http://sharkattackfile.net/spreadsheets/pdf_di...  2001.01.24.R   \n",
       "\n",
       "     Case Number.1  original order Unnamed: 21 Unnamed: 22  \n",
       "1360  2012.09.02.b          5582.0         NaN         NaN  \n",
       "6907       ND.0038            38.0         NaN         NaN  \n",
       "2113    2006.02.27          4829.0         NaN         NaN  \n",
       "6879       ND.0073            66.0         NaN         NaN  \n",
       "2592  2001.01.24.R          4350.0         NaN         NaN  "
      ]
     },
     "execution_count": 12,
     "metadata": {},
     "output_type": "execute_result"
    }
   ],
   "source": [
    "df1.sample(5)"
   ]
  },
  {
   "cell_type": "code",
   "execution_count": 13,
   "id": "312d4d11",
   "metadata": {
    "tags": []
   },
   "outputs": [
    {
     "data": {
      "text/html": [
       "<div>\n",
       "<style scoped>\n",
       "    .dataframe tbody tr th:only-of-type {\n",
       "        vertical-align: middle;\n",
       "    }\n",
       "\n",
       "    .dataframe tbody tr th {\n",
       "        vertical-align: top;\n",
       "    }\n",
       "\n",
       "    .dataframe thead th {\n",
       "        text-align: right;\n",
       "    }\n",
       "</style>\n",
       "<table border=\"1\" class=\"dataframe\">\n",
       "  <thead>\n",
       "    <tr style=\"text-align: right;\">\n",
       "      <th></th>\n",
       "      <th>Date</th>\n",
       "      <th>Year</th>\n",
       "      <th>Type</th>\n",
       "      <th>Country</th>\n",
       "      <th>State</th>\n",
       "      <th>Location</th>\n",
       "      <th>Activity</th>\n",
       "      <th>Name</th>\n",
       "      <th>Sex</th>\n",
       "      <th>Age</th>\n",
       "      <th>Injury</th>\n",
       "      <th>Unnamed: 11</th>\n",
       "      <th>Time</th>\n",
       "      <th>Species</th>\n",
       "      <th>Source</th>\n",
       "      <th>pdf</th>\n",
       "      <th>href formula</th>\n",
       "      <th>href</th>\n",
       "      <th>Case Number</th>\n",
       "      <th>Case Number.1</th>\n",
       "      <th>original order</th>\n",
       "      <th>Unnamed: 21</th>\n",
       "      <th>Unnamed: 22</th>\n",
       "    </tr>\n",
       "  </thead>\n",
       "  <tbody>\n",
       "    <tr>\n",
       "      <th>0</th>\n",
       "      <td>15 Mar 2024</td>\n",
       "      <td>2024.0</td>\n",
       "      <td>Unprovoked</td>\n",
       "      <td>AUSTRALIA</td>\n",
       "      <td>Queensland</td>\n",
       "      <td>Bargara Beach</td>\n",
       "      <td>Swimming</td>\n",
       "      <td>Brooklyn Sauer</td>\n",
       "      <td>F</td>\n",
       "      <td>13</td>\n",
       "      <td>Minor injuries to back, abdomen and legs</td>\n",
       "      <td>NaN</td>\n",
       "      <td>16h00</td>\n",
       "      <td>Tiger shark</td>\n",
       "      <td>Yahoo News, 3/15/2024</td>\n",
       "      <td>NaN</td>\n",
       "      <td>NaN</td>\n",
       "      <td>NaN</td>\n",
       "      <td>NaN</td>\n",
       "      <td>NaN</td>\n",
       "      <td>NaN</td>\n",
       "      <td>NaN</td>\n",
       "      <td>NaN</td>\n",
       "    </tr>\n",
       "    <tr>\n",
       "      <th>1</th>\n",
       "      <td>04 Mar 2024</td>\n",
       "      <td>2024.0</td>\n",
       "      <td>Unprovoked</td>\n",
       "      <td>USA</td>\n",
       "      <td>Hawaii</td>\n",
       "      <td>Old Man's, Waikiki</td>\n",
       "      <td>Surfing</td>\n",
       "      <td>Matthew White</td>\n",
       "      <td>M</td>\n",
       "      <td>NaN</td>\n",
       "      <td>No injury, shark bit surfboard</td>\n",
       "      <td>N</td>\n",
       "      <td>NaN</td>\n",
       "      <td>Tiger shark 8'</td>\n",
       "      <td>Surfer, 3/6/2024F</td>\n",
       "      <td>NaN</td>\n",
       "      <td>NaN</td>\n",
       "      <td>NaN</td>\n",
       "      <td>NaN</td>\n",
       "      <td>NaN</td>\n",
       "      <td>NaN</td>\n",
       "      <td>NaN</td>\n",
       "      <td>NaN</td>\n",
       "    </tr>\n",
       "    <tr>\n",
       "      <th>2</th>\n",
       "      <td>02 Mar-2024</td>\n",
       "      <td>2024.0</td>\n",
       "      <td>Unprovoked</td>\n",
       "      <td>USA</td>\n",
       "      <td>Hawaii</td>\n",
       "      <td>Rainbows, Oahu</td>\n",
       "      <td>Swimming</td>\n",
       "      <td>NaN</td>\n",
       "      <td>F</td>\n",
       "      <td>11</td>\n",
       "      <td>Lacerations to left foot</td>\n",
       "      <td>N</td>\n",
       "      <td>13h30</td>\n",
       "      <td>3' to 4' shark</td>\n",
       "      <td>Hawaii News Now, 3/4/2024</td>\n",
       "      <td>NaN</td>\n",
       "      <td>NaN</td>\n",
       "      <td>NaN</td>\n",
       "      <td>NaN</td>\n",
       "      <td>NaN</td>\n",
       "      <td>NaN</td>\n",
       "      <td>NaN</td>\n",
       "      <td>NaN</td>\n",
       "    </tr>\n",
       "  </tbody>\n",
       "</table>\n",
       "</div>"
      ],
      "text/plain": [
       "          Date    Year        Type    Country       State            Location  \\\n",
       "0  15 Mar 2024  2024.0  Unprovoked  AUSTRALIA  Queensland       Bargara Beach   \n",
       "1  04 Mar 2024  2024.0  Unprovoked        USA      Hawaii  Old Man's, Waikiki   \n",
       "2  02 Mar-2024  2024.0  Unprovoked        USA      Hawaii      Rainbows, Oahu   \n",
       "\n",
       "   Activity            Name Sex  Age  \\\n",
       "0  Swimming  Brooklyn Sauer   F   13   \n",
       "1   Surfing   Matthew White   M  NaN   \n",
       "2  Swimming             NaN   F   11   \n",
       "\n",
       "                                     Injury Unnamed: 11   Time  \\\n",
       "0  Minor injuries to back, abdomen and legs         NaN  16h00   \n",
       "1            No injury, shark bit surfboard           N    NaN   \n",
       "2                  Lacerations to left foot           N  13h30   \n",
       "\n",
       "         Species                      Source  pdf href formula href  \\\n",
       "0     Tiger shark      Yahoo News, 3/15/2024  NaN          NaN  NaN   \n",
       "1  Tiger shark 8'          Surfer, 3/6/2024F  NaN          NaN  NaN   \n",
       "2  3' to 4' shark  Hawaii News Now, 3/4/2024  NaN          NaN  NaN   \n",
       "\n",
       "  Case Number Case Number.1  original order Unnamed: 21 Unnamed: 22  \n",
       "0         NaN           NaN             NaN         NaN         NaN  \n",
       "1         NaN           NaN             NaN         NaN         NaN  \n",
       "2         NaN           NaN             NaN         NaN         NaN  "
      ]
     },
     "execution_count": 13,
     "metadata": {},
     "output_type": "execute_result"
    }
   ],
   "source": [
    "df1.head(3)"
   ]
  },
  {
   "cell_type": "code",
   "execution_count": 14,
   "id": "5ac69c53-fafd-4967-9206-98d44ed4894f",
   "metadata": {},
   "outputs": [
    {
     "data": {
      "text/html": [
       "<div>\n",
       "<style scoped>\n",
       "    .dataframe tbody tr th:only-of-type {\n",
       "        vertical-align: middle;\n",
       "    }\n",
       "\n",
       "    .dataframe tbody tr th {\n",
       "        vertical-align: top;\n",
       "    }\n",
       "\n",
       "    .dataframe thead th {\n",
       "        text-align: right;\n",
       "    }\n",
       "</style>\n",
       "<table border=\"1\" class=\"dataframe\">\n",
       "  <thead>\n",
       "    <tr style=\"text-align: right;\">\n",
       "      <th></th>\n",
       "      <th>Date</th>\n",
       "      <th>Year</th>\n",
       "      <th>Type</th>\n",
       "      <th>Country</th>\n",
       "      <th>State</th>\n",
       "      <th>Location</th>\n",
       "      <th>Activity</th>\n",
       "      <th>Name</th>\n",
       "      <th>Sex</th>\n",
       "      <th>Age</th>\n",
       "      <th>Injury</th>\n",
       "      <th>Unnamed: 11</th>\n",
       "      <th>Time</th>\n",
       "      <th>Species</th>\n",
       "      <th>Source</th>\n",
       "      <th>pdf</th>\n",
       "      <th>href formula</th>\n",
       "      <th>href</th>\n",
       "      <th>Case Number</th>\n",
       "      <th>Case Number.1</th>\n",
       "      <th>original order</th>\n",
       "      <th>Unnamed: 21</th>\n",
       "      <th>Unnamed: 22</th>\n",
       "    </tr>\n",
       "  </thead>\n",
       "  <tbody>\n",
       "    <tr>\n",
       "      <th>6966</th>\n",
       "      <td>NaN</td>\n",
       "      <td>NaN</td>\n",
       "      <td>NaN</td>\n",
       "      <td>NaN</td>\n",
       "      <td>NaN</td>\n",
       "      <td>NaN</td>\n",
       "      <td>NaN</td>\n",
       "      <td>NaN</td>\n",
       "      <td>NaN</td>\n",
       "      <td>NaN</td>\n",
       "      <td>NaN</td>\n",
       "      <td>NaN</td>\n",
       "      <td>NaN</td>\n",
       "      <td>NaN</td>\n",
       "      <td>NaN</td>\n",
       "      <td>NaN</td>\n",
       "      <td>http://sharkattackfile.net/spreadsheets/pdf_di...</td>\n",
       "      <td>NaN</td>\n",
       "      <td>NaN</td>\n",
       "      <td>NaN</td>\n",
       "      <td>NaN</td>\n",
       "      <td>NaN</td>\n",
       "      <td>NaN</td>\n",
       "    </tr>\n",
       "    <tr>\n",
       "      <th>6967</th>\n",
       "      <td>NaN</td>\n",
       "      <td>NaN</td>\n",
       "      <td>NaN</td>\n",
       "      <td>NaN</td>\n",
       "      <td>NaN</td>\n",
       "      <td>NaN</td>\n",
       "      <td>NaN</td>\n",
       "      <td>NaN</td>\n",
       "      <td>NaN</td>\n",
       "      <td>NaN</td>\n",
       "      <td>NaN</td>\n",
       "      <td>NaN</td>\n",
       "      <td>NaN</td>\n",
       "      <td>NaN</td>\n",
       "      <td>NaN</td>\n",
       "      <td>NaN</td>\n",
       "      <td>http://sharkattackfile.net/spreadsheets/pdf_di...</td>\n",
       "      <td>NaN</td>\n",
       "      <td>NaN</td>\n",
       "      <td>NaN</td>\n",
       "      <td>NaN</td>\n",
       "      <td>NaN</td>\n",
       "      <td>NaN</td>\n",
       "    </tr>\n",
       "    <tr>\n",
       "      <th>6968</th>\n",
       "      <td>NaN</td>\n",
       "      <td>NaN</td>\n",
       "      <td>NaN</td>\n",
       "      <td>NaN</td>\n",
       "      <td>NaN</td>\n",
       "      <td>NaN</td>\n",
       "      <td>NaN</td>\n",
       "      <td>NaN</td>\n",
       "      <td>NaN</td>\n",
       "      <td>NaN</td>\n",
       "      <td>NaN</td>\n",
       "      <td>NaN</td>\n",
       "      <td>NaN</td>\n",
       "      <td>NaN</td>\n",
       "      <td>NaN</td>\n",
       "      <td>NaN</td>\n",
       "      <td>http://sharkattackfile.net/spreadsheets/pdf_di...</td>\n",
       "      <td>NaN</td>\n",
       "      <td>NaN</td>\n",
       "      <td>NaN</td>\n",
       "      <td>NaN</td>\n",
       "      <td>NaN</td>\n",
       "      <td>NaN</td>\n",
       "    </tr>\n",
       "  </tbody>\n",
       "</table>\n",
       "</div>"
      ],
      "text/plain": [
       "     Date  Year Type Country State Location Activity Name  Sex  Age Injury  \\\n",
       "6966  NaN   NaN  NaN     NaN   NaN      NaN      NaN  NaN  NaN  NaN    NaN   \n",
       "6967  NaN   NaN  NaN     NaN   NaN      NaN      NaN  NaN  NaN  NaN    NaN   \n",
       "6968  NaN   NaN  NaN     NaN   NaN      NaN      NaN  NaN  NaN  NaN    NaN   \n",
       "\n",
       "     Unnamed: 11 Time Species  Source  pdf  \\\n",
       "6966         NaN  NaN      NaN    NaN  NaN   \n",
       "6967         NaN  NaN      NaN    NaN  NaN   \n",
       "6968         NaN  NaN      NaN    NaN  NaN   \n",
       "\n",
       "                                           href formula href Case Number  \\\n",
       "6966  http://sharkattackfile.net/spreadsheets/pdf_di...  NaN         NaN   \n",
       "6967  http://sharkattackfile.net/spreadsheets/pdf_di...  NaN         NaN   \n",
       "6968  http://sharkattackfile.net/spreadsheets/pdf_di...  NaN         NaN   \n",
       "\n",
       "     Case Number.1  original order Unnamed: 21 Unnamed: 22  \n",
       "6966           NaN             NaN         NaN         NaN  \n",
       "6967           NaN             NaN         NaN         NaN  \n",
       "6968           NaN             NaN         NaN         NaN  "
      ]
     },
     "execution_count": 14,
     "metadata": {},
     "output_type": "execute_result"
    }
   ],
   "source": [
    "df1.tail(3)"
   ]
  },
  {
   "cell_type": "code",
   "execution_count": 15,
   "id": "08f69724",
   "metadata": {},
   "outputs": [
    {
     "data": {
      "text/plain": [
       "(6969, 23)"
      ]
     },
     "execution_count": 15,
     "metadata": {},
     "output_type": "execute_result"
    }
   ],
   "source": [
    "df1.shape"
   ]
  },
  {
   "cell_type": "code",
   "execution_count": 16,
   "id": "2325cefc-810f-4a81-9638-1c5df0b8f42b",
   "metadata": {},
   "outputs": [
    {
     "name": "stdout",
     "output_type": "stream",
     "text": [
      "<class 'pandas.core.frame.DataFrame'>\n",
      "RangeIndex: 6969 entries, 0 to 6968\n",
      "Data columns (total 23 columns):\n",
      " #   Column          Non-Null Count  Dtype  \n",
      "---  ------          --------------  -----  \n",
      " 0   Date            6944 non-null   object \n",
      " 1   Year            6942 non-null   float64\n",
      " 2   Type            6926 non-null   object \n",
      " 3   Country         6894 non-null   object \n",
      " 4   State           6462 non-null   object \n",
      " 5   Location        6379 non-null   object \n",
      " 6   Activity        6358 non-null   object \n",
      " 7   Name            6724 non-null   object \n",
      " 8   Sex             6365 non-null   object \n",
      " 9   Age             3950 non-null   object \n",
      " 10  Injury          6909 non-null   object \n",
      " 11  Unnamed: 11     6382 non-null   object \n",
      " 12  Time            3418 non-null   object \n",
      " 13  Species         3812 non-null   object \n",
      " 14  Source          6925 non-null   object \n",
      " 15  pdf             6799 non-null   object \n",
      " 16  href formula    6819 non-null   object \n",
      " 17  href            6796 non-null   object \n",
      " 18  Case Number     6798 non-null   object \n",
      " 19  Case Number.1   6797 non-null   object \n",
      " 20  original order  6799 non-null   float64\n",
      " 21  Unnamed: 21     1 non-null      object \n",
      " 22  Unnamed: 22     2 non-null      object \n",
      "dtypes: float64(2), object(21)\n",
      "memory usage: 1.2+ MB\n"
     ]
    }
   ],
   "source": [
    "df1.info()"
   ]
  },
  {
   "cell_type": "markdown",
   "id": "6088a8eb",
   "metadata": {
    "tags": []
   },
   "source": [
    "<h2 style=\"color: #008080;\">Standardize Columns</h2>"
   ]
  },
  {
   "cell_type": "markdown",
   "id": "417a8a85-bc10-46e3-9494-fac45f62ad64",
   "metadata": {},
   "source": [
    "<h1 style=\"color: #00BFFF;\">02 | Data Cleaning</h1>"
   ]
  },
  {
   "cell_type": "markdown",
   "id": "58ec1312-cfbe-4a90-829c-d4ace665595b",
   "metadata": {
    "tags": []
   },
   "source": [
    "<h2 style=\"color: #008080;\">Feature Selection (Dropping unnecesary features)</h2>"
   ]
  },
  {
   "cell_type": "markdown",
   "id": "4d6cfd32-5448-4962-882e-40f435a41842",
   "metadata": {
    "tags": []
   },
   "source": [
    "<h2 style=\"color: #008080;\">Cleaning function</h2>"
   ]
  },
  {
   "cell_type": "code",
   "execution_count": 21,
   "id": "1568f50b",
   "metadata": {},
   "outputs": [],
   "source": [
    "def cleaning(df1): # functions for all general cleaning steps on the entire dataset\n",
    "\n",
    "    # dropping all columns we don't need for the cleaning and won't be using in the analysis\n",
    "    df1.drop(columns=[\"Type\", \"Time\", \"Species \", \"Source\", \"pdf\", \"href formula\", \"href\", \"Case Number\", \"Case Number.1\", \"original order\", \"Unnamed: 21\", \"Unnamed: 22\"], inplace=True)\n",
    "\n",
    "    df1.dropna(how='all') # dropping all rows with only NaNs\n",
    "\n",
    "    df1.drop_duplicates(inplace=True) # dropping all duplicates\n",
    "\n",
    "    df1.columns = [col.lower().replace(\" \", \"_\") for col in df1.columns] # renaming all columns to snakecase and _\n",
    "\n",
    "    df1.rename(columns= {\"unnamed:_11\": \"fatal\"}, inplace=True) # renaiming specific column\n",
    "\n",
    "cleaning(df1) # calling the cleaning function"
   ]
  },
  {
   "cell_type": "code",
   "execution_count": 22,
   "id": "c6d4403b",
   "metadata": {},
   "outputs": [
    {
     "data": {
      "text/plain": [
       "Index(['date', 'year', 'country', 'state', 'location', 'activity', 'name',\n",
       "       'sex', 'age', 'injury', 'fatal'],\n",
       "      dtype='object')"
      ]
     },
     "execution_count": 22,
     "metadata": {},
     "output_type": "execute_result"
    }
   ],
   "source": [
    "df1.columns"
   ]
  },
  {
   "cell_type": "code",
   "execution_count": 23,
   "id": "aa87a019-c142-458b-a3c6-426ca3f9ca84",
   "metadata": {},
   "outputs": [
    {
     "data": {
      "text/plain": [
       "(6942, 11)"
      ]
     },
     "execution_count": 23,
     "metadata": {},
     "output_type": "execute_result"
    }
   ],
   "source": [
    "df1.shape"
   ]
  },
  {
   "cell_type": "code",
   "execution_count": 24,
   "id": "fb3f1b10-082f-4c9b-b90a-310cdf19afe2",
   "metadata": {},
   "outputs": [
    {
     "data": {
      "text/html": [
       "<div>\n",
       "<style scoped>\n",
       "    .dataframe tbody tr th:only-of-type {\n",
       "        vertical-align: middle;\n",
       "    }\n",
       "\n",
       "    .dataframe tbody tr th {\n",
       "        vertical-align: top;\n",
       "    }\n",
       "\n",
       "    .dataframe thead th {\n",
       "        text-align: right;\n",
       "    }\n",
       "</style>\n",
       "<table border=\"1\" class=\"dataframe\">\n",
       "  <thead>\n",
       "    <tr style=\"text-align: right;\">\n",
       "      <th></th>\n",
       "      <th>date</th>\n",
       "      <th>year</th>\n",
       "      <th>country</th>\n",
       "      <th>state</th>\n",
       "      <th>location</th>\n",
       "      <th>activity</th>\n",
       "      <th>name</th>\n",
       "      <th>sex</th>\n",
       "      <th>age</th>\n",
       "      <th>injury</th>\n",
       "      <th>fatal</th>\n",
       "    </tr>\n",
       "  </thead>\n",
       "  <tbody>\n",
       "    <tr>\n",
       "      <th>3390</th>\n",
       "      <td>21-Jul-1987</td>\n",
       "      <td>1987.0</td>\n",
       "      <td>USA</td>\n",
       "      <td>Florida</td>\n",
       "      <td>Ponce Inlet, New Smyrna Beach, Volusia County</td>\n",
       "      <td>Surfing</td>\n",
       "      <td>Egor Emery</td>\n",
       "      <td>M</td>\n",
       "      <td>27</td>\n",
       "      <td>Right foot &amp; ankle lacerated</td>\n",
       "      <td>N</td>\n",
       "    </tr>\n",
       "  </tbody>\n",
       "</table>\n",
       "</div>"
      ],
      "text/plain": [
       "             date    year country    state  \\\n",
       "3390  21-Jul-1987  1987.0     USA  Florida   \n",
       "\n",
       "                                           location activity        name sex  \\\n",
       "3390  Ponce Inlet, New Smyrna Beach, Volusia County  Surfing  Egor Emery   M   \n",
       "\n",
       "     age                        injury fatal  \n",
       "3390  27  Right foot & ankle lacerated     N  "
      ]
     },
     "execution_count": 24,
     "metadata": {},
     "output_type": "execute_result"
    }
   ],
   "source": [
    "df1.sample()"
   ]
  },
  {
   "cell_type": "code",
   "execution_count": 25,
   "id": "1f0e281c-f43a-41da-987d-aef9872259fa",
   "metadata": {},
   "outputs": [
    {
     "data": {
      "text/plain": [
       "date           1\n",
       "year           3\n",
       "country       51\n",
       "state        482\n",
       "location     565\n",
       "activity     587\n",
       "name         221\n",
       "sex          580\n",
       "age         2992\n",
       "injury        36\n",
       "fatal        563\n",
       "dtype: int64"
      ]
     },
     "execution_count": 25,
     "metadata": {},
     "output_type": "execute_result"
    }
   ],
   "source": [
    "df1.isna().sum() # including \"injury\" and \"location\" and \"name\" which we don't use for the final EDA but need for the cleaning process"
   ]
  },
  {
   "cell_type": "markdown",
   "id": "ebcf3948-41cd-4525-9e41-7e0f5edb55c6",
   "metadata": {},
   "source": [
    "<h2 style=\"color: #008080;\">Cleaning specific columns</h2>\n",
    "Checking the shape and counting the NaN values after each step"
   ]
  },
  {
   "cell_type": "markdown",
   "id": "14efde5c-00e1-4c37-b253-9adcc0b4a83d",
   "metadata": {},
   "source": [
    "<h3 style=\"color: #008080;\">Cleaning \"date\" and \"year\"</h3>"
   ]
  },
  {
   "cell_type": "code",
   "execution_count": 28,
   "id": "58ea0df3-8d9b-4743-ad73-db179937e4f4",
   "metadata": {},
   "outputs": [],
   "source": [
    "# Replace non-numeric values in 'Year' column\n",
    "if 'year' in df1.columns:\n",
    "    df['year'] = pd.to_numeric(df1['year'], errors='coerce')\n",
    "\n",
    "# Drop rows with NaN in the 'Year' column\n",
    "df1 = df1.dropna(subset=['year'])\n",
    "\n",
    "# filter for years from 2000 onwards\n",
    "df1 = df1[df1['year'] >= 2000]"
   ]
  },
  {
   "cell_type": "code",
   "execution_count": 29,
   "id": "834cc7f2-f49d-4a47-b385-add30cc653ac",
   "metadata": {},
   "outputs": [
    {
     "data": {
      "text/plain": [
       "2000.0"
      ]
     },
     "execution_count": 29,
     "metadata": {},
     "output_type": "execute_result"
    }
   ],
   "source": [
    "df1.year.min()"
   ]
  },
  {
   "cell_type": "markdown",
   "id": "8de8f6cd-5209-49bf-aae4-67c67e67768b",
   "metadata": {},
   "source": [
    "<h3 style=\"color: #008080;\">Cleaning \"country\" and \"state\"</h3>"
   ]
  },
  {
   "cell_type": "code",
   "execution_count": 31,
   "id": "91375650-db71-4325-ae83-90e9bf3a7652",
   "metadata": {},
   "outputs": [],
   "source": [
    "# please note: for cleaning country and state, Chatgpt was asked for help and inspiration\n",
    "\n",
    "# 1. country\n",
    "#filling missing values of country column based on known values of state column\n",
    "state_to_country = df1.dropna(subset=['state', 'country']).drop_duplicates(subset=['state']).set_index('state')['country'].to_dict()\n",
    "df1['country'] = df1.apply(lambda row: state_to_country.get(row['state'], row['country']), axis=1)\n",
    "\n",
    "# 2. state\n",
    "#filling missing values of state column based on known values of location column\n",
    "location_to_state = df1.dropna(subset=['state', 'location']).drop_duplicates(subset=['location']).set_index('location')['state'].to_dict()\n",
    "df1['state'] = df1.apply(lambda row: location_to_state.get(row['location'], row['state']), axis=1)\n",
    "\n",
    "# 3. cleaning country column with replacing \"?\"\n",
    "df1['country'] = df1['country'].str.replace(r'\\?', '', regex=True)"
   ]
  },
  {
   "cell_type": "code",
   "execution_count": 32,
   "id": "4689997e-bb2a-4092-a715-b3d263d41a53",
   "metadata": {},
   "outputs": [
    {
     "data": {
      "text/plain": [
       "(2693, 11)"
      ]
     },
     "execution_count": 32,
     "metadata": {},
     "output_type": "execute_result"
    }
   ],
   "source": [
    "df1.shape"
   ]
  },
  {
   "cell_type": "code",
   "execution_count": 33,
   "id": "3a7b663e-c0be-40b3-abdb-65b0dcc2bbfd",
   "metadata": {},
   "outputs": [
    {
     "data": {
      "text/plain": [
       "date          0\n",
       "year          0\n",
       "country       2\n",
       "state       111\n",
       "location    107\n",
       "activity    125\n",
       "name         43\n",
       "sex         118\n",
       "age         672\n",
       "injury        8\n",
       "fatal       181\n",
       "dtype: int64"
      ]
     },
     "execution_count": 33,
     "metadata": {},
     "output_type": "execute_result"
    }
   ],
   "source": [
    "df1.isna().sum()"
   ]
  },
  {
   "cell_type": "markdown",
   "id": "ab111943-5bcc-4274-85d0-f487d6762bd9",
   "metadata": {},
   "source": [
    "<h3 style=\"color: #008080;\">Cleaning \"fatal\"</h3>"
   ]
  },
  {
   "cell_type": "code",
   "execution_count": 35,
   "id": "0baab238-9039-4552-8f89-b01872d6f989",
   "metadata": {},
   "outputs": [],
   "source": [
    "df1.fatal=df1.fatal.replace({\"UNKNOWN\": \"unknown\",\n",
    "                            \"Y x 2\": \"yes\",\n",
    "                            \"N \": \"no\",\n",
    "                            \"n\": \"no\",\n",
    "                            \" N\": \"no\",\n",
    "                            \"N\": \"no\",\n",
    "                            \"Y\": \"yes\",\n",
    "                            \"y\": \"yes\",\n",
    "                            \"Nq\": \"no\",\n",
    "                           })\n",
    "\n",
    "df1.fatal=df1.fatal.replace(2017, \"no\")\n",
    "\n",
    "# finding specific values and replacing them\n",
    "df1.at[42, 'fatal'] = \"no\" # not dead.\n",
    "df1.at[107, 'fatal'] = \"yes\" #Row 107 Chris Davis fatal.\n",
    "df1.at[191, 'fatal'] = \"unknown\" #Unknown\n",
    "df1.at[433, 'fatal'] = \"yes\" #Parts where recorverd from a shark.\n",
    "df1.at[439, 'fatal'] = \"yes\"\n",
    "df1.at[900, 'fatal'] = \"no\"\n",
    "\n",
    "# Cleaning NaN from Fatal:\n",
    "df1['injury'] = df1['injury'].str.lower()\n",
    "\n",
    "def fill_fatal(row):\n",
    "    if pd.isna(row['fatal']):\n",
    "        if row['injury'] == 'fatal':\n",
    "            return 'yes'\n",
    "        elif isinstance(row['injury'], str):\n",
    "            if 'injury' in row['injury'] or 'injured' in row['injury'] or 'injuries' in row['injury'] or 'bitten' in row['injury']:\n",
    "                return 'no'\n",
    "    return row ['fatal']\n",
    "\n",
    "df1['fatal'] = df1.apply(fill_fatal, axis = 1) # applying function to df1\n",
    "\n",
    "df1['fatal'] = df1['fatal'].fillna('unknown') # NaNs in \"fatal\" assigned to category \"unknown\""
   ]
  },
  {
   "cell_type": "code",
   "execution_count": 36,
   "id": "6c404ffd-cf4c-48c2-8ad3-9015f6548a63",
   "metadata": {},
   "outputs": [
    {
     "data": {
      "text/plain": [
       "(2693, 11)"
      ]
     },
     "execution_count": 36,
     "metadata": {},
     "output_type": "execute_result"
    }
   ],
   "source": [
    "df1.shape"
   ]
  },
  {
   "cell_type": "code",
   "execution_count": 37,
   "id": "663224f0-dfbd-417b-8e92-fe3ef2646ed1",
   "metadata": {},
   "outputs": [
    {
     "data": {
      "text/plain": [
       "date          0\n",
       "year          0\n",
       "country       2\n",
       "state       111\n",
       "location    107\n",
       "activity    125\n",
       "name         43\n",
       "sex         118\n",
       "age         672\n",
       "injury        8\n",
       "fatal         0\n",
       "dtype: int64"
      ]
     },
     "execution_count": 37,
     "metadata": {},
     "output_type": "execute_result"
    }
   ],
   "source": [
    "df1.isna().sum()"
   ]
  },
  {
   "cell_type": "code",
   "execution_count": 38,
   "id": "48d5f397-0bd5-4b35-9416-a8aabcb0cdbe",
   "metadata": {},
   "outputs": [],
   "source": [
    "# dropping \"injury\" and \"location\" (we don't need them in EDA)\n",
    "df1.drop(columns=[\"injury\", \"location\"], inplace=True)"
   ]
  },
  {
   "cell_type": "code",
   "execution_count": 39,
   "id": "7e451dd0-007a-44aa-b5ac-266f0c816ddd",
   "metadata": {},
   "outputs": [
    {
     "data": {
      "text/plain": [
       "(2693, 9)"
      ]
     },
     "execution_count": 39,
     "metadata": {},
     "output_type": "execute_result"
    }
   ],
   "source": [
    "df1.shape"
   ]
  },
  {
   "cell_type": "code",
   "execution_count": 40,
   "id": "cada291d-6086-422d-addf-95b6dd9acbaa",
   "metadata": {},
   "outputs": [
    {
     "data": {
      "text/plain": [
       "date          0\n",
       "year          0\n",
       "country       2\n",
       "state       111\n",
       "activity    125\n",
       "name         43\n",
       "sex         118\n",
       "age         672\n",
       "fatal         0\n",
       "dtype: int64"
      ]
     },
     "execution_count": 40,
     "metadata": {},
     "output_type": "execute_result"
    }
   ],
   "source": [
    "df1.isna().sum()"
   ]
  },
  {
   "cell_type": "markdown",
   "id": "25ff1001-794a-451f-bd18-dd3c7b40767b",
   "metadata": {},
   "source": [
    "<h3 style=\"color: #008080;\">Cleaning \"activity\"</h3>"
   ]
  },
  {
   "cell_type": "code",
   "execution_count": 42,
   "id": "ebd76c80-eb0b-4b54-8357-a37c126e82b1",
   "metadata": {},
   "outputs": [],
   "source": [
    "# please note: for creating the categories, Chatgpt was given several samples of data from this column and asked to group them, this was checked and adjusted\n",
    "def cat_activ(activity):\n",
    "    if pd.isna(activity):\n",
    "        return pd.NA\n",
    "\n",
    "    \n",
    "    if isinstance(activity, str): # applying .lower() to string values only\n",
    "        activity = activity.lower()\n",
    "\n",
    "        if \"surf\" in activity or \"body\" in activity or \"boogie\" in activity or \"boarding\" in activity or \"foil\" in activity or \"kite\" in activity:\n",
    "            return \"surfing\"\n",
    "        elif \"swim\" in activity or \"wading\" in activity or \"bathing\" in activity or \"floating\" in activity:\n",
    "            return \"swimming\"\n",
    "        elif \"paddle\" in activity or \"sup\" in activity:\n",
    "            return \"paddling\"\n",
    "        elif \"diving\" in activity or \"dive\" in activity or \"scuba\" in activity:\n",
    "            return \"diving\"\n",
    "        elif \"snorkel\" in activity:\n",
    "            return \"snorkeling\"\n",
    "        elif \"fish\" in activity or \"lobster\" in activity or \"prawn\" in activity or \"scallop\" in activity or \"spear\" in activity:\n",
    "            return \"fishing\"\n",
    "        elif \"kayak\" in activity or \"boat\" in activity or \"vessel\" in activity or \"capsized\" in activity or \"rowing\" in activity or \"yacht\" in activity or \"sail\" in activity or \"canoe\" in activity or \"catamaran\" in activity:\n",
    "            return \"boating\"\n",
    "        elif \"shark\" in activity or \"feeding\" in activity or \"teasing\" in activity or \"grabbing\" in activity:\n",
    "            return \"sharking\"\n",
    "        else:\n",
    "            return \"others\"\n",
    "    else:\n",
    "        return \"others\"\n",
    "\n",
    "df1[\"activity\"] = df1[\"activity\"].apply(cat_activ) # apply function for categorizing column activity\n",
    "\n",
    "df1[\"activity\"] = df1[\"activity\"].ffill() # filling up the NaNs with the value before (the proportions almost don't change (max was 0.77% in \"surfing\" which is also proportional), so this seems to be the best method)"
   ]
  },
  {
   "cell_type": "code",
   "execution_count": 43,
   "id": "19c058ec-5e8a-4266-9277-11d9eb6855c5",
   "metadata": {},
   "outputs": [
    {
     "data": {
      "text/plain": [
       "(2693, 9)"
      ]
     },
     "execution_count": 43,
     "metadata": {},
     "output_type": "execute_result"
    }
   ],
   "source": [
    "df1.shape"
   ]
  },
  {
   "cell_type": "code",
   "execution_count": 44,
   "id": "7b7e893a-3895-4e3e-8d54-473a4c3b6189",
   "metadata": {},
   "outputs": [
    {
     "data": {
      "text/plain": [
       "date          0\n",
       "year          0\n",
       "country       2\n",
       "state       111\n",
       "activity      0\n",
       "name         43\n",
       "sex         118\n",
       "age         672\n",
       "fatal         0\n",
       "dtype: int64"
      ]
     },
     "execution_count": 44,
     "metadata": {},
     "output_type": "execute_result"
    }
   ],
   "source": [
    "df1.isna().sum()"
   ]
  },
  {
   "cell_type": "markdown",
   "id": "1e6c3926-8f8e-4b22-b351-ddabab4ba0f3",
   "metadata": {},
   "source": [
    "<h3 style=\"color: #008080;\">Cleaning \"sex\"</h3>"
   ]
  },
  {
   "cell_type": "code",
   "execution_count": 46,
   "id": "9073a68d-3a30-46e1-a216-6aadd8a16887",
   "metadata": {},
   "outputs": [],
   "source": [
    "df1.sex=df1.sex.replace({\" M\": \"M\",\n",
    "                         \"M \": \"M\",\n",
    "                         \"lli\": \"M\",\n",
    "                         \"N\": \"M\",\n",
    "                         \"M x 2\": \"M\",\n",
    "                         \".\": \"M\",\n",
    "                           })\n",
    "\n",
    "df1[\"sex\"] = df1[\"sex\"].ffill() # filling the nans with ffill because the proportions almost don't change (0.22% increase/decrease in each category)"
   ]
  },
  {
   "cell_type": "code",
   "execution_count": 47,
   "id": "14d11ddf-7379-4ceb-9557-31747afc3cab",
   "metadata": {},
   "outputs": [
    {
     "data": {
      "text/plain": [
       "(2693, 9)"
      ]
     },
     "execution_count": 47,
     "metadata": {},
     "output_type": "execute_result"
    }
   ],
   "source": [
    "df1.shape"
   ]
  },
  {
   "cell_type": "code",
   "execution_count": 48,
   "id": "bd04b0b6-ce4a-467d-bc03-8fae08451bba",
   "metadata": {},
   "outputs": [
    {
     "data": {
      "text/plain": [
       "date          0\n",
       "year          0\n",
       "country       2\n",
       "state       111\n",
       "activity      0\n",
       "name         43\n",
       "sex           0\n",
       "age         672\n",
       "fatal         0\n",
       "dtype: int64"
      ]
     },
     "execution_count": 48,
     "metadata": {},
     "output_type": "execute_result"
    }
   ],
   "source": [
    "df1.isna().sum()"
   ]
  },
  {
   "cell_type": "code",
   "execution_count": 49,
   "id": "0a0dbc74-226c-41cd-8956-d1ddab73f19b",
   "metadata": {},
   "outputs": [],
   "source": [
    "# dropping \"name\" because not needed in EDA, only in cleaning before\n",
    "df1.drop(columns=[\"name\"], inplace=True)"
   ]
  },
  {
   "cell_type": "code",
   "execution_count": 50,
   "id": "529a37a9-4837-428b-b0af-8ad4ff3a40a6",
   "metadata": {},
   "outputs": [
    {
     "data": {
      "text/plain": [
       "(2693, 8)"
      ]
     },
     "execution_count": 50,
     "metadata": {},
     "output_type": "execute_result"
    }
   ],
   "source": [
    "df1.shape"
   ]
  },
  {
   "cell_type": "code",
   "execution_count": 51,
   "id": "acfca82b-9c33-4a5b-8332-a997a0205169",
   "metadata": {},
   "outputs": [
    {
     "data": {
      "text/plain": [
       "date          0\n",
       "year          0\n",
       "country       2\n",
       "state       111\n",
       "activity      0\n",
       "sex           0\n",
       "age         672\n",
       "fatal         0\n",
       "dtype: int64"
      ]
     },
     "execution_count": 51,
     "metadata": {},
     "output_type": "execute_result"
    }
   ],
   "source": [
    "df1.isna().sum()"
   ]
  },
  {
   "cell_type": "markdown",
   "id": "470981fb-e69e-4a8f-b055-243f6c785bc8",
   "metadata": {},
   "source": [
    "<h3 style=\"color: #008080;\">Cleaning \"age\"</h3>"
   ]
  },
  {
   "cell_type": "code",
   "execution_count": 53,
   "id": "bf113f7b-dbfe-4b28-a051-1510309f41da",
   "metadata": {},
   "outputs": [],
   "source": [
    "# Function to clean and standardize the 'Age' column\n",
    "def clean_age(age):\n",
    "    if pd.isna(age):\n",
    "        return np.nan\n",
    "\n",
    "    age = str(age).strip().lower()\n",
    "\n",
    "    # Removing unwanted characters\n",
    "    age = re.sub(r'[^0-9\\s&-]', '', age)  # Remove non-numeric characters except spaces, '&' and '-'\n",
    "    age = re.sub(r'and', '&', age)        # Normalize 'and' to '&'\n",
    "\n",
    "    # Handling multiple or unclear age entries\n",
    "    if '&' in age or 'or' in age:\n",
    "        return 'Multiple'\n",
    "    elif 'months' in age or 'minor' in age or 'teen' in age or 'young' in age:\n",
    "        return 'Under 20'\n",
    "    elif 'adult' in age:\n",
    "        return 'Adult'\n",
    "    elif 'elderly' in age:\n",
    "        return 'Elderly'\n",
    "    else:\n",
    "        # Extracting digits (assume it's a valid number)\n",
    "        numbers = re.findall(r'\\d+', age)\n",
    "        if numbers:\n",
    "            return int(numbers[0])  # Return the first number found as age\n",
    "\n",
    "    return np.nan  # If no valid age is found, return NaN\n",
    "\n",
    "# Applying the cleaning function to the 'Age' column\n",
    "df1['age'] = df1['age'].apply(clean_age)\n",
    "\n",
    "# Convert 'Cleaned_Age' to numeric values\n",
    "df1['age'] = pd.to_numeric(df1['age'], errors='coerce')\n",
    "\n",
    "# Filling missing values with the median age\n",
    "median_age = df1['age'].median()\n",
    "df1['age'] = df1['age'].fillna(median_age)\n",
    "\n",
    "# For rows where 'Multiple' was assigned, filling it with the median age\n",
    "df1.loc[df1['age'] == 'Multiple', 'age'] = median_age\n",
    "\n",
    "df1.loc[df1[\"age\"] == 2030] = median_age # replacing an outlier with the median age"
   ]
  },
  {
   "cell_type": "code",
   "execution_count": 54,
   "id": "fb9810da-596c-41bc-89a8-83b239b7e6cf",
   "metadata": {},
   "outputs": [
    {
     "data": {
      "text/plain": [
       "(2693, 8)"
      ]
     },
     "execution_count": 54,
     "metadata": {},
     "output_type": "execute_result"
    }
   ],
   "source": [
    "df1.shape"
   ]
  },
  {
   "cell_type": "code",
   "execution_count": 55,
   "id": "e27a87bc-32e0-4bd5-b35a-de1b8576ff20",
   "metadata": {},
   "outputs": [
    {
     "data": {
      "text/plain": [
       "date          0\n",
       "year          0\n",
       "country       2\n",
       "state       111\n",
       "activity      0\n",
       "sex           0\n",
       "age           0\n",
       "fatal         0\n",
       "dtype: int64"
      ]
     },
     "execution_count": 55,
     "metadata": {},
     "output_type": "execute_result"
    }
   ],
   "source": [
    "df1.isna().sum()"
   ]
  },
  {
   "cell_type": "markdown",
   "id": "dd1d6702-6828-4678-8060-ae1392e19b17",
   "metadata": {},
   "source": [
    "<h3 style=\"color: #008080;\">Cleaning \"state\" and \"country\" once again</h3>"
   ]
  },
  {
   "cell_type": "code",
   "execution_count": 57,
   "id": "562ea498-6b32-4bab-9767-4d218d7ad038",
   "metadata": {},
   "outputs": [],
   "source": [
    "df1.dropna(subset=[\"state\"], inplace=True) # dropping nans in state, then the 2 nans in country are gone as well"
   ]
  },
  {
   "cell_type": "markdown",
   "id": "896e2c07-b114-468e-a92a-64f7775f09f1",
   "metadata": {},
   "source": [
    "<h3 style=\"color: #008080;\">Final check on clean data</h3>"
   ]
  },
  {
   "cell_type": "code",
   "execution_count": 59,
   "id": "e1049e1e-1a52-4de2-a882-e82e68d38ff0",
   "metadata": {},
   "outputs": [
    {
     "data": {
      "text/plain": [
       "(2582, 8)"
      ]
     },
     "execution_count": 59,
     "metadata": {},
     "output_type": "execute_result"
    }
   ],
   "source": [
    "df1.shape"
   ]
  },
  {
   "cell_type": "code",
   "execution_count": 60,
   "id": "9bbad57f-c6ce-41e6-ae54-ba2ddc616d59",
   "metadata": {},
   "outputs": [
    {
     "data": {
      "text/plain": [
       "date        0\n",
       "year        0\n",
       "country     0\n",
       "state       0\n",
       "activity    0\n",
       "sex         0\n",
       "age         0\n",
       "fatal       0\n",
       "dtype: int64"
      ]
     },
     "execution_count": 60,
     "metadata": {},
     "output_type": "execute_result"
    }
   ],
   "source": [
    "df1.isna().sum()"
   ]
  },
  {
   "cell_type": "code",
   "execution_count": 61,
   "id": "88b63d4e-409a-474a-82c7-9c4f24fcfab3",
   "metadata": {},
   "outputs": [
    {
     "data": {
      "text/plain": [
       "date         object\n",
       "year        float64\n",
       "country      object\n",
       "state        object\n",
       "activity     object\n",
       "sex          object\n",
       "age         float64\n",
       "fatal        object\n",
       "dtype: object"
      ]
     },
     "execution_count": 61,
     "metadata": {},
     "output_type": "execute_result"
    }
   ],
   "source": [
    "df1.dtypes"
   ]
  },
  {
   "cell_type": "markdown",
   "id": "2a716449-cd20-454c-8e21-805617121efc",
   "metadata": {},
   "source": [
    "<h1 style=\"color: #00BFFF;\">03 | EDA (Exploratory Data Analysis)</h1>"
   ]
  },
  {
   "cell_type": "markdown",
   "id": "905d5af2",
   "metadata": {
    "tags": []
   },
   "source": [
    "<h3 style=\"color: #008080;\">Statistical information about the numerical columns</h3>"
   ]
  },
  {
   "cell_type": "code",
   "execution_count": 64,
   "id": "d8799518-26b0-4938-a2b8-ae60421a76a7",
   "metadata": {},
   "outputs": [
    {
     "data": {
      "text/html": [
       "<div>\n",
       "<style scoped>\n",
       "    .dataframe tbody tr th:only-of-type {\n",
       "        vertical-align: middle;\n",
       "    }\n",
       "\n",
       "    .dataframe tbody tr th {\n",
       "        vertical-align: top;\n",
       "    }\n",
       "\n",
       "    .dataframe thead th {\n",
       "        text-align: right;\n",
       "    }\n",
       "</style>\n",
       "<table border=\"1\" class=\"dataframe\">\n",
       "  <thead>\n",
       "    <tr style=\"text-align: right;\">\n",
       "      <th></th>\n",
       "      <th>date</th>\n",
       "      <th>year</th>\n",
       "      <th>country</th>\n",
       "      <th>state</th>\n",
       "      <th>activity</th>\n",
       "      <th>sex</th>\n",
       "      <th>age</th>\n",
       "      <th>fatal</th>\n",
       "    </tr>\n",
       "  </thead>\n",
       "  <tbody>\n",
       "    <tr>\n",
       "      <th>0</th>\n",
       "      <td>15 Mar 2024</td>\n",
       "      <td>2024.0</td>\n",
       "      <td>AUSTRALIA</td>\n",
       "      <td>Queensland</td>\n",
       "      <td>swimming</td>\n",
       "      <td>F</td>\n",
       "      <td>13.0</td>\n",
       "      <td>no</td>\n",
       "    </tr>\n",
       "    <tr>\n",
       "      <th>1</th>\n",
       "      <td>04 Mar 2024</td>\n",
       "      <td>2024.0</td>\n",
       "      <td>USA</td>\n",
       "      <td>Hawaii</td>\n",
       "      <td>surfing</td>\n",
       "      <td>M</td>\n",
       "      <td>28.0</td>\n",
       "      <td>no</td>\n",
       "    </tr>\n",
       "    <tr>\n",
       "      <th>2</th>\n",
       "      <td>02 Mar-2024</td>\n",
       "      <td>2024.0</td>\n",
       "      <td>USA</td>\n",
       "      <td>Hawaii</td>\n",
       "      <td>swimming</td>\n",
       "      <td>F</td>\n",
       "      <td>11.0</td>\n",
       "      <td>no</td>\n",
       "    </tr>\n",
       "    <tr>\n",
       "      <th>3</th>\n",
       "      <td>25 Feb-2024</td>\n",
       "      <td>2024.0</td>\n",
       "      <td>AUSTRALIA</td>\n",
       "      <td>Western Australia</td>\n",
       "      <td>swimming</td>\n",
       "      <td>F</td>\n",
       "      <td>46.0</td>\n",
       "      <td>no</td>\n",
       "    </tr>\n",
       "    <tr>\n",
       "      <th>4</th>\n",
       "      <td>14 Feb-2024</td>\n",
       "      <td>2024.0</td>\n",
       "      <td>INDIA</td>\n",
       "      <td>Maharashtra</td>\n",
       "      <td>fishing</td>\n",
       "      <td>M</td>\n",
       "      <td>32.0</td>\n",
       "      <td>no</td>\n",
       "    </tr>\n",
       "  </tbody>\n",
       "</table>\n",
       "</div>"
      ],
      "text/plain": [
       "          date    year    country              state  activity sex   age fatal\n",
       "0  15 Mar 2024  2024.0  AUSTRALIA         Queensland  swimming   F  13.0    no\n",
       "1  04 Mar 2024  2024.0        USA             Hawaii   surfing   M  28.0    no\n",
       "2  02 Mar-2024  2024.0        USA             Hawaii  swimming   F  11.0    no\n",
       "3  25 Feb-2024  2024.0  AUSTRALIA  Western Australia  swimming   F  46.0    no\n",
       "4  14 Feb-2024  2024.0      INDIA        Maharashtra   fishing   M  32.0    no"
      ]
     },
     "execution_count": 64,
     "metadata": {},
     "output_type": "execute_result"
    }
   ],
   "source": [
    "df1.head()"
   ]
  },
  {
   "cell_type": "code",
   "execution_count": 65,
   "id": "05b02d7b-6ad8-4aa8-9aa9-b0c826d2a0d1",
   "metadata": {},
   "outputs": [
    {
     "data": {
      "text/html": [
       "<div>\n",
       "<style scoped>\n",
       "    .dataframe tbody tr th:only-of-type {\n",
       "        vertical-align: middle;\n",
       "    }\n",
       "\n",
       "    .dataframe tbody tr th {\n",
       "        vertical-align: top;\n",
       "    }\n",
       "\n",
       "    .dataframe thead th {\n",
       "        text-align: right;\n",
       "    }\n",
       "</style>\n",
       "<table border=\"1\" class=\"dataframe\">\n",
       "  <thead>\n",
       "    <tr style=\"text-align: right;\">\n",
       "      <th></th>\n",
       "      <th>year</th>\n",
       "      <th>age</th>\n",
       "    </tr>\n",
       "  </thead>\n",
       "  <tbody>\n",
       "    <tr>\n",
       "      <th>count</th>\n",
       "      <td>2582.0</td>\n",
       "      <td>2582.0</td>\n",
       "    </tr>\n",
       "    <tr>\n",
       "      <th>mean</th>\n",
       "      <td>2011.2</td>\n",
       "      <td>30.1</td>\n",
       "    </tr>\n",
       "    <tr>\n",
       "      <th>std</th>\n",
       "      <td>39.6</td>\n",
       "      <td>14.0</td>\n",
       "    </tr>\n",
       "    <tr>\n",
       "      <th>min</th>\n",
       "      <td>28.0</td>\n",
       "      <td>2.0</td>\n",
       "    </tr>\n",
       "    <tr>\n",
       "      <th>25%</th>\n",
       "      <td>2006.0</td>\n",
       "      <td>20.0</td>\n",
       "    </tr>\n",
       "    <tr>\n",
       "      <th>50%</th>\n",
       "      <td>2012.0</td>\n",
       "      <td>28.0</td>\n",
       "    </tr>\n",
       "    <tr>\n",
       "      <th>75%</th>\n",
       "      <td>2017.0</td>\n",
       "      <td>37.0</td>\n",
       "    </tr>\n",
       "    <tr>\n",
       "      <th>max</th>\n",
       "      <td>2024.0</td>\n",
       "      <td>86.0</td>\n",
       "    </tr>\n",
       "  </tbody>\n",
       "</table>\n",
       "</div>"
      ],
      "text/plain": [
       "         year     age\n",
       "count  2582.0  2582.0\n",
       "mean   2011.2    30.1\n",
       "std      39.6    14.0\n",
       "min      28.0     2.0\n",
       "25%    2006.0    20.0\n",
       "50%    2012.0    28.0\n",
       "75%    2017.0    37.0\n",
       "max    2024.0    86.0"
      ]
     },
     "execution_count": 65,
     "metadata": {},
     "output_type": "execute_result"
    }
   ],
   "source": [
    "round(df1.describe(), 1)"
   ]
  },
  {
   "cell_type": "markdown",
   "id": "44546062",
   "metadata": {},
   "source": [
    "<h3 style=\"color: #008080;\">Grouping countries and comparing number of attacks</h3>\n",
    "Here, we are grouping the countries in three groups: USA, Australia and \"Other\" because in our Hypothesis we assumed that most shark attacks happen in Auftralia and the USA, so we want to check whether this is true."
   ]
  },
  {
   "cell_type": "code",
   "execution_count": 67,
   "id": "e83379f5-e164-433f-a15f-51657266badc",
   "metadata": {},
   "outputs": [],
   "source": [
    "# Grouping countries into 'USA', 'AUSTRALIA', and 'Other' for all other countries\n",
    "df1['Group'] = df1['country'].apply(lambda x: 'USA' if x == 'USA' else 'AUSTRALIA' if x == 'AUSTRALIA' else 'Other')"
   ]
  },
  {
   "cell_type": "code",
   "execution_count": 68,
   "id": "b83c1f11-87c6-457a-8132-d66238d4c5a3",
   "metadata": {},
   "outputs": [
    {
     "data": {
      "image/png": "[encoded data removed]",
      "text/plain": [
       "<Figure size 800x600 with 1 Axes>"
      ]
     },
     "metadata": {},
     "output_type": "display_data"
    }
   ],
   "source": [
    "# pie chart for shark attacks by country group (USA, Australia, other countries)\n",
    "plt.figure(figsize=(8, 6))\n",
    "df1['Group'].value_counts().plot.pie(autopct='%1.1f%%')\n",
    "plt.title('Proportion of Shark Attacks by countries')\n",
    "plt.show()"
   ]
  },
  {
   "cell_type": "code",
   "execution_count": 69,
   "id": "c4dba572-e88d-4d39-a1d3-e9efa7d38338",
   "metadata": {},
   "outputs": [
    {
     "data": {
      "image/png": "[encoded data removed]",
      "text/plain": [
       "<Figure size 1000x600 with 1 Axes>"
      ]
     },
     "metadata": {},
     "output_type": "display_data"
    }
   ],
   "source": [
    "#Proportion of Shark attacks in top 9 states\n",
    "# Find the top 3 states for each group\n",
    "top_3_usa_states = df1[df1['Group'] == 'USA']['state'].value_counts().nlargest(3)\n",
    "top_3_aus_states = df1[df1['Group'] == 'AUSTRALIA']['state'].value_counts().nlargest(3)\n",
    "top_3_other_states = df1[df1['Group'] == 'Other']['state'].value_counts().nlargest(3)\n",
    "\n",
    "# Combine the top states into a single series\n",
    "top_states_combined = pd.concat([top_3_usa_states, top_3_aus_states, top_3_other_states])\n",
    "\n",
    "#pie plot\n",
    "plt.figure(figsize=(10, 6))\n",
    "plt.pie(top_states_combined, labels=top_states_combined.index, autopct='%1.1f%%')\n",
    "plt.title('Proportion of Shark Attacks in Top 9 States')\n",
    "plt.show()"
   ]
  },
  {
   "cell_type": "code",
   "execution_count": 70,
   "id": "9035d5b0-5317-4d7e-840d-838a74278c56",
   "metadata": {},
   "outputs": [
    {
     "data": {
      "image/png": "[encoded data removed]",
      "text/plain": [
       "<Figure size 800x600 with 1 Axes>"
      ]
     },
     "metadata": {},
     "output_type": "display_data"
    }
   ],
   "source": [
    "# Percentage of Fatal Shark Attacks: USA, Australia and Other Countries\n",
    "\n",
    "# please note: for creating this graphic, Chatgpt was asked for help and inspiration\n",
    "\n",
    "# filter fatal values on yes and no\n",
    "df_fatal = df1[df1['fatal'].isin(['yes', 'no'])]\n",
    "\n",
    "# create a new column to group the countries into 'USA', 'Australia', and 'Other'\n",
    "df_fatal['Country Group'] = df_fatal['country'].apply(lambda x: 'Australia' if x == 'AUSTRALIA' else ('USA' if x == 'USA' else 'Other'))\n",
    "\n",
    "# count the total number of fatal attacks ('yes') and total attacks per country group\n",
    "fatal_counts = df_fatal[df_fatal['fatal'] == 'yes']['Country Group'].value_counts()\n",
    "total_counts = df_fatal['Country Group'].value_counts()\n",
    "\n",
    "# calculate the proportion of fatal attacks for each country group in percentage\n",
    "fatal_proportions = (fatal_counts / total_counts) * 100 \n",
    "\n",
    "# bar plot\n",
    "plt.figure(figsize=(8, 6))\n",
    "sns.barplot(x=fatal_proportions.index, y=fatal_proportions.values)\n",
    "\n",
    "plt.title('Percentage of Fatal Shark Attacks by Country')\n",
    "plt.ylabel('Percentage of Fatal Attacks (%)')\n",
    "plt.xlabel('Countries')\n",
    "plt.show()"
   ]
  },
  {
   "cell_type": "markdown",
   "id": "5c3ccc4b-610a-4da3-bbec-77ad8e1a340d",
   "metadata": {
    "tags": []
   },
   "source": [
    "<h3 style=\"color: #008080;\">Correlation on ....</h3>\n",
    "explanation...."
   ]
  },
  {
   "cell_type": "code",
   "execution_count": 72,
   "id": "7c3faa49-031b-466f-afd9-221216ce6d99",
   "metadata": {},
   "outputs": [
    {
     "data": {
      "text/plain": [
       "<Figure size 1200x800 with 0 Axes>"
      ]
     },
     "metadata": {},
     "output_type": "display_data"
    },
    {
     "data": {
      "image/png": "[encoded data removed]",
      "text/plain": [
       "<Figure size 1200x800 with 1 Axes>"
      ]
     },
     "metadata": {},
     "output_type": "display_data"
    }
   ],
   "source": [
    "# Comparison of Activities and Fatality (Yes/No) in USA & Australia vs Other Countries\n",
    "\n",
    "# please note: for creating this graphic, Chatgpt was asked for help and inspiration\n",
    "\n",
    "#grouping countries into 'USAAUSTRALIA', and 'Other' for all other countries\n",
    "df1['Country Group'] = df1['country'].apply(lambda x: 'USA & Australia' if x in ['USA', 'AUSTRALIA'] else 'Other')\n",
    "\n",
    "# Apply the categorization function to create a new 'activity_group' column\n",
    "df1['activity_group'] = df1['activity'].apply(cat_activ)\n",
    "\n",
    "# Filter the dataset to include only rows with 'fatal' values of 'yes' or 'no'\n",
    "df1 = df1[df1['fatal'].isin(['yes', 'no'])]\n",
    "\n",
    "# Group by 'Country Group', 'activity_group', and 'fatal', then count the number of times repeated\n",
    "activity_fatal_counts = df1.groupby(['Country Group', 'activity_group', 'fatal']).size().unstack(fill_value=0)\n",
    "\n",
    "# Plot activities and fatality in each country group\n",
    "plt.figure(figsize=(12, 8))\n",
    "activity_fatal_counts.plot(kind='bar', stacked=True, colormap='Set2', figsize=(12, 8))\n",
    "\n",
    "plt.title('Comparison of Activities and Fatality (Yes/No) in USA & Australia vs Other Countries')\n",
    "plt.ylabel('Count of Activities and Fatalities')\n",
    "plt.xlabel('Country Group and Activity')\n",
    "plt.xticks(rotation=45, ha='right')  # Rotate x-axis labels for readability\n",
    "plt.legend(title='Fatality', bbox_to_anchor=(1.05, 1), loc='upper left')\n",
    "plt.tight_layout()\n",
    "plt.show()"
   ]
  },
  {
   "cell_type": "markdown",
   "id": "e16014cc-9b6b-4452-ad61-9af6b609855f",
   "metadata": {
    "tags": []
   },
   "source": [
    "<h3 style=\"color: #008080;\">Correlation on ....</h3>"
   ]
  },
  {
   "cell_type": "code",
   "execution_count": 74,
   "id": "9fd21244-7b86-46b7-ac61-887e54636832",
   "metadata": {},
   "outputs": [
    {
     "data": {
      "text/plain": [
       "<Figure size 1200x800 with 0 Axes>"
      ]
     },
     "metadata": {},
     "output_type": "display_data"
    },
    {
     "data": {
      "image/png": "[encoded data removed]",
      "text/plain": [
       "<Figure size 1200x800 with 1 Axes>"
      ]
     },
     "metadata": {},
     "output_type": "display_data"
    }
   ],
   "source": [
    "#Count of Different Activities in USA, Australia, and Other Countries\n",
    "# create the 'Country Group' column with USA and Australia together, compared to Other countries\n",
    "df1['Country Group'] = df1['country'].apply(lambda x: 'USA & Australia' if x in ['USA', 'AUSTRALIA'] else 'Other')\n",
    "\n",
    "# create a new 'activity_group' column\n",
    "df1['activity_group'] = df1['activity'].apply(cat_activ)\n",
    "\n",
    "# Group by 'Country Group' and 'activity_group', then count its numbers\n",
    "activity_counts = df1.groupby(['Country Group', 'activity_group']).size().unstack(fill_value=0)\n",
    "\n",
    "# Plot activities in each country group\n",
    "plt.figure(figsize=(12, 8))\n",
    "activity_counts.plot(kind='bar', stacked=True, colormap='Set3', figsize=(12, 8))\n",
    "\n",
    "# Step 5: Customize the plot\n",
    "plt.title('Count of Activities in USA & Australia vs Other Countries')\n",
    "plt.ylabel('Count of Activities')\n",
    "plt.xlabel('Countries')\n",
    "plt.legend(title='Activity', bbox_to_anchor=(1.05, 1), loc='upper left')\n",
    "plt.tight_layout()\n",
    "plt.show()"
   ]
  },
  {
   "cell_type": "markdown",
   "id": "b9690e61-286e-4b57-ba42-93cd2fc4f729",
   "metadata": {
    "tags": []
   },
   "source": [
    "<h3 style=\"color: #008080;\">Correlation on ....</h3>"
   ]
  },
  {
   "cell_type": "code",
   "execution_count": 76,
   "id": "176422c7-bc29-4a15-9f71-7fbdfb84fd75",
   "metadata": {},
   "outputs": [
    {
     "data": {
      "image/png": "[encoded data removed]",
      "text/plain": [
       "<Figure size 900x700 with 1 Axes>"
      ]
     },
     "metadata": {},
     "output_type": "display_data"
    }
   ],
   "source": [
    "# Group the data by 'Year' and count the number of shark attacks per year\n",
    "shark_attacks_per_year = df.groupby('Year').size().reset_index(name='Number of Attacks')\n",
    "\n",
    "# Convert 'Year' to numeric format, handling any errors\n",
    "shark_attacks_per_year['Year'] = pd.to_numeric(shark_attacks_per_year['Year'], errors='coerce')\n",
    "\n",
    "# Drop any rows where 'Year' is NaN (if there are any non-numeric year values)\n",
    "# shark_attacks_per_year = shark_attacks_per_year.dropna(subset=['Year']) # we have no more nans\n",
    "\n",
    "# Sort the data by 'Year' to ensure the plot is ordered chronologically\n",
    "shark_attacks_per_year = shark_attacks_per_year.sort_values(by='Year')\n",
    "\n",
    "# Plot the number of shark attacks over time\n",
    "plt.figure(figsize=(9, 7))\n",
    "plt.plot(shark_attacks_per_year['Year'], shark_attacks_per_year['Number of Attacks'], marker='o')\n",
    "plt.title('Number of Shark Attacks Over Time')\n",
    "plt.xlabel('Year')\n",
    "plt.ylabel('Number of Attacks')\n",
    "plt.grid(True)\n",
    "plt.show()"
   ]
  },
  {
   "cell_type": "code",
   "execution_count": 77,
   "id": "d818efa0-a3ab-4f3c-b5af-7db06494ccf3",
   "metadata": {},
   "outputs": [
    {
     "data": {
      "text/html": [
       "<div>\n",
       "<style scoped>\n",
       "    .dataframe tbody tr th:only-of-type {\n",
       "        vertical-align: middle;\n",
       "    }\n",
       "\n",
       "    .dataframe tbody tr th {\n",
       "        vertical-align: top;\n",
       "    }\n",
       "\n",
       "    .dataframe thead th {\n",
       "        text-align: right;\n",
       "    }\n",
       "</style>\n",
       "<table border=\"1\" class=\"dataframe\">\n",
       "  <thead>\n",
       "    <tr style=\"text-align: right;\">\n",
       "      <th>fatal</th>\n",
       "      <th>no</th>\n",
       "      <th>yes</th>\n",
       "    </tr>\n",
       "    <tr>\n",
       "      <th>country</th>\n",
       "      <th></th>\n",
       "      <th></th>\n",
       "    </tr>\n",
       "  </thead>\n",
       "  <tbody>\n",
       "    <tr>\n",
       "      <th>USA</th>\n",
       "      <td>1234.0</td>\n",
       "      <td>30.0</td>\n",
       "    </tr>\n",
       "    <tr>\n",
       "      <th>AUSTRALIA</th>\n",
       "      <td>453.0</td>\n",
       "      <td>54.0</td>\n",
       "    </tr>\n",
       "    <tr>\n",
       "      <th>SOUTH AFRICA</th>\n",
       "      <td>116.0</td>\n",
       "      <td>24.0</td>\n",
       "    </tr>\n",
       "    <tr>\n",
       "      <th>BAHAMAS</th>\n",
       "      <td>54.0</td>\n",
       "      <td>5.0</td>\n",
       "    </tr>\n",
       "    <tr>\n",
       "      <th>NEW ZEALAND</th>\n",
       "      <td>52.0</td>\n",
       "      <td>5.0</td>\n",
       "    </tr>\n",
       "    <tr>\n",
       "      <th>...</th>\n",
       "      <td>...</td>\n",
       "      <td>...</td>\n",
       "    </tr>\n",
       "    <tr>\n",
       "      <th>GULF OF ADEN</th>\n",
       "      <td>NaN</td>\n",
       "      <td>1.0</td>\n",
       "    </tr>\n",
       "    <tr>\n",
       "      <th>MeXICO</th>\n",
       "      <td>NaN</td>\n",
       "      <td>1.0</td>\n",
       "    </tr>\n",
       "    <tr>\n",
       "      <th>OKINAWA</th>\n",
       "      <td>NaN</td>\n",
       "      <td>1.0</td>\n",
       "    </tr>\n",
       "    <tr>\n",
       "      <th>Sierra Leone</th>\n",
       "      <td>NaN</td>\n",
       "      <td>1.0</td>\n",
       "    </tr>\n",
       "    <tr>\n",
       "      <th>YEMEN</th>\n",
       "      <td>NaN</td>\n",
       "      <td>1.0</td>\n",
       "    </tr>\n",
       "  </tbody>\n",
       "</table>\n",
       "<p>87 rows × 2 columns</p>\n",
       "</div>"
      ],
      "text/plain": [
       "fatal             no   yes\n",
       "country                   \n",
       "USA           1234.0  30.0\n",
       "AUSTRALIA      453.0  54.0\n",
       "SOUTH AFRICA   116.0  24.0\n",
       "BAHAMAS         54.0   5.0\n",
       "NEW ZEALAND     52.0   5.0\n",
       "...              ...   ...\n",
       "GULF OF ADEN     NaN   1.0\n",
       "MeXICO           NaN   1.0\n",
       "OKINAWA          NaN   1.0\n",
       "Sierra Leone     NaN   1.0\n",
       "YEMEN            NaN   1.0\n",
       "\n",
       "[87 rows x 2 columns]"
      ]
     },
     "execution_count": 77,
     "metadata": {},
     "output_type": "execute_result"
    }
   ],
   "source": [
    "country_df = df1.groupby(['country', 'fatal']).size().unstack()\n",
    "sorted_country_df = country_df.sort_values(['no', 'yes'], ascending=False)\n",
    "sorted_country_df"
   ]
  },
  {
   "cell_type": "code",
   "execution_count": 78,
   "id": "11ea43fc-8e46-4b48-80c8-751d5f02dc5f",
   "metadata": {},
   "outputs": [
    {
     "data": {
      "text/html": [
       "<div>\n",
       "<style scoped>\n",
       "    .dataframe tbody tr th:only-of-type {\n",
       "        vertical-align: middle;\n",
       "    }\n",
       "\n",
       "    .dataframe tbody tr th {\n",
       "        vertical-align: top;\n",
       "    }\n",
       "\n",
       "    .dataframe thead th {\n",
       "        text-align: right;\n",
       "    }\n",
       "</style>\n",
       "<table border=\"1\" class=\"dataframe\">\n",
       "  <thead>\n",
       "    <tr style=\"text-align: right;\">\n",
       "      <th>fatal</th>\n",
       "      <th>no</th>\n",
       "      <th>yes</th>\n",
       "    </tr>\n",
       "    <tr>\n",
       "      <th>activity</th>\n",
       "      <th></th>\n",
       "      <th></th>\n",
       "    </tr>\n",
       "  </thead>\n",
       "  <tbody>\n",
       "    <tr>\n",
       "      <th>surfing</th>\n",
       "      <td>982.0</td>\n",
       "      <td>68.0</td>\n",
       "    </tr>\n",
       "    <tr>\n",
       "      <th>swimming</th>\n",
       "      <td>452.0</td>\n",
       "      <td>72.0</td>\n",
       "    </tr>\n",
       "    <tr>\n",
       "      <th>fishing</th>\n",
       "      <td>374.0</td>\n",
       "      <td>28.0</td>\n",
       "    </tr>\n",
       "    <tr>\n",
       "      <th>others</th>\n",
       "      <td>126.0</td>\n",
       "      <td>15.0</td>\n",
       "    </tr>\n",
       "    <tr>\n",
       "      <th>diving</th>\n",
       "      <td>120.0</td>\n",
       "      <td>22.0</td>\n",
       "    </tr>\n",
       "    <tr>\n",
       "      <th>snorkeling</th>\n",
       "      <td>97.0</td>\n",
       "      <td>14.0</td>\n",
       "    </tr>\n",
       "    <tr>\n",
       "      <th>boating</th>\n",
       "      <td>56.0</td>\n",
       "      <td>1.0</td>\n",
       "    </tr>\n",
       "    <tr>\n",
       "      <th>sharking</th>\n",
       "      <td>38.0</td>\n",
       "      <td>NaN</td>\n",
       "    </tr>\n",
       "    <tr>\n",
       "      <th>paddling</th>\n",
       "      <td>3.0</td>\n",
       "      <td>NaN</td>\n",
       "    </tr>\n",
       "  </tbody>\n",
       "</table>\n",
       "</div>"
      ],
      "text/plain": [
       "fatal          no   yes\n",
       "activity               \n",
       "surfing     982.0  68.0\n",
       "swimming    452.0  72.0\n",
       "fishing     374.0  28.0\n",
       "others      126.0  15.0\n",
       "diving      120.0  22.0\n",
       "snorkeling   97.0  14.0\n",
       "boating      56.0   1.0\n",
       "sharking     38.0   NaN\n",
       "paddling      3.0   NaN"
      ]
     },
     "execution_count": 78,
     "metadata": {},
     "output_type": "execute_result"
    }
   ],
   "source": [
    "activity_df = df1.groupby(['activity', 'fatal']).size().unstack()\n",
    "sorted_activity_df = activity_df.sort_values(['no', 'yes'], ascending=False)\n",
    "sorted_activity_df"
   ]
  },
  {
   "cell_type": "markdown",
   "id": "32bb65f9-6c5a-4f39-bb90-490d04268888",
   "metadata": {
    "tags": []
   },
   "source": [
    "<h3 style=\"color: #008080;\">Correlation on ....</h3>"
   ]
  },
  {
   "cell_type": "markdown",
   "id": "9483a5fa-c612-4f36-97ee-9235646fd721",
   "metadata": {
    "tags": []
   },
   "source": [
    "<h3 style=\"color: #008080;\">Correlation on ....</h3>"
   ]
  },
  {
   "cell_type": "markdown",
   "id": "c9135f41-5016-482d-8e0c-c49023c9ae50",
   "metadata": {
    "tags": []
   },
   "source": [
    "<h1 style=\"color: #00BFFF;\">05 | Visualization</h1>"
   ]
  }
 ],
 "metadata": {
  "kernelspec": {
   "display_name": "Python 3 (ipykernel)",
   "language": "python",
   "name": "python3"
  },
  "language_info": {
   "codemirror_mode": {
    "name": "ipython",
    "version": 3
   },
   "file_extension": ".py",
   "mimetype": "text/x-python",
   "name": "python",
   "nbconvert_exporter": "python",
   "pygments_lexer": "ipython3",
   "version": "3.11.7"
  }
 },
 "nbformat": 4,
 "nbformat_minor": 5
}
