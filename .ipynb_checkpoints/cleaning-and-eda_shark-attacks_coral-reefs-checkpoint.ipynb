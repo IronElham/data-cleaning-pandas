{
 "cells": [
  {
   "attachments": {
    "535f544d-433f-48fc-967a-14fec00ddb50.png": {
     "image/png": "[encoded data removed]"
    }
   },
   "cell_type": "markdown",
   "id": "dccadf02-f3b1-4f3a-bbde-009f94531526",
   "metadata": {},
   "source": [
    "![download.png](attachment:535f544d-433f-48fc-967a-14fec00ddb50.png)"
   ]
  },
  {
   "cell_type": "markdown",
   "id": "65092321",
   "metadata": {},
   "source": [
    "<h1 style=\"color: #00BFFF;\">Data Template: Extraction & Cleaning</h1>"
   ]
  },
  {
   "cell_type": "markdown",
   "id": "7813165d",
   "metadata": {},
   "source": [
    "<h1 style=\"color: #00BFFF;\">00 |</h1>"
   ]
  },
  {
   "cell_type": "markdown",
   "id": "3ed704d7-7132-46fd-ba1e-459e100540b1",
   "metadata": {},
   "source": [
    "<div class=\"alert alert-block alert-info\">\n",
    "Tip # 1\n",
    "Best practices; write all your libraries & functions at the beginning !\n",
    "</div>"
   ]
  },
  {
   "cell_type": "code",
   "execution_count": null,
   "id": "f70cf10a-f3e3-4ac4-9f23-5a192c7086b5",
   "metadata": {
    "tags": []
   },
   "outputs": [],
   "source": [
    "pip install matplotlib\n",
    "pip install seaborn\n",
    "pip install openpyxl"
   ]
  },
  {
   "cell_type": "code",
   "execution_count": null,
   "id": "e682116d-4203-4773-8b7c-8c4527ab3411",
   "metadata": {
    "tags": []
   },
   "outputs": [],
   "source": [
    "# 📚 Basic libraries\n",
    "import pandas as pd # data manipulation\n",
    "import numpy as np # funciones matemáticas\n",
    "\n",
    "import re # data manipulation\n",
    "\n",
    "# import matplotlib.pyplot as plt # visualization\n",
    "import seaborn as sns # visualization\n",
    "\n",
    "from google.colab import files # data extraction"
   ]
  },
  {
   "cell_type": "markdown",
   "id": "6ef65c21-f528-4a37-8824-e4a7393ac930",
   "metadata": {
    "tags": []
   },
   "source": [
    "# ⚙️ Settings\n",
    "pd.set_option('display.max_columns', None) # display all columns\n",
    "import warnings\n",
    "warnings.filterwarnings('ignore') # ignore warnings"
   ]
  },
  {
   "cell_type": "markdown",
   "id": "0114e245-9195-45ae-867a-7f3e0f08fe35",
   "metadata": {
    "tags": []
   },
   "source": [
    "<h1 style=\"color: #00BFFF;\">01 | Data Extraction</h1>"
   ]
  },
  {
   "cell_type": "code",
   "execution_count": null,
   "id": "4b4e3929-a589-474e-bcdc-55e45d0c7c73",
   "metadata": {
    "tags": []
   },
   "outputs": [],
   "source": [
    "uploaded = files.upload()\n",
    "\n",
    "df = pd.read_excel('GSAF5.xls')"
   ]
  },
  {
   "cell_type": "code",
   "execution_count": null,
   "id": "53d18c16-f6c8-449e-bc2c-1128f63a3cda",
   "metadata": {},
   "outputs": [],
   "source": [
    "# making a copy\n",
    "\n",
    "df1 = df.copy()"
   ]
  },
  {
   "cell_type": "markdown",
   "id": "6ccd0e85-7c73-4e84-a2d8-f21a62d6c5e3",
   "metadata": {
    "tags": []
   },
   "source": [
    "<h2 style=\"color: #008080;\">Exploring the Data (First Impression)</h2>"
   ]
  },
  {
   "cell_type": "code",
   "execution_count": null,
   "id": "54e8b884-28fa-4aeb-b73c-8c71a514a1c4",
   "metadata": {
    "tags": []
   },
   "outputs": [],
   "source": [
    "df1.sample()"
   ]
  },
  {
   "cell_type": "code",
   "execution_count": null,
   "id": "312d4d11",
   "metadata": {
    "tags": []
   },
   "outputs": [],
   "source": [
    "df1.head(3)"
   ]
  },
  {
   "cell_type": "code",
   "execution_count": null,
   "id": "5ac69c53-fafd-4967-9206-98d44ed4894f",
   "metadata": {},
   "outputs": [],
   "source": [
    "df1.tail(3)"
   ]
  },
  {
   "cell_type": "code",
   "execution_count": null,
   "id": "08f69724",
   "metadata": {},
   "outputs": [],
   "source": [
    "df1.shape"
   ]
  },
  {
   "cell_type": "code",
   "execution_count": null,
   "id": "2325cefc-810f-4a81-9638-1c5df0b8f42b",
   "metadata": {},
   "outputs": [],
   "source": [
    "df1.info()"
   ]
  },
  {
   "cell_type": "markdown",
   "id": "a1ca18f8-9e09-4507-a3c4-da4649eb45b1",
   "metadata": {},
   "source": [
    "**First impression:**\n",
    "    \n",
    "_____________\n",
    "\n",
    "The following dataset is a collection of **one-year** 18.539 player information distributed among 89 different columns. The majority of our data types are mostly **numericals** (71 integers / 18 objects).\n",
    "\n",
    "Our **project goal** is to identify players who have the potential to become **the next \"Mbappé\"**. After reading the [documentation](https://www.kaggle.com/datasets/ekrembayar/fifa-21-complete-player-dataset?select=fifa21_male2.csv) we wil proceed with the following **strategy**:\n",
    "\n",
    "1. The **target** of our dataset will be `Overall`, which is a summary of a player's performance and potential. \n",
    "2. Through **Exploratory Data Analysis** we will identify the features that contribute to this prediction.\n",
    "_____________"
   ]
  },
  {
   "cell_type": "code",
   "execution_count": null,
   "id": "2a787aa1",
   "metadata": {},
   "outputs": [],
   "source": [
    "df = data.copy()"
   ]
  },
  {
   "cell_type": "markdown",
   "id": "6088a8eb",
   "metadata": {
    "tags": []
   },
   "source": [
    "<h2 style=\"color: #008080;\">Standardize Columns</h2>"
   ]
  },
  {
   "cell_type": "markdown",
   "id": "417a8a85-bc10-46e3-9494-fac45f62ad64",
   "metadata": {},
   "source": [
    "<h1 style=\"color: #00BFFF;\">02 | Data Cleaning</h1>"
   ]
  },
  {
   "cell_type": "code",
   "execution_count": null,
   "id": "fef389b4-e7fd-45da-8b27-6c2903a3ffe1",
   "metadata": {},
   "outputs": [],
   "source": [
    "df.head(1)"
   ]
  },
  {
   "cell_type": "markdown",
   "id": "58ec1312-cfbe-4a90-829c-d4ace665595b",
   "metadata": {
    "tags": []
   },
   "source": [
    "<h2 style=\"color: #008080;\">Feature Selection (Dropping unnecesary features)</h2>"
   ]
  },
  {
   "cell_type": "code",
   "execution_count": null,
   "id": "67469ab5-baa7-4ee9-840d-51a299669dab",
   "metadata": {},
   "outputs": [],
   "source": [
    "df.shape"
   ]
  },
  {
   "cell_type": "markdown",
   "id": "292c5cdf-12c2-4396-9081-0336c69fcd72",
   "metadata": {},
   "source": [
    "_____________\n",
    "From all features above, we will drop the following:\n",
    "* `know_as`, `full_name`, `image_link`, `national_team_image` it's just the player identifier.\n",
    "* `club_name`, `club_position`, `contract_until`, `club_jersey_number`, `joined_on`, `on_loan` these are specific to the player's current club situation and do not directly influence their potential or performance metrics.\n",
    "* `national_team_name`, `national_team_position`, `national_team_jersey_number` are unnecessary details.\n",
    "* `st_rating`, `lw_raating`, `cf_rating` are giving us to much detail of the player information, not needed if we are focusing on **overall score** and best position.\n",
    "* Also, since we are looking for **field players** we can drop some goalkeeper-specific features like `goalkeeper_diving`, `goalkeeper_handling`, `_goalkeeperkicking`, `goalkeeper_positioning` and `goalkeeper_reflexes`\n",
    "* Aggregated stats like `totalstats` and `basestats` are the sum of different stats. Same with `crossing`, `finishing`, etc., are the sum of `attacking`\n",
    "    * Attacking = crossing, finishing, heading_accuracy, short_passing, volleys\n",
    "    * Skill = dribbling, curve, fk_accuracy, long_passing, ball_control\n",
    "    * Movement = acceleration, sprint_speed, agility, reactions, balance\n",
    "    * Power = shot_power, jumping, stamina, strength, long_shots\n",
    "    * Mentality = aggression, interceptions, positioning, vision, penalties, composure\n",
    "    * Defending = marking, standing_tackle, sliding_tackle\n",
    "_____________"
   ]
  },
  {
   "cell_type": "markdown",
   "id": "4d6cfd32-5448-4962-882e-40f435a41842",
   "metadata": {
    "tags": []
   },
   "source": [
    "<h2 style=\"color: #008080;\">Checking Null Values</h2>"
   ]
  },
  {
   "cell_type": "code",
   "execution_count": null,
   "id": "1568f50b",
   "metadata": {},
   "outputs": [],
   "source": []
  },
  {
   "cell_type": "markdown",
   "id": "9106861d-272f-4cd2-a3e3-b5827f3d6193",
   "metadata": {
    "tags": []
   },
   "source": [
    "<h2 style=\"color: #008080;\">Checking Duplicates</h2>"
   ]
  },
  {
   "cell_type": "code",
   "execution_count": null,
   "id": "818805af",
   "metadata": {},
   "outputs": [],
   "source": []
  },
  {
   "cell_type": "markdown",
   "id": "5b99f8c1-08d3-423d-bef0-5e4d18d48808",
   "metadata": {
    "tags": []
   },
   "source": [
    "<h2 style=\"color: #008080;\">Checking Emtpy Spaces</h2>"
   ]
  },
  {
   "cell_type": "code",
   "execution_count": null,
   "id": "c6d4403b",
   "metadata": {},
   "outputs": [],
   "source": []
  },
  {
   "cell_type": "markdown",
   "id": "11ff597a-e5f3-4e3b-93d5-cbec9235951f",
   "metadata": {
    "tags": []
   },
   "source": [
    "<h2 style=\"color: #008080;\">Moving our target to the right</h2>"
   ]
  },
  {
   "cell_type": "markdown",
   "id": "179188d3",
   "metadata": {},
   "source": [
    "<div class=\"alert alert-block alert-info\">\n",
    "Tip # 2\n",
    "How to move your target to the right\n",
    "</div>\n",
    "\n",
    "[stackoverflow](https://stackoverflow.com/questions/35321812/move-column-in-pandas-dataframe)"
   ]
  },
  {
   "cell_type": "markdown",
   "id": "2a716449-cd20-454c-8e21-805617121efc",
   "metadata": {},
   "source": [
    "<h1 style=\"color: #00BFFF;\">03 | EDA (Exploratory Data Analysis)</h1>"
   ]
  },
  {
   "cell_type": "markdown",
   "id": "905d5af2",
   "metadata": {
    "tags": []
   },
   "source": [
    "<h2 style=\"color: #008080;\">Statistical information about the numerical columns</h2>"
   ]
  },
  {
   "cell_type": "code",
   "execution_count": null,
   "id": "05b02d7b-6ad8-4aa8-9aa9-b0c826d2a0d1",
   "metadata": {},
   "outputs": [],
   "source": [
    "df.describe().T"
   ]
  },
  {
   "cell_type": "markdown",
   "id": "06098f99-8b0b-4614-bc3f-2df776754a05",
   "metadata": {},
   "source": [
    "<div class=\"alert alert-block alert-info\">\n",
    "Tip # 3\n",
    "\n",
    "How to interpret basic statistics</div>"
   ]
  },
  {
   "cell_type": "markdown",
   "id": "7df2ba58-ba37-48ec-88ac-84cea1dcd77e",
   "metadata": {},
   "source": [
    "- **Measures of central tendency**: Mean, median, mode\n",
    "- **Measures of spread / dispersion**: SD, var, range, quartiles, percentiles\n",
    "- **Meaures of frequency** Frequency"
   ]
  },
  {
   "cell_type": "markdown",
   "id": "8be3f28e",
   "metadata": {},
   "source": [
    "+ **Range:** defines the difference between the highest and lowest values.\n",
    "+ **Variance**: measures how far each number in the set is from the mean and thus from every other number in the set.\n",
    "+ **Standard deviation:** The standard deviation is a statistic that measures the dispersion of a dataset relative to its mean and is calculated as the square root of the variance\n",
    "+ **Quartiles:** A quartile is a statistical term that describes a division of observations into four defined intervals based on the values of the data and how they compare to the entire set of observations.\n",
    "+ **Percentiles:** same but divided in 100 groups."
   ]
  },
  {
   "cell_type": "markdown",
   "id": "d2d9b6e9",
   "metadata": {},
   "source": [
    "![quartiles](https://www.onlinemathlearning.com/image-files/median-quartiles.png)"
   ]
  },
  {
   "cell_type": "markdown",
   "id": "a594365f-2341-4111-a874-0909c3cdaa6d",
   "metadata": {
    "tags": []
   },
   "source": [
    "<h2 style=\"color: #008080;\">Selecting numerical</h2>"
   ]
  },
  {
   "cell_type": "markdown",
   "id": "bdd253b9-9f65-41cf-ba40-315c7996f19e",
   "metadata": {
    "tags": []
   },
   "source": [
    "<h2 style=\"color: #008080;\">Checking Distributions</h2>"
   ]
  },
  {
   "cell_type": "markdown",
   "id": "0f776717",
   "metadata": {
    "tags": []
   },
   "source": [
    "<h2 style=\"color: #008080;\">Checking Outliers (continous numbers)</h2>"
   ]
  },
  {
   "cell_type": "markdown",
   "id": "44546062",
   "metadata": {},
   "source": [
    "<h2 style=\"color: #008080;\">Checking Outliers (discrete numbers)</h2>"
   ]
  },
  {
   "cell_type": "markdown",
   "id": "5c3ccc4b-610a-4da3-bbec-77ad8e1a340d",
   "metadata": {
    "tags": []
   },
   "source": [
    "<h2 style=\"color: #008080;\">Looking for Correlations</h2>"
   ]
  },
  {
   "cell_type": "markdown",
   "id": "2500ae58-541b-4aed-bb65-0ae83e83744b",
   "metadata": {},
   "source": [
    "<h1 style=\"color: #00BFFF;\">04 | Data Processing</h1>"
   ]
  },
  {
   "cell_type": "markdown",
   "id": "962091ba-0828-4428-8ed2-7735f4164e78",
   "metadata": {},
   "source": [
    "<h2 style=\"color: #008080;\">X-Y Split</h2>"
   ]
  },
  {
   "cell_type": "markdown",
   "id": "bf53c008-e656-41e3-9c59-63f985b32bae",
   "metadata": {
    "tags": []
   },
   "source": [
    "<h2 style=\"color: #008080;\">Normalizing the Data</h2>"
   ]
  },
  {
   "cell_type": "markdown",
   "id": "c9135f41-5016-482d-8e0c-c49023c9ae50",
   "metadata": {
    "tags": []
   },
   "source": [
    "<h1 style=\"color: #00BFFF;\">05 | Modeling</h1>"
   ]
  },
  {
   "cell_type": "markdown",
   "id": "7f81348e-f517-477c-badf-7d4e38cbb5e2",
   "metadata": {},
   "source": [
    "<h2 style=\"color: #008080;\">Train-Test Split</h2>"
   ]
  },
  {
   "cell_type": "markdown",
   "id": "e5afc04f-ffed-4e93-b4e8-d43562717ace",
   "metadata": {},
   "source": [
    "<h2 style=\"color: #008080;\">Model Validation</h2>"
   ]
  },
  {
   "cell_type": "markdown",
   "id": "76ca3f20-b395-4e33-b267-5421a00c7712",
   "metadata": {
    "tags": []
   },
   "source": [
    "<h1 style=\"color: #00BFFF;\">06 | Improving the Model</h1>"
   ]
  },
  {
   "cell_type": "markdown",
   "id": "1a9a1325-cbf7-414d-b39e-41824d11e7f5",
   "metadata": {},
   "source": [
    "<h1 style=\"color: #00BFFF;\">07 | Reporting</h1>"
   ]
  }
 ],
 "metadata": {
  "kernelspec": {
   "display_name": "Python 3 (ipykernel)",
   "language": "python",
   "name": "python3"
  },
  "language_info": {
   "codemirror_mode": {
    "name": "ipython",
    "version": 3
   },
   "file_extension": ".py",
   "mimetype": "text/x-python",
   "name": "python",
   "nbconvert_exporter": "python",
   "pygments_lexer": "ipython3",
   "version": "3.11.7"
  }
 },
 "nbformat": 4,
 "nbformat_minor": 5
}
