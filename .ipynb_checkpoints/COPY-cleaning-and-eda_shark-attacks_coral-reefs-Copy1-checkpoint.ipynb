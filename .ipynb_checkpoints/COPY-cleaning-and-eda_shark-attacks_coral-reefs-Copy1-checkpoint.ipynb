{
 "cells": [
  {
   "attachments": {
    "535f544d-433f-48fc-967a-14fec00ddb50.png": {
     "image/png": "[encoded data removed]"
    }
   },
   "cell_type": "markdown",
   "id": "dccadf02-f3b1-4f3a-bbde-009f94531526",
   "metadata": {},
   "source": [
    "![download.png](attachment:535f544d-433f-48fc-967a-14fec00ddb50.png)"
   ]
  },
  {
   "cell_type": "markdown",
   "id": "65092321",
   "metadata": {},
   "source": [
    "<h1 style=\"color: #00BFFF;\">Data Template: Extraction & Cleaning</h1>"
   ]
  },
  {
   "cell_type": "markdown",
   "id": "7813165d",
   "metadata": {},
   "source": [
    "<h1 style=\"color: #00BFFF;\">00 |</h1>"
   ]
  },
  {
   "cell_type": "markdown",
   "id": "3ed704d7-7132-46fd-ba1e-459e100540b1",
   "metadata": {},
   "source": [
    "<div class=\"alert alert-block alert-info\">\n",
    "Tip # 1\n",
    "Best practices; write all your libraries & functions at the beginning !\n",
    "</div>"
   ]
  },
  {
   "cell_type": "code",
   "execution_count": 5,
   "id": "f70cf10a-f3e3-4ac4-9f23-5a192c7086b5",
   "metadata": {
    "tags": []
   },
   "outputs": [],
   "source": [
    "#!pip install matplotlib\n",
    "#!pip install seaborn\n",
    "#!pip install openpyxl"
   ]
  },
  {
   "cell_type": "code",
   "execution_count": 6,
   "id": "e682116d-4203-4773-8b7c-8c4527ab3411",
   "metadata": {
    "tags": []
   },
   "outputs": [],
   "source": [
    "# 📚 Basic libraries\n",
    "import pandas as pd # data manipulation\n",
    "import numpy as np # funciones matemáticas\n",
    "\n",
    "import re # data manipulation\n",
    "\n",
    "import matplotlib.pyplot as plt # visualization\n",
    "import seaborn as sns # visualization"
   ]
  },
  {
   "cell_type": "code",
   "execution_count": 7,
   "id": "56b79224-9337-4ece-a65f-9c271c643a80",
   "metadata": {
    "tags": []
   },
   "outputs": [],
   "source": [
    "# ⚙️ Settings\n",
    "pd.set_option('display.max_columns', None) # display all columns\n",
    "import warnings\n",
    "warnings.filterwarnings('ignore') # ignore warnings"
   ]
  },
  {
   "cell_type": "markdown",
   "id": "0114e245-9195-45ae-867a-7f3e0f08fe35",
   "metadata": {
    "tags": []
   },
   "source": [
    "<h1 style=\"color: #00BFFF;\">01 | Data Extraction</h1>"
   ]
  },
  {
   "cell_type": "code",
   "execution_count": 9,
   "id": "4b4e3929-a589-474e-bcdc-55e45d0c7c73",
   "metadata": {
    "tags": []
   },
   "outputs": [],
   "source": [
    "df = pd.read_excel(\"GSAF5.xls\")"
   ]
  },
  {
   "cell_type": "code",
   "execution_count": 10,
   "id": "53d18c16-f6c8-449e-bc2c-1128f63a3cda",
   "metadata": {},
   "outputs": [],
   "source": [
    "# making a copy\n",
    "\n",
    "df1 = df.copy()"
   ]
  },
  {
   "cell_type": "markdown",
   "id": "6ccd0e85-7c73-4e84-a2d8-f21a62d6c5e3",
   "metadata": {
    "tags": []
   },
   "source": [
    "<h2 style=\"color: #008080;\">Exploring the Data (First Impression)</h2>"
   ]
  },
  {
   "cell_type": "code",
   "execution_count": 12,
   "id": "54e8b884-28fa-4aeb-b73c-8c71a514a1c4",
   "metadata": {
    "tags": []
   },
   "outputs": [
    {
     "data": {
      "text/html": [
       "<div>\n",
       "<style scoped>\n",
       "    .dataframe tbody tr th:only-of-type {\n",
       "        vertical-align: middle;\n",
       "    }\n",
       "\n",
       "    .dataframe tbody tr th {\n",
       "        vertical-align: top;\n",
       "    }\n",
       "\n",
       "    .dataframe thead th {\n",
       "        text-align: right;\n",
       "    }\n",
       "</style>\n",
       "<table border=\"1\" class=\"dataframe\">\n",
       "  <thead>\n",
       "    <tr style=\"text-align: right;\">\n",
       "      <th></th>\n",
       "      <th>Date</th>\n",
       "      <th>Year</th>\n",
       "      <th>Type</th>\n",
       "      <th>Country</th>\n",
       "      <th>State</th>\n",
       "      <th>Location</th>\n",
       "      <th>Activity</th>\n",
       "      <th>Name</th>\n",
       "      <th>Sex</th>\n",
       "      <th>Age</th>\n",
       "      <th>Injury</th>\n",
       "      <th>Unnamed: 11</th>\n",
       "      <th>Time</th>\n",
       "      <th>Species</th>\n",
       "      <th>Source</th>\n",
       "      <th>pdf</th>\n",
       "      <th>href formula</th>\n",
       "      <th>href</th>\n",
       "      <th>Case Number</th>\n",
       "      <th>Case Number.1</th>\n",
       "      <th>original order</th>\n",
       "      <th>Unnamed: 21</th>\n",
       "      <th>Unnamed: 22</th>\n",
       "    </tr>\n",
       "  </thead>\n",
       "  <tbody>\n",
       "    <tr>\n",
       "      <th>5886</th>\n",
       "      <td>08-Mar-1920</td>\n",
       "      <td>1920.0</td>\n",
       "      <td>Unprovoked</td>\n",
       "      <td>AUSTRALIA</td>\n",
       "      <td>Queensland</td>\n",
       "      <td>Between Bay Rock &amp; Magnetic Island, Cleveland Bay</td>\n",
       "      <td>Boat capsized, swimming to shore</td>\n",
       "      <td>Alfred Burgess</td>\n",
       "      <td>M</td>\n",
       "      <td>20</td>\n",
       "      <td>Tossed in air by shark, sustained abrasions</td>\n",
       "      <td>N</td>\n",
       "      <td>NaN</td>\n",
       "      <td>NaN</td>\n",
       "      <td>H. Miller (1920); V.M. Coppleson Q.2.(1933); V...</td>\n",
       "      <td>1920.03.08-Burgess.pdf</td>\n",
       "      <td>http://sharkattackfile.net/spreadsheets/pdf_di...</td>\n",
       "      <td>http://sharkattackfile.net/spreadsheets/pdf_di...</td>\n",
       "      <td>1920.03.08</td>\n",
       "      <td>1920.03.08</td>\n",
       "      <td>1057.0</td>\n",
       "      <td>NaN</td>\n",
       "      <td>NaN</td>\n",
       "    </tr>\n",
       "    <tr>\n",
       "      <th>1067</th>\n",
       "      <td>27-Jan-2015</td>\n",
       "      <td>2015.0</td>\n",
       "      <td>Provoked</td>\n",
       "      <td>USA</td>\n",
       "      <td>Hawaii</td>\n",
       "      <td>Lahaina</td>\n",
       "      <td>Shark fishing</td>\n",
       "      <td>Michael Pollard</td>\n",
       "      <td>M</td>\n",
       "      <td>20</td>\n",
       "      <td>Lacerations to calf by hooked shark PROVOKED I...</td>\n",
       "      <td>N</td>\n",
       "      <td>03h30</td>\n",
       "      <td>4' shark</td>\n",
       "      <td>Huffington Post, 1/28/2015</td>\n",
       "      <td>2015.01.27-Pollard.pdf</td>\n",
       "      <td>http://sharkattackfile.net/spreadsheets/pdf_di...</td>\n",
       "      <td>http://sharkattackfile.net/spreadsheets/pdf_di...</td>\n",
       "      <td>2015.01.27</td>\n",
       "      <td>2015.01.27</td>\n",
       "      <td>5876.0</td>\n",
       "      <td>NaN</td>\n",
       "      <td>NaN</td>\n",
       "    </tr>\n",
       "    <tr>\n",
       "      <th>1404</th>\n",
       "      <td>31-May-2012</td>\n",
       "      <td>2012.0</td>\n",
       "      <td>Unprovoked</td>\n",
       "      <td>USA</td>\n",
       "      <td>North Carolina</td>\n",
       "      <td>Avon, Hatteras Island, Outer Banks, Dare County</td>\n",
       "      <td>Wading</td>\n",
       "      <td>Megan Konkler</td>\n",
       "      <td>F</td>\n",
       "      <td>33</td>\n",
       "      <td>Foot bitten</td>\n",
       "      <td>N</td>\n",
       "      <td>13h30</td>\n",
       "      <td>18\" to 24\" shark</td>\n",
       "      <td>C. Creswell</td>\n",
       "      <td>2012.05.31-Konkler.pdf</td>\n",
       "      <td>http://sharkattackfile.net/spreadsheets/pdf_di...</td>\n",
       "      <td>http://sharkattackfile.net/spreadsheets/pdf_di...</td>\n",
       "      <td>2012.05.31</td>\n",
       "      <td>2012.05.31</td>\n",
       "      <td>5538.0</td>\n",
       "      <td>NaN</td>\n",
       "      <td>NaN</td>\n",
       "    </tr>\n",
       "    <tr>\n",
       "      <th>2265</th>\n",
       "      <td>30-Jul-2004</td>\n",
       "      <td>2004.0</td>\n",
       "      <td>Unprovoked</td>\n",
       "      <td>RUSSIA</td>\n",
       "      <td>Kuril Islands in the Pacific</td>\n",
       "      <td>Kunashir Island, 70 km from northern Japan</td>\n",
       "      <td>Diving &amp; fishing with net</td>\n",
       "      <td>Vladimir Skutelnik</td>\n",
       "      <td>M</td>\n",
       "      <td>NaN</td>\n",
       "      <td>Thigh &amp; calf bitten</td>\n",
       "      <td>N</td>\n",
       "      <td>NaN</td>\n",
       "      <td>White shark</td>\n",
       "      <td>M. Gozum &amp; J. Eager, scubaradio.com</td>\n",
       "      <td>2004.07.30-Skutelnik.pdf</td>\n",
       "      <td>http://sharkattackfile.net/spreadsheets/pdf_di...</td>\n",
       "      <td>http://sharkattackfile.net/spreadsheets/pdf_di...</td>\n",
       "      <td>2004.07.30</td>\n",
       "      <td>2004.07.30</td>\n",
       "      <td>4677.0</td>\n",
       "      <td>NaN</td>\n",
       "      <td>NaN</td>\n",
       "    </tr>\n",
       "    <tr>\n",
       "      <th>6682</th>\n",
       "      <td>08-Dec-1846</td>\n",
       "      <td>1846.0</td>\n",
       "      <td>Sea Disaster</td>\n",
       "      <td>MEXICO</td>\n",
       "      <td>Veracruz</td>\n",
       "      <td>Vera Cruz</td>\n",
       "      <td>Wreck of the USS Somers</td>\n",
       "      <td>NaN</td>\n",
       "      <td>M</td>\n",
       "      <td>NaN</td>\n",
       "      <td>FATAL, some were taken by sharks</td>\n",
       "      <td>Y</td>\n",
       "      <td>NaN</td>\n",
       "      <td>NaN</td>\n",
       "      <td>Report of the loss of the Somers, J.H.W.</td>\n",
       "      <td>1846.12.08-Somers.pdf</td>\n",
       "      <td>http://sharkattackfile.net/spreadsheets/pdf_di...</td>\n",
       "      <td>http://sharkattackfile.net/spreadsheets/pdf_di...</td>\n",
       "      <td>1846.12.08</td>\n",
       "      <td>1846.12.08</td>\n",
       "      <td>261.0</td>\n",
       "      <td>NaN</td>\n",
       "      <td>NaN</td>\n",
       "    </tr>\n",
       "  </tbody>\n",
       "</table>\n",
       "</div>"
      ],
      "text/plain": [
       "             Date    Year          Type    Country  \\\n",
       "5886  08-Mar-1920  1920.0    Unprovoked  AUSTRALIA   \n",
       "1067  27-Jan-2015  2015.0      Provoked        USA   \n",
       "1404  31-May-2012  2012.0    Unprovoked        USA   \n",
       "2265  30-Jul-2004  2004.0    Unprovoked     RUSSIA   \n",
       "6682  08-Dec-1846  1846.0  Sea Disaster     MEXICO   \n",
       "\n",
       "                             State  \\\n",
       "5886                    Queensland   \n",
       "1067                        Hawaii   \n",
       "1404                North Carolina   \n",
       "2265  Kuril Islands in the Pacific   \n",
       "6682                      Veracruz   \n",
       "\n",
       "                                               Location  \\\n",
       "5886  Between Bay Rock & Magnetic Island, Cleveland Bay   \n",
       "1067                                            Lahaina   \n",
       "1404    Avon, Hatteras Island, Outer Banks, Dare County   \n",
       "2265         Kunashir Island, 70 km from northern Japan   \n",
       "6682                                          Vera Cruz   \n",
       "\n",
       "                              Activity                Name Sex  Age  \\\n",
       "5886  Boat capsized, swimming to shore      Alfred Burgess   M   20   \n",
       "1067                     Shark fishing     Michael Pollard   M   20   \n",
       "1404                            Wading       Megan Konkler   F   33   \n",
       "2265         Diving & fishing with net  Vladimir Skutelnik   M  NaN   \n",
       "6682           Wreck of the USS Somers                 NaN   M  NaN   \n",
       "\n",
       "                                                 Injury Unnamed: 11   Time  \\\n",
       "5886        Tossed in air by shark, sustained abrasions           N    NaN   \n",
       "1067  Lacerations to calf by hooked shark PROVOKED I...           N  03h30   \n",
       "1404                                        Foot bitten           N  13h30   \n",
       "2265                                Thigh & calf bitten           N    NaN   \n",
       "6682                   FATAL, some were taken by sharks           Y    NaN   \n",
       "\n",
       "              Species                                              Source  \\\n",
       "5886               NaN  H. Miller (1920); V.M. Coppleson Q.2.(1933); V...   \n",
       "1067          4' shark                         Huffington Post, 1/28/2015   \n",
       "1404  18\" to 24\" shark                                        C. Creswell   \n",
       "2265       White shark                M. Gozum & J. Eager, scubaradio.com   \n",
       "6682               NaN           Report of the loss of the Somers, J.H.W.   \n",
       "\n",
       "                           pdf  \\\n",
       "5886    1920.03.08-Burgess.pdf   \n",
       "1067    2015.01.27-Pollard.pdf   \n",
       "1404    2012.05.31-Konkler.pdf   \n",
       "2265  2004.07.30-Skutelnik.pdf   \n",
       "6682     1846.12.08-Somers.pdf   \n",
       "\n",
       "                                           href formula  \\\n",
       "5886  http://sharkattackfile.net/spreadsheets/pdf_di...   \n",
       "1067  http://sharkattackfile.net/spreadsheets/pdf_di...   \n",
       "1404  http://sharkattackfile.net/spreadsheets/pdf_di...   \n",
       "2265  http://sharkattackfile.net/spreadsheets/pdf_di...   \n",
       "6682  http://sharkattackfile.net/spreadsheets/pdf_di...   \n",
       "\n",
       "                                                   href Case Number  \\\n",
       "5886  http://sharkattackfile.net/spreadsheets/pdf_di...  1920.03.08   \n",
       "1067  http://sharkattackfile.net/spreadsheets/pdf_di...  2015.01.27   \n",
       "1404  http://sharkattackfile.net/spreadsheets/pdf_di...  2012.05.31   \n",
       "2265  http://sharkattackfile.net/spreadsheets/pdf_di...  2004.07.30   \n",
       "6682  http://sharkattackfile.net/spreadsheets/pdf_di...  1846.12.08   \n",
       "\n",
       "     Case Number.1  original order Unnamed: 21 Unnamed: 22  \n",
       "5886    1920.03.08          1057.0         NaN         NaN  \n",
       "1067    2015.01.27          5876.0         NaN         NaN  \n",
       "1404    2012.05.31          5538.0         NaN         NaN  \n",
       "2265    2004.07.30          4677.0         NaN         NaN  \n",
       "6682    1846.12.08           261.0         NaN         NaN  "
      ]
     },
     "execution_count": 12,
     "metadata": {},
     "output_type": "execute_result"
    }
   ],
   "source": [
    "df1.sample(5)"
   ]
  },
  {
   "cell_type": "code",
   "execution_count": 13,
   "id": "312d4d11",
   "metadata": {
    "tags": []
   },
   "outputs": [
    {
     "data": {
      "text/html": [
       "<div>\n",
       "<style scoped>\n",
       "    .dataframe tbody tr th:only-of-type {\n",
       "        vertical-align: middle;\n",
       "    }\n",
       "\n",
       "    .dataframe tbody tr th {\n",
       "        vertical-align: top;\n",
       "    }\n",
       "\n",
       "    .dataframe thead th {\n",
       "        text-align: right;\n",
       "    }\n",
       "</style>\n",
       "<table border=\"1\" class=\"dataframe\">\n",
       "  <thead>\n",
       "    <tr style=\"text-align: right;\">\n",
       "      <th></th>\n",
       "      <th>Date</th>\n",
       "      <th>Year</th>\n",
       "      <th>Type</th>\n",
       "      <th>Country</th>\n",
       "      <th>State</th>\n",
       "      <th>Location</th>\n",
       "      <th>Activity</th>\n",
       "      <th>Name</th>\n",
       "      <th>Sex</th>\n",
       "      <th>Age</th>\n",
       "      <th>Injury</th>\n",
       "      <th>Unnamed: 11</th>\n",
       "      <th>Time</th>\n",
       "      <th>Species</th>\n",
       "      <th>Source</th>\n",
       "      <th>pdf</th>\n",
       "      <th>href formula</th>\n",
       "      <th>href</th>\n",
       "      <th>Case Number</th>\n",
       "      <th>Case Number.1</th>\n",
       "      <th>original order</th>\n",
       "      <th>Unnamed: 21</th>\n",
       "      <th>Unnamed: 22</th>\n",
       "    </tr>\n",
       "  </thead>\n",
       "  <tbody>\n",
       "    <tr>\n",
       "      <th>0</th>\n",
       "      <td>15 Mar 2024</td>\n",
       "      <td>2024.0</td>\n",
       "      <td>Unprovoked</td>\n",
       "      <td>AUSTRALIA</td>\n",
       "      <td>Queensland</td>\n",
       "      <td>Bargara Beach</td>\n",
       "      <td>Swimming</td>\n",
       "      <td>Brooklyn Sauer</td>\n",
       "      <td>F</td>\n",
       "      <td>13</td>\n",
       "      <td>Minor injuries to back, abdomen and legs</td>\n",
       "      <td>NaN</td>\n",
       "      <td>16h00</td>\n",
       "      <td>Tiger shark</td>\n",
       "      <td>Yahoo News, 3/15/2024</td>\n",
       "      <td>NaN</td>\n",
       "      <td>NaN</td>\n",
       "      <td>NaN</td>\n",
       "      <td>NaN</td>\n",
       "      <td>NaN</td>\n",
       "      <td>NaN</td>\n",
       "      <td>NaN</td>\n",
       "      <td>NaN</td>\n",
       "    </tr>\n",
       "    <tr>\n",
       "      <th>1</th>\n",
       "      <td>04 Mar 2024</td>\n",
       "      <td>2024.0</td>\n",
       "      <td>Unprovoked</td>\n",
       "      <td>USA</td>\n",
       "      <td>Hawaii</td>\n",
       "      <td>Old Man's, Waikiki</td>\n",
       "      <td>Surfing</td>\n",
       "      <td>Matthew White</td>\n",
       "      <td>M</td>\n",
       "      <td>NaN</td>\n",
       "      <td>No injury, shark bit surfboard</td>\n",
       "      <td>N</td>\n",
       "      <td>NaN</td>\n",
       "      <td>Tiger shark 8'</td>\n",
       "      <td>Surfer, 3/6/2024F</td>\n",
       "      <td>NaN</td>\n",
       "      <td>NaN</td>\n",
       "      <td>NaN</td>\n",
       "      <td>NaN</td>\n",
       "      <td>NaN</td>\n",
       "      <td>NaN</td>\n",
       "      <td>NaN</td>\n",
       "      <td>NaN</td>\n",
       "    </tr>\n",
       "    <tr>\n",
       "      <th>2</th>\n",
       "      <td>02 Mar-2024</td>\n",
       "      <td>2024.0</td>\n",
       "      <td>Unprovoked</td>\n",
       "      <td>USA</td>\n",
       "      <td>Hawaii</td>\n",
       "      <td>Rainbows, Oahu</td>\n",
       "      <td>Swimming</td>\n",
       "      <td>NaN</td>\n",
       "      <td>F</td>\n",
       "      <td>11</td>\n",
       "      <td>Lacerations to left foot</td>\n",
       "      <td>N</td>\n",
       "      <td>13h30</td>\n",
       "      <td>3' to 4' shark</td>\n",
       "      <td>Hawaii News Now, 3/4/2024</td>\n",
       "      <td>NaN</td>\n",
       "      <td>NaN</td>\n",
       "      <td>NaN</td>\n",
       "      <td>NaN</td>\n",
       "      <td>NaN</td>\n",
       "      <td>NaN</td>\n",
       "      <td>NaN</td>\n",
       "      <td>NaN</td>\n",
       "    </tr>\n",
       "  </tbody>\n",
       "</table>\n",
       "</div>"
      ],
      "text/plain": [
       "          Date    Year        Type    Country       State            Location  \\\n",
       "0  15 Mar 2024  2024.0  Unprovoked  AUSTRALIA  Queensland       Bargara Beach   \n",
       "1  04 Mar 2024  2024.0  Unprovoked        USA      Hawaii  Old Man's, Waikiki   \n",
       "2  02 Mar-2024  2024.0  Unprovoked        USA      Hawaii      Rainbows, Oahu   \n",
       "\n",
       "   Activity            Name Sex  Age  \\\n",
       "0  Swimming  Brooklyn Sauer   F   13   \n",
       "1   Surfing   Matthew White   M  NaN   \n",
       "2  Swimming             NaN   F   11   \n",
       "\n",
       "                                     Injury Unnamed: 11   Time  \\\n",
       "0  Minor injuries to back, abdomen and legs         NaN  16h00   \n",
       "1            No injury, shark bit surfboard           N    NaN   \n",
       "2                  Lacerations to left foot           N  13h30   \n",
       "\n",
       "         Species                      Source  pdf href formula href  \\\n",
       "0     Tiger shark      Yahoo News, 3/15/2024  NaN          NaN  NaN   \n",
       "1  Tiger shark 8'          Surfer, 3/6/2024F  NaN          NaN  NaN   \n",
       "2  3' to 4' shark  Hawaii News Now, 3/4/2024  NaN          NaN  NaN   \n",
       "\n",
       "  Case Number Case Number.1  original order Unnamed: 21 Unnamed: 22  \n",
       "0         NaN           NaN             NaN         NaN         NaN  \n",
       "1         NaN           NaN             NaN         NaN         NaN  \n",
       "2         NaN           NaN             NaN         NaN         NaN  "
      ]
     },
     "execution_count": 13,
     "metadata": {},
     "output_type": "execute_result"
    }
   ],
   "source": [
    "df1.head(3)"
   ]
  },
  {
   "cell_type": "code",
   "execution_count": 14,
   "id": "5ac69c53-fafd-4967-9206-98d44ed4894f",
   "metadata": {},
   "outputs": [
    {
     "data": {
      "text/html": [
       "<div>\n",
       "<style scoped>\n",
       "    .dataframe tbody tr th:only-of-type {\n",
       "        vertical-align: middle;\n",
       "    }\n",
       "\n",
       "    .dataframe tbody tr th {\n",
       "        vertical-align: top;\n",
       "    }\n",
       "\n",
       "    .dataframe thead th {\n",
       "        text-align: right;\n",
       "    }\n",
       "</style>\n",
       "<table border=\"1\" class=\"dataframe\">\n",
       "  <thead>\n",
       "    <tr style=\"text-align: right;\">\n",
       "      <th></th>\n",
       "      <th>Date</th>\n",
       "      <th>Year</th>\n",
       "      <th>Type</th>\n",
       "      <th>Country</th>\n",
       "      <th>State</th>\n",
       "      <th>Location</th>\n",
       "      <th>Activity</th>\n",
       "      <th>Name</th>\n",
       "      <th>Sex</th>\n",
       "      <th>Age</th>\n",
       "      <th>Injury</th>\n",
       "      <th>Unnamed: 11</th>\n",
       "      <th>Time</th>\n",
       "      <th>Species</th>\n",
       "      <th>Source</th>\n",
       "      <th>pdf</th>\n",
       "      <th>href formula</th>\n",
       "      <th>href</th>\n",
       "      <th>Case Number</th>\n",
       "      <th>Case Number.1</th>\n",
       "      <th>original order</th>\n",
       "      <th>Unnamed: 21</th>\n",
       "      <th>Unnamed: 22</th>\n",
       "    </tr>\n",
       "  </thead>\n",
       "  <tbody>\n",
       "    <tr>\n",
       "      <th>6966</th>\n",
       "      <td>NaN</td>\n",
       "      <td>NaN</td>\n",
       "      <td>NaN</td>\n",
       "      <td>NaN</td>\n",
       "      <td>NaN</td>\n",
       "      <td>NaN</td>\n",
       "      <td>NaN</td>\n",
       "      <td>NaN</td>\n",
       "      <td>NaN</td>\n",
       "      <td>NaN</td>\n",
       "      <td>NaN</td>\n",
       "      <td>NaN</td>\n",
       "      <td>NaN</td>\n",
       "      <td>NaN</td>\n",
       "      <td>NaN</td>\n",
       "      <td>NaN</td>\n",
       "      <td>http://sharkattackfile.net/spreadsheets/pdf_di...</td>\n",
       "      <td>NaN</td>\n",
       "      <td>NaN</td>\n",
       "      <td>NaN</td>\n",
       "      <td>NaN</td>\n",
       "      <td>NaN</td>\n",
       "      <td>NaN</td>\n",
       "    </tr>\n",
       "    <tr>\n",
       "      <th>6967</th>\n",
       "      <td>NaN</td>\n",
       "      <td>NaN</td>\n",
       "      <td>NaN</td>\n",
       "      <td>NaN</td>\n",
       "      <td>NaN</td>\n",
       "      <td>NaN</td>\n",
       "      <td>NaN</td>\n",
       "      <td>NaN</td>\n",
       "      <td>NaN</td>\n",
       "      <td>NaN</td>\n",
       "      <td>NaN</td>\n",
       "      <td>NaN</td>\n",
       "      <td>NaN</td>\n",
       "      <td>NaN</td>\n",
       "      <td>NaN</td>\n",
       "      <td>NaN</td>\n",
       "      <td>http://sharkattackfile.net/spreadsheets/pdf_di...</td>\n",
       "      <td>NaN</td>\n",
       "      <td>NaN</td>\n",
       "      <td>NaN</td>\n",
       "      <td>NaN</td>\n",
       "      <td>NaN</td>\n",
       "      <td>NaN</td>\n",
       "    </tr>\n",
       "    <tr>\n",
       "      <th>6968</th>\n",
       "      <td>NaN</td>\n",
       "      <td>NaN</td>\n",
       "      <td>NaN</td>\n",
       "      <td>NaN</td>\n",
       "      <td>NaN</td>\n",
       "      <td>NaN</td>\n",
       "      <td>NaN</td>\n",
       "      <td>NaN</td>\n",
       "      <td>NaN</td>\n",
       "      <td>NaN</td>\n",
       "      <td>NaN</td>\n",
       "      <td>NaN</td>\n",
       "      <td>NaN</td>\n",
       "      <td>NaN</td>\n",
       "      <td>NaN</td>\n",
       "      <td>NaN</td>\n",
       "      <td>http://sharkattackfile.net/spreadsheets/pdf_di...</td>\n",
       "      <td>NaN</td>\n",
       "      <td>NaN</td>\n",
       "      <td>NaN</td>\n",
       "      <td>NaN</td>\n",
       "      <td>NaN</td>\n",
       "      <td>NaN</td>\n",
       "    </tr>\n",
       "  </tbody>\n",
       "</table>\n",
       "</div>"
      ],
      "text/plain": [
       "     Date  Year Type Country State Location Activity Name  Sex  Age Injury  \\\n",
       "6966  NaN   NaN  NaN     NaN   NaN      NaN      NaN  NaN  NaN  NaN    NaN   \n",
       "6967  NaN   NaN  NaN     NaN   NaN      NaN      NaN  NaN  NaN  NaN    NaN   \n",
       "6968  NaN   NaN  NaN     NaN   NaN      NaN      NaN  NaN  NaN  NaN    NaN   \n",
       "\n",
       "     Unnamed: 11 Time Species  Source  pdf  \\\n",
       "6966         NaN  NaN      NaN    NaN  NaN   \n",
       "6967         NaN  NaN      NaN    NaN  NaN   \n",
       "6968         NaN  NaN      NaN    NaN  NaN   \n",
       "\n",
       "                                           href formula href Case Number  \\\n",
       "6966  http://sharkattackfile.net/spreadsheets/pdf_di...  NaN         NaN   \n",
       "6967  http://sharkattackfile.net/spreadsheets/pdf_di...  NaN         NaN   \n",
       "6968  http://sharkattackfile.net/spreadsheets/pdf_di...  NaN         NaN   \n",
       "\n",
       "     Case Number.1  original order Unnamed: 21 Unnamed: 22  \n",
       "6966           NaN             NaN         NaN         NaN  \n",
       "6967           NaN             NaN         NaN         NaN  \n",
       "6968           NaN             NaN         NaN         NaN  "
      ]
     },
     "execution_count": 14,
     "metadata": {},
     "output_type": "execute_result"
    }
   ],
   "source": [
    "df1.tail(3)"
   ]
  },
  {
   "cell_type": "code",
   "execution_count": 15,
   "id": "08f69724",
   "metadata": {},
   "outputs": [
    {
     "data": {
      "text/plain": [
       "(6969, 23)"
      ]
     },
     "execution_count": 15,
     "metadata": {},
     "output_type": "execute_result"
    }
   ],
   "source": [
    "df1.shape"
   ]
  },
  {
   "cell_type": "code",
   "execution_count": 16,
   "id": "2325cefc-810f-4a81-9638-1c5df0b8f42b",
   "metadata": {},
   "outputs": [
    {
     "name": "stdout",
     "output_type": "stream",
     "text": [
      "<class 'pandas.core.frame.DataFrame'>\n",
      "RangeIndex: 6969 entries, 0 to 6968\n",
      "Data columns (total 23 columns):\n",
      " #   Column          Non-Null Count  Dtype  \n",
      "---  ------          --------------  -----  \n",
      " 0   Date            6944 non-null   object \n",
      " 1   Year            6942 non-null   float64\n",
      " 2   Type            6926 non-null   object \n",
      " 3   Country         6894 non-null   object \n",
      " 4   State           6462 non-null   object \n",
      " 5   Location        6379 non-null   object \n",
      " 6   Activity        6358 non-null   object \n",
      " 7   Name            6724 non-null   object \n",
      " 8   Sex             6365 non-null   object \n",
      " 9   Age             3950 non-null   object \n",
      " 10  Injury          6909 non-null   object \n",
      " 11  Unnamed: 11     6382 non-null   object \n",
      " 12  Time            3418 non-null   object \n",
      " 13  Species         3812 non-null   object \n",
      " 14  Source          6925 non-null   object \n",
      " 15  pdf             6799 non-null   object \n",
      " 16  href formula    6819 non-null   object \n",
      " 17  href            6796 non-null   object \n",
      " 18  Case Number     6798 non-null   object \n",
      " 19  Case Number.1   6797 non-null   object \n",
      " 20  original order  6799 non-null   float64\n",
      " 21  Unnamed: 21     1 non-null      object \n",
      " 22  Unnamed: 22     2 non-null      object \n",
      "dtypes: float64(2), object(21)\n",
      "memory usage: 1.2+ MB\n"
     ]
    }
   ],
   "source": [
    "df1.info()"
   ]
  },
  {
   "cell_type": "markdown",
   "id": "6088a8eb",
   "metadata": {
    "tags": []
   },
   "source": [
    "<h2 style=\"color: #008080;\">Standardize Columns</h2>"
   ]
  },
  {
   "cell_type": "markdown",
   "id": "417a8a85-bc10-46e3-9494-fac45f62ad64",
   "metadata": {},
   "source": [
    "<h1 style=\"color: #00BFFF;\">02 | Data Cleaning</h1>"
   ]
  },
  {
   "cell_type": "markdown",
   "id": "58ec1312-cfbe-4a90-829c-d4ace665595b",
   "metadata": {
    "tags": []
   },
   "source": [
    "<h2 style=\"color: #008080;\">Feature Selection (Dropping unnecesary features)</h2>"
   ]
  },
  {
   "cell_type": "markdown",
   "id": "4d6cfd32-5448-4962-882e-40f435a41842",
   "metadata": {
    "tags": []
   },
   "source": [
    "<h2 style=\"color: #008080;\">Cleaning function</h2>"
   ]
  },
  {
   "cell_type": "code",
   "execution_count": 23,
   "id": "1568f50b",
   "metadata": {},
   "outputs": [],
   "source": [
    "def cleaning(df1): # functions for all general cleaning steps on the entire dataset\n",
    "\n",
    "    # dropping all columns we don't need for the cleaning and won't be using in the analysis\n",
    "    df1.drop(columns=[\"Type\", \"Time\", \"Species \", \"Source\", \"pdf\", \"href formula\", \"href\", \"Case Number\", \"Case Number.1\", \"original order\", \"Unnamed: 21\", \"Unnamed: 22\"], inplace=True)\n",
    "\n",
    "    df1.dropna(how='all') # dropping all rows with only NaNs\n",
    "\n",
    "    df1.drop_duplicates(inplace=True) # dropping all duplicates\n",
    "\n",
    "    df1.columns = [col.lower().replace(\" \", \"_\") for col in df1.columns] # renaming all columns to snakecase and _\n",
    "\n",
    "    df1.rename(columns= {\"unnamed:_11\": \"fatal\"}, inplace=True) # renaiming specific column\n",
    "\n",
    "cleaning(df1) # calling the cleaning function"
   ]
  },
  {
   "cell_type": "code",
   "execution_count": 24,
   "id": "c6d4403b",
   "metadata": {},
   "outputs": [
    {
     "data": {
      "text/plain": [
       "Index(['date', 'year', 'country', 'state', 'location', 'activity', 'name',\n",
       "       'sex', 'age', 'injury', 'fatal'],\n",
       "      dtype='object')"
      ]
     },
     "execution_count": 24,
     "metadata": {},
     "output_type": "execute_result"
    }
   ],
   "source": [
    "df1.columns"
   ]
  },
  {
   "cell_type": "code",
   "execution_count": 25,
   "id": "aa87a019-c142-458b-a3c6-426ca3f9ca84",
   "metadata": {},
   "outputs": [
    {
     "data": {
      "text/plain": [
       "(6942, 11)"
      ]
     },
     "execution_count": 25,
     "metadata": {},
     "output_type": "execute_result"
    }
   ],
   "source": [
    "df1.shape"
   ]
  },
  {
   "cell_type": "code",
   "execution_count": 26,
   "id": "fb3f1b10-082f-4c9b-b90a-310cdf19afe2",
   "metadata": {},
   "outputs": [
    {
     "data": {
      "text/html": [
       "<div>\n",
       "<style scoped>\n",
       "    .dataframe tbody tr th:only-of-type {\n",
       "        vertical-align: middle;\n",
       "    }\n",
       "\n",
       "    .dataframe tbody tr th {\n",
       "        vertical-align: top;\n",
       "    }\n",
       "\n",
       "    .dataframe thead th {\n",
       "        text-align: right;\n",
       "    }\n",
       "</style>\n",
       "<table border=\"1\" class=\"dataframe\">\n",
       "  <thead>\n",
       "    <tr style=\"text-align: right;\">\n",
       "      <th></th>\n",
       "      <th>date</th>\n",
       "      <th>year</th>\n",
       "      <th>country</th>\n",
       "      <th>state</th>\n",
       "      <th>location</th>\n",
       "      <th>activity</th>\n",
       "      <th>name</th>\n",
       "      <th>sex</th>\n",
       "      <th>age</th>\n",
       "      <th>injury</th>\n",
       "      <th>fatal</th>\n",
       "    </tr>\n",
       "  </thead>\n",
       "  <tbody>\n",
       "    <tr>\n",
       "      <th>5345</th>\n",
       "      <td>08-Mar-1942</td>\n",
       "      <td>1942.0</td>\n",
       "      <td>CUBA</td>\n",
       "      <td>Guantanamo Province</td>\n",
       "      <td>30 nm southeast of Guantanamo Bay</td>\n",
       "      <td>Esso Bolivar was torpedoed &amp; shelled by the Ge...</td>\n",
       "      <td>A wounded member of Naval guncrew being towed ...</td>\n",
       "      <td>M</td>\n",
       "      <td>NaN</td>\n",
       "      <td>Of her crew of 50, eight perished, including t...</td>\n",
       "      <td>Y</td>\n",
       "    </tr>\n",
       "  </tbody>\n",
       "</table>\n",
       "</div>"
      ],
      "text/plain": [
       "             date    year country                state  \\\n",
       "5345  08-Mar-1942  1942.0    CUBA  Guantanamo Province   \n",
       "\n",
       "                               location  \\\n",
       "5345  30 nm southeast of Guantanamo Bay   \n",
       "\n",
       "                                               activity  \\\n",
       "5345  Esso Bolivar was torpedoed & shelled by the Ge...   \n",
       "\n",
       "                                                   name sex  age  \\\n",
       "5345  A wounded member of Naval guncrew being towed ...   M  NaN   \n",
       "\n",
       "                                                 injury fatal  \n",
       "5345  Of her crew of 50, eight perished, including t...     Y  "
      ]
     },
     "execution_count": 26,
     "metadata": {},
     "output_type": "execute_result"
    }
   ],
   "source": [
    "df1.sample()"
   ]
  },
  {
   "cell_type": "code",
   "execution_count": 27,
   "id": "1f0e281c-f43a-41da-987d-aef9872259fa",
   "metadata": {},
   "outputs": [
    {
     "data": {
      "text/plain": [
       "date           1\n",
       "year           3\n",
       "country       51\n",
       "state        482\n",
       "location     565\n",
       "activity     587\n",
       "name         221\n",
       "sex          580\n",
       "age         2992\n",
       "injury        36\n",
       "fatal        563\n",
       "dtype: int64"
      ]
     },
     "execution_count": 27,
     "metadata": {},
     "output_type": "execute_result"
    }
   ],
   "source": [
    "df1.isna().sum() # including \"injury\" and \"location\" and \"name\" which we don't use for the final EDA but need for the cleaning process"
   ]
  },
  {
   "cell_type": "markdown",
   "id": "ebcf3948-41cd-4525-9e41-7e0f5edb55c6",
   "metadata": {},
   "source": [
    "<h2 style=\"color: #008080;\">Cleaning specific columns</h2>\n",
    "Checking the shape and counting the NaN values after each step"
   ]
  },
  {
   "cell_type": "markdown",
   "id": "14efde5c-00e1-4c37-b253-9adcc0b4a83d",
   "metadata": {},
   "source": [
    "<h3 style=\"color: #008080;\">Cleaning \"date\" and \"year\"</h3>"
   ]
  },
  {
   "cell_type": "code",
   "execution_count": 30,
   "id": "58ea0df3-8d9b-4743-ad73-db179937e4f4",
   "metadata": {},
   "outputs": [],
   "source": [
    "# Replace non-numeric values in 'Year' column\n",
    "if 'year' in df1.columns:\n",
    "    df['year'] = pd.to_numeric(df1['year'], errors='coerce')\n",
    "\n",
    "# Drop rows with NaN in the 'Year' column\n",
    "df1 = df1.dropna(subset=['year'])\n",
    "\n",
    "# filter for years from 2000 onwards\n",
    "df1 = df1[df1['year'] >= 2000]"
   ]
  },
  {
   "cell_type": "code",
   "execution_count": 31,
   "id": "834cc7f2-f49d-4a47-b385-add30cc653ac",
   "metadata": {},
   "outputs": [
    {
     "data": {
      "text/plain": [
       "2000.0"
      ]
     },
     "execution_count": 31,
     "metadata": {},
     "output_type": "execute_result"
    }
   ],
   "source": [
    "df1.year.min()"
   ]
  },
  {
   "cell_type": "markdown",
   "id": "8de8f6cd-5209-49bf-aae4-67c67e67768b",
   "metadata": {},
   "source": [
    "<h3 style=\"color: #008080;\">Cleaning \"country\" and \"state\"</h3>"
   ]
  },
  {
   "cell_type": "code",
   "execution_count": 33,
   "id": "91375650-db71-4325-ae83-90e9bf3a7652",
   "metadata": {},
   "outputs": [],
   "source": [
    "# 1. country\n",
    "state_to_country = df1.dropna(subset=['state', 'country']).drop_duplicates(subset=['state']).set_index('state')['country'].to_dict()\n",
    "df1['country'] = df1.apply(lambda row: state_to_country.get(row['state'], row['country']), axis=1)\n",
    "\n",
    "# 2. state\n",
    "location_to_state = df1.dropna(subset=['state', 'location']).drop_duplicates(subset=['location']).set_index('location')['state'].to_dict()\n",
    "df1['state'] = df1.apply(lambda row: location_to_state.get(row['location'], row['state']), axis=1)\n",
    "\n",
    "# 3. cleaning country column with replacing \"?\"\n",
    "df1['country'] = df1['country'].str.replace(r'\\?', '', regex=True)"
   ]
  },
  {
   "cell_type": "code",
   "execution_count": 34,
   "id": "4689997e-bb2a-4092-a715-b3d263d41a53",
   "metadata": {},
   "outputs": [
    {
     "data": {
      "text/plain": [
       "(2693, 11)"
      ]
     },
     "execution_count": 34,
     "metadata": {},
     "output_type": "execute_result"
    }
   ],
   "source": [
    "df1.shape"
   ]
  },
  {
   "cell_type": "code",
   "execution_count": 35,
   "id": "3a7b663e-c0be-40b3-abdb-65b0dcc2bbfd",
   "metadata": {},
   "outputs": [
    {
     "data": {
      "text/plain": [
       "date          0\n",
       "year          0\n",
       "country       2\n",
       "state       111\n",
       "location    107\n",
       "activity    125\n",
       "name         43\n",
       "sex         118\n",
       "age         672\n",
       "injury        8\n",
       "fatal       181\n",
       "dtype: int64"
      ]
     },
     "execution_count": 35,
     "metadata": {},
     "output_type": "execute_result"
    }
   ],
   "source": [
    "df1.isna().sum()"
   ]
  },
  {
   "cell_type": "markdown",
   "id": "ab111943-5bcc-4274-85d0-f487d6762bd9",
   "metadata": {},
   "source": [
    "<h3 style=\"color: #008080;\">Cleaning \"fatal\"</h3>"
   ]
  },
  {
   "cell_type": "code",
   "execution_count": 37,
   "id": "0baab238-9039-4552-8f89-b01872d6f989",
   "metadata": {},
   "outputs": [],
   "source": [
    "df1.fatal=df1.fatal.replace({\"UNKNOWN\": \"unknown\",\n",
    "                            \"Y x 2\": \"yes\",\n",
    "                            \"N \": \"no\",\n",
    "                            \"n\": \"no\",\n",
    "                            \" N\": \"no\",\n",
    "                            \"N\": \"no\",\n",
    "                            \"Y\": \"yes\",\n",
    "                            \"y\": \"yes\",\n",
    "                            \"Nq\": \"no\",\n",
    "                           })\n",
    "\n",
    "df1.fatal=df1.fatal.replace(2017, \"no\")\n",
    "\n",
    "# finding specific values and replacing them\n",
    "df1.at[42, 'fatal'] = \"no\" # not dead.\n",
    "df1.at[107, 'fatal'] = \"yes\" #Row 107 Chris Davis fatal.\n",
    "df1.at[191, 'fatal'] = \"unknown\" #Unknown\n",
    "df1.at[433, 'fatal'] = \"yes\" #Parts where recorverd from a shark.\n",
    "df1.at[439, 'fatal'] = \"yes\"\n",
    "df1.at[900, 'fatal'] = \"no\"\n",
    "\n",
    "# Cleaning NaN from Fatal:\n",
    "df1['injury'] = df1['injury'].str.lower()\n",
    "\n",
    "def fill_fatal(row):\n",
    "    if pd.isna(row['fatal']):\n",
    "        if row['injury'] == 'fatal':\n",
    "            return 'yes'\n",
    "        elif isinstance(row['injury'], str):\n",
    "            if 'injury' in row['injury'] or 'injured' in row['injury'] or 'injuries' in row['injury'] or 'bitten' in row['injury']:\n",
    "                return 'no'\n",
    "    return row ['fatal']\n",
    "\n",
    "df1['fatal'] = df1.apply(fill_fatal, axis = 1) # applying function to df1\n",
    "\n",
    "df1['fatal'] = df1['fatal'].fillna('unknown') # NaNs in \"fatal\" assigned to category \"unknown\""
   ]
  },
  {
   "cell_type": "code",
   "execution_count": 38,
   "id": "6c404ffd-cf4c-48c2-8ad3-9015f6548a63",
   "metadata": {},
   "outputs": [
    {
     "data": {
      "text/plain": [
       "(2693, 11)"
      ]
     },
     "execution_count": 38,
     "metadata": {},
     "output_type": "execute_result"
    }
   ],
   "source": [
    "df1.shape"
   ]
  },
  {
   "cell_type": "code",
   "execution_count": 39,
   "id": "663224f0-dfbd-417b-8e92-fe3ef2646ed1",
   "metadata": {},
   "outputs": [
    {
     "data": {
      "text/plain": [
       "date          0\n",
       "year          0\n",
       "country       2\n",
       "state       111\n",
       "location    107\n",
       "activity    125\n",
       "name         43\n",
       "sex         118\n",
       "age         672\n",
       "injury        8\n",
       "fatal         0\n",
       "dtype: int64"
      ]
     },
     "execution_count": 39,
     "metadata": {},
     "output_type": "execute_result"
    }
   ],
   "source": [
    "df1.isna().sum()"
   ]
  },
  {
   "cell_type": "code",
   "execution_count": 40,
   "id": "48d5f397-0bd5-4b35-9416-a8aabcb0cdbe",
   "metadata": {},
   "outputs": [],
   "source": [
    "# dropping \"injury\" and \"location\" (we don't need them in EDA)\n",
    "df1.drop(columns=[\"injury\", \"location\"], inplace=True)"
   ]
  },
  {
   "cell_type": "code",
   "execution_count": 41,
   "id": "7e451dd0-007a-44aa-b5ac-266f0c816ddd",
   "metadata": {},
   "outputs": [
    {
     "data": {
      "text/plain": [
       "(2693, 9)"
      ]
     },
     "execution_count": 41,
     "metadata": {},
     "output_type": "execute_result"
    }
   ],
   "source": [
    "df1.shape"
   ]
  },
  {
   "cell_type": "code",
   "execution_count": 42,
   "id": "cada291d-6086-422d-addf-95b6dd9acbaa",
   "metadata": {},
   "outputs": [
    {
     "data": {
      "text/plain": [
       "date          0\n",
       "year          0\n",
       "country       2\n",
       "state       111\n",
       "activity    125\n",
       "name         43\n",
       "sex         118\n",
       "age         672\n",
       "fatal         0\n",
       "dtype: int64"
      ]
     },
     "execution_count": 42,
     "metadata": {},
     "output_type": "execute_result"
    }
   ],
   "source": [
    "df1.isna().sum()"
   ]
  },
  {
   "cell_type": "markdown",
   "id": "25ff1001-794a-451f-bd18-dd3c7b40767b",
   "metadata": {},
   "source": [
    "<h3 style=\"color: #008080;\">Cleaning \"activity\"</h3>"
   ]
  },
  {
   "cell_type": "code",
   "execution_count": 44,
   "id": "ebd76c80-eb0b-4b54-8357-a37c126e82b1",
   "metadata": {},
   "outputs": [],
   "source": [
    "def cat_activ(activity):\n",
    "    if pd.isna(activity):\n",
    "        return pd.NA\n",
    "\n",
    "    activity = activity.lower()\n",
    "\n",
    "    if \"surf\" in activity or \"body\" in activity or \"boogie\" in activity or \"boarding\" in activity or \"foil\" in activity or \"kite\" in activity:\n",
    "        return \"surfing\"\n",
    "    elif \"swim\" in activity or \"wading\" in activity or \"bathing\" in activity or \"floating\" in activity:\n",
    "        return \"swimming\"\n",
    "    elif \"paddle\" in activity or \"sup\" in activity:\n",
    "        return \"paddling\"\n",
    "    elif \"diving\" in activity or \"dive\" in activity or \"scuba\" in activity:\n",
    "        return \"diving\"\n",
    "    elif \"snorkel\" in activity:\n",
    "        return \"snorkeling\"\n",
    "    elif \"fish\" in activity or \"lobster\" in activity or \"prawn\" in activity or \"scallop\" in activity or \"spear\" in activity:\n",
    "        return \"fishing\"\n",
    "    elif \"kayak\" in activity or \"boat\" in activity or \"vessel\" in activity or \"capsized\" in activity or \"rowing\" in activity or \"yacht\" in activity or \"sail\" in activity or \"canoe\" in activity or \"catamaran\" in activity:\n",
    "        return \"boating\"\n",
    "    elif \"shark\" in activity or \"feeding\" in activity or \"teasing\" in activity or \"grabbing\" in activity:\n",
    "        return \"sharking\"\n",
    "    else:\n",
    "        return \"others\"\n",
    "\n",
    "df1[\"activity\"] = df1[\"activity\"].apply(cat_activ) # apply function for categorizing column activity\n",
    "\n",
    "df1[\"activity\"] = df1[\"activity\"].ffill() # filling up the NaNs with the value before (the proportions almost don't change (max was 0.77% in \"surfing\" which is also proportional), so this seems to be the best method)"
   ]
  },
  {
   "cell_type": "code",
   "execution_count": 45,
   "id": "19c058ec-5e8a-4266-9277-11d9eb6855c5",
   "metadata": {},
   "outputs": [
    {
     "data": {
      "text/plain": [
       "(2693, 9)"
      ]
     },
     "execution_count": 45,
     "metadata": {},
     "output_type": "execute_result"
    }
   ],
   "source": [
    "df1.shape"
   ]
  },
  {
   "cell_type": "code",
   "execution_count": 46,
   "id": "7b7e893a-3895-4e3e-8d54-473a4c3b6189",
   "metadata": {},
   "outputs": [
    {
     "data": {
      "text/plain": [
       "date          0\n",
       "year          0\n",
       "country       2\n",
       "state       111\n",
       "activity      0\n",
       "name         43\n",
       "sex         118\n",
       "age         672\n",
       "fatal         0\n",
       "dtype: int64"
      ]
     },
     "execution_count": 46,
     "metadata": {},
     "output_type": "execute_result"
    }
   ],
   "source": [
    "df1.isna().sum()"
   ]
  },
  {
   "cell_type": "markdown",
   "id": "1e6c3926-8f8e-4b22-b351-ddabab4ba0f3",
   "metadata": {},
   "source": [
    "<h3 style=\"color: #008080;\">Cleaning \"sex\"</h3>"
   ]
  },
  {
   "cell_type": "code",
   "execution_count": 48,
   "id": "9073a68d-3a30-46e1-a216-6aadd8a16887",
   "metadata": {},
   "outputs": [],
   "source": [
    "df1.sex=df1.sex.replace({\" M\": \"M\",\n",
    "                         \"M \": \"M\",\n",
    "                         \"lli\": \"M\",\n",
    "                         \"N\": \"M\",\n",
    "                         \"M x 2\": \"M\",\n",
    "                         \".\": \"M\",\n",
    "                           })\n",
    "\n",
    "df1[\"sex\"] = df1[\"sex\"].ffill() # filling the nans with ffill because the proportions almost don't change (0.22% increase/decrease in each category)"
   ]
  },
  {
   "cell_type": "code",
   "execution_count": 49,
   "id": "14d11ddf-7379-4ceb-9557-31747afc3cab",
   "metadata": {},
   "outputs": [
    {
     "data": {
      "text/plain": [
       "(2693, 9)"
      ]
     },
     "execution_count": 49,
     "metadata": {},
     "output_type": "execute_result"
    }
   ],
   "source": [
    "df1.shape"
   ]
  },
  {
   "cell_type": "code",
   "execution_count": 50,
   "id": "bd04b0b6-ce4a-467d-bc03-8fae08451bba",
   "metadata": {},
   "outputs": [
    {
     "data": {
      "text/plain": [
       "date          0\n",
       "year          0\n",
       "country       2\n",
       "state       111\n",
       "activity      0\n",
       "name         43\n",
       "sex           0\n",
       "age         672\n",
       "fatal         0\n",
       "dtype: int64"
      ]
     },
     "execution_count": 50,
     "metadata": {},
     "output_type": "execute_result"
    }
   ],
   "source": [
    "df1.isna().sum()"
   ]
  },
  {
   "cell_type": "code",
   "execution_count": 51,
   "id": "0a0dbc74-226c-41cd-8956-d1ddab73f19b",
   "metadata": {},
   "outputs": [],
   "source": [
    "# dropping \"name\" because not needed in EDA, only in cleaning before\n",
    "df1.drop(columns=[\"name\"], inplace=True)"
   ]
  },
  {
   "cell_type": "code",
   "execution_count": 52,
   "id": "529a37a9-4837-428b-b0af-8ad4ff3a40a6",
   "metadata": {},
   "outputs": [
    {
     "data": {
      "text/plain": [
       "(2693, 8)"
      ]
     },
     "execution_count": 52,
     "metadata": {},
     "output_type": "execute_result"
    }
   ],
   "source": [
    "df1.shape"
   ]
  },
  {
   "cell_type": "code",
   "execution_count": 53,
   "id": "acfca82b-9c33-4a5b-8332-a997a0205169",
   "metadata": {},
   "outputs": [
    {
     "data": {
      "text/plain": [
       "date          0\n",
       "year          0\n",
       "country       2\n",
       "state       111\n",
       "activity      0\n",
       "sex           0\n",
       "age         672\n",
       "fatal         0\n",
       "dtype: int64"
      ]
     },
     "execution_count": 53,
     "metadata": {},
     "output_type": "execute_result"
    }
   ],
   "source": [
    "df1.isna().sum()"
   ]
  },
  {
   "cell_type": "markdown",
   "id": "470981fb-e69e-4a8f-b055-243f6c785bc8",
   "metadata": {},
   "source": [
    "<h3 style=\"color: #008080;\">Cleaning \"age\"</h3>"
   ]
  },
  {
   "cell_type": "code",
   "execution_count": 55,
   "id": "bf113f7b-dbfe-4b28-a051-1510309f41da",
   "metadata": {},
   "outputs": [],
   "source": [
    "# Function to clean and standardize the 'Age' column\n",
    "def clean_age(age):\n",
    "    if pd.isna(age):\n",
    "        return np.nan\n",
    "\n",
    "    age = str(age).strip().lower()\n",
    "\n",
    "    # Removing unwanted characters\n",
    "    age = re.sub(r'[^0-9\\s&-]', '', age)  # Remove non-numeric characters except spaces, '&' and '-'\n",
    "    age = re.sub(r'and', '&', age)        # Normalize 'and' to '&'\n",
    "\n",
    "    # Handling multiple or unclear age entries\n",
    "    if '&' in age or 'or' in age:\n",
    "        return 'Multiple'\n",
    "    elif 'months' in age or 'minor' in age or 'teen' in age or 'young' in age:\n",
    "        return 'Under 20'\n",
    "    elif 'adult' in age:\n",
    "        return 'Adult'\n",
    "    elif 'elderly' in age:\n",
    "        return 'Elderly'\n",
    "    else:\n",
    "        # Extracting digits (assume it's a valid number)\n",
    "        numbers = re.findall(r'\\d+', age)\n",
    "        if numbers:\n",
    "            return int(numbers[0])  # Return the first number found as age\n",
    "\n",
    "    return np.nan  # If no valid age is found, return NaN\n",
    "\n",
    "# Applying the cleaning function to the 'Age' column\n",
    "df1['age'] = df1['age'].apply(clean_age)\n",
    "\n",
    "# Convert 'Cleaned_Age' to numeric values\n",
    "df1['age'] = pd.to_numeric(df1['age'], errors='coerce')\n",
    "\n",
    "# Filling missing values with the median age\n",
    "median_age = df1['age'].median()\n",
    "df1['age'] = df1['age'].fillna(median_age)\n",
    "\n",
    "# For rows where 'Multiple' was assigned, filling it with the median age\n",
    "df1.loc[df1['age'] == 'Multiple', 'age'] = median_age\n",
    "\n",
    "df1.loc[df1[\"age\"] == 2030] = median_age # replacing an outlier with the median age"
   ]
  },
  {
   "cell_type": "code",
   "execution_count": 56,
   "id": "fb9810da-596c-41bc-89a8-83b239b7e6cf",
   "metadata": {},
   "outputs": [
    {
     "data": {
      "text/plain": [
       "(2693, 8)"
      ]
     },
     "execution_count": 56,
     "metadata": {},
     "output_type": "execute_result"
    }
   ],
   "source": [
    "df1.shape"
   ]
  },
  {
   "cell_type": "code",
   "execution_count": 57,
   "id": "e27a87bc-32e0-4bd5-b35a-de1b8576ff20",
   "metadata": {},
   "outputs": [
    {
     "data": {
      "text/plain": [
       "date          0\n",
       "year          0\n",
       "country       2\n",
       "state       111\n",
       "activity      0\n",
       "sex           0\n",
       "age           0\n",
       "fatal         0\n",
       "dtype: int64"
      ]
     },
     "execution_count": 57,
     "metadata": {},
     "output_type": "execute_result"
    }
   ],
   "source": [
    "df1.isna().sum()"
   ]
  },
  {
   "cell_type": "markdown",
   "id": "dd1d6702-6828-4678-8060-ae1392e19b17",
   "metadata": {},
   "source": [
    "<h3 style=\"color: #008080;\">Cleaning \"state\" and \"country\" once again</h3>"
   ]
  },
  {
   "cell_type": "code",
   "execution_count": 59,
   "id": "562ea498-6b32-4bab-9767-4d218d7ad038",
   "metadata": {},
   "outputs": [],
   "source": [
    "df1.dropna(subset=[\"state\"], inplace=True) # dropping nans in state, then the 2 nans in country are gone as well"
   ]
  },
  {
   "cell_type": "markdown",
   "id": "896e2c07-b114-468e-a92a-64f7775f09f1",
   "metadata": {},
   "source": [
    "<h3 style=\"color: #008080;\">Final check on clean data</h3>"
   ]
  },
  {
   "cell_type": "code",
   "execution_count": 61,
   "id": "e1049e1e-1a52-4de2-a882-e82e68d38ff0",
   "metadata": {},
   "outputs": [
    {
     "data": {
      "text/plain": [
       "(2582, 8)"
      ]
     },
     "execution_count": 61,
     "metadata": {},
     "output_type": "execute_result"
    }
   ],
   "source": [
    "df1.shape"
   ]
  },
  {
   "cell_type": "code",
   "execution_count": 62,
   "id": "9bbad57f-c6ce-41e6-ae54-ba2ddc616d59",
   "metadata": {},
   "outputs": [
    {
     "data": {
      "text/plain": [
       "date        0\n",
       "year        0\n",
       "country     0\n",
       "state       0\n",
       "activity    0\n",
       "sex         0\n",
       "age         0\n",
       "fatal       0\n",
       "dtype: int64"
      ]
     },
     "execution_count": 62,
     "metadata": {},
     "output_type": "execute_result"
    }
   ],
   "source": [
    "df1.isna().sum()"
   ]
  },
  {
   "cell_type": "code",
   "execution_count": 63,
   "id": "88b63d4e-409a-474a-82c7-9c4f24fcfab3",
   "metadata": {},
   "outputs": [
    {
     "data": {
      "text/plain": [
       "date         object\n",
       "year        float64\n",
       "country      object\n",
       "state        object\n",
       "activity     object\n",
       "sex          object\n",
       "age         float64\n",
       "fatal        object\n",
       "dtype: object"
      ]
     },
     "execution_count": 63,
     "metadata": {},
     "output_type": "execute_result"
    }
   ],
   "source": [
    "df1.dtypes"
   ]
  },
  {
   "cell_type": "markdown",
   "id": "2a716449-cd20-454c-8e21-805617121efc",
   "metadata": {},
   "source": [
    "<h1 style=\"color: #00BFFF;\">03 | EDA (Exploratory Data Analysis)</h1>"
   ]
  },
  {
   "cell_type": "markdown",
   "id": "905d5af2",
   "metadata": {
    "tags": []
   },
   "source": [
    "<h3 style=\"color: #008080;\">Statistical information about the numerical columns</h3>"
   ]
  },
  {
   "cell_type": "code",
   "execution_count": 66,
   "id": "05b02d7b-6ad8-4aa8-9aa9-b0c826d2a0d1",
   "metadata": {},
   "outputs": [
    {
     "data": {
      "text/html": [
       "<div>\n",
       "<style scoped>\n",
       "    .dataframe tbody tr th:only-of-type {\n",
       "        vertical-align: middle;\n",
       "    }\n",
       "\n",
       "    .dataframe tbody tr th {\n",
       "        vertical-align: top;\n",
       "    }\n",
       "\n",
       "    .dataframe thead th {\n",
       "        text-align: right;\n",
       "    }\n",
       "</style>\n",
       "<table border=\"1\" class=\"dataframe\">\n",
       "  <thead>\n",
       "    <tr style=\"text-align: right;\">\n",
       "      <th></th>\n",
       "      <th>year</th>\n",
       "      <th>age</th>\n",
       "    </tr>\n",
       "  </thead>\n",
       "  <tbody>\n",
       "    <tr>\n",
       "      <th>count</th>\n",
       "      <td>2582.0</td>\n",
       "      <td>2582.0</td>\n",
       "    </tr>\n",
       "    <tr>\n",
       "      <th>mean</th>\n",
       "      <td>2011.2</td>\n",
       "      <td>30.1</td>\n",
       "    </tr>\n",
       "    <tr>\n",
       "      <th>std</th>\n",
       "      <td>39.6</td>\n",
       "      <td>14.0</td>\n",
       "    </tr>\n",
       "    <tr>\n",
       "      <th>min</th>\n",
       "      <td>28.0</td>\n",
       "      <td>2.0</td>\n",
       "    </tr>\n",
       "    <tr>\n",
       "      <th>25%</th>\n",
       "      <td>2006.0</td>\n",
       "      <td>20.0</td>\n",
       "    </tr>\n",
       "    <tr>\n",
       "      <th>50%</th>\n",
       "      <td>2012.0</td>\n",
       "      <td>28.0</td>\n",
       "    </tr>\n",
       "    <tr>\n",
       "      <th>75%</th>\n",
       "      <td>2017.0</td>\n",
       "      <td>37.0</td>\n",
       "    </tr>\n",
       "    <tr>\n",
       "      <th>max</th>\n",
       "      <td>2024.0</td>\n",
       "      <td>86.0</td>\n",
       "    </tr>\n",
       "  </tbody>\n",
       "</table>\n",
       "</div>"
      ],
      "text/plain": [
       "         year     age\n",
       "count  2582.0  2582.0\n",
       "mean   2011.2    30.1\n",
       "std      39.6    14.0\n",
       "min      28.0     2.0\n",
       "25%    2006.0    20.0\n",
       "50%    2012.0    28.0\n",
       "75%    2017.0    37.0\n",
       "max    2024.0    86.0"
      ]
     },
     "execution_count": 66,
     "metadata": {},
     "output_type": "execute_result"
    }
   ],
   "source": [
    "round(df1.describe(), 1)"
   ]
  },
  {
   "cell_type": "markdown",
   "id": "44546062",
   "metadata": {},
   "source": [
    "<h3 style=\"color: #008080;\">Grouping countries and comparing number of attacks</h3>\n",
    "Here, we are grouping the countries in three groups: USA, Australia and \"Other\" because in our Hypothesis we assumed that most shark attacks happen in Auftralia and the USA, so we want to check whether this is true."
   ]
  },
  {
   "cell_type": "code",
   "execution_count": 68,
   "id": "e83379f5-e164-433f-a15f-51657266badc",
   "metadata": {},
   "outputs": [],
   "source": [
    "# Grouping countries into 'USA', 'AUSTRALIA', and 'Other' for all other countries\n",
    "df1['Group'] = df1['country'].apply(lambda x: 'USA' if x == 'USA' else 'AUSTRALIA' if x == 'AUSTRALIA' else 'Other')"
   ]
  },
  {
   "cell_type": "code",
   "execution_count": 69,
   "id": "b83c1f11-87c6-457a-8132-d66238d4c5a3",
   "metadata": {},
   "outputs": [
    {
     "data": {
      "image/png": "[encoded data removed]",
      "text/plain": [
       "<Figure size 800x600 with 1 Axes>"
      ]
     },
     "metadata": {},
     "output_type": "display_data"
    }
   ],
   "source": [
    "# pie chart for shark attacks by country group (USA, Australia, other countries)\n",
    "plt.figure(figsize=(8, 6))\n",
    "df1['Group'].value_counts().plot.pie(autopct='%1.1f%%')\n",
    "plt.title('Proportion of Shark Attacks by countries')\n",
    "plt.show()"
   ]
  },
  {
   "cell_type": "code",
   "execution_count": null,
   "id": "9035d5b0-5317-4d7e-840d-838a74278c56",
   "metadata": {},
   "outputs": [],
   "source": []
  },
  {
   "cell_type": "code",
   "execution_count": null,
   "id": "d52e5e3c-ca84-4e0b-8335-fa342d1cd516",
   "metadata": {},
   "outputs": [],
   "source": []
  },
  {
   "cell_type": "markdown",
   "id": "5c3ccc4b-610a-4da3-bbec-77ad8e1a340d",
   "metadata": {
    "tags": []
   },
   "source": [
    "<h3 style=\"color: #008080;\">Correlation on ....</h3>\n",
    "explanation...."
   ]
  },
  {
   "cell_type": "code",
   "execution_count": 71,
   "id": "7c3faa49-031b-466f-afd9-221216ce6d99",
   "metadata": {},
   "outputs": [
    {
     "ename": "AttributeError",
     "evalue": "'float' object has no attribute 'lower'",
     "output_type": "error",
     "traceback": [
      "\u001b[1;31m---------------------------------------------------------------------------\u001b[0m",
      "\u001b[1;31mAttributeError\u001b[0m                            Traceback (most recent call last)",
      "Cell \u001b[1;32mIn[71], line 6\u001b[0m\n\u001b[0;32m      3\u001b[0m df1[\u001b[38;5;124m'\u001b[39m\u001b[38;5;124mCountry Group\u001b[39m\u001b[38;5;124m'\u001b[39m] \u001b[38;5;241m=\u001b[39m df1[\u001b[38;5;124m'\u001b[39m\u001b[38;5;124mcountry\u001b[39m\u001b[38;5;124m'\u001b[39m]\u001b[38;5;241m.\u001b[39mapply(\u001b[38;5;28;01mlambda\u001b[39;00m x: \u001b[38;5;124m'\u001b[39m\u001b[38;5;124mUSA & Australia\u001b[39m\u001b[38;5;124m'\u001b[39m \u001b[38;5;28;01mif\u001b[39;00m x \u001b[38;5;129;01min\u001b[39;00m [\u001b[38;5;124m'\u001b[39m\u001b[38;5;124mUSA\u001b[39m\u001b[38;5;124m'\u001b[39m, \u001b[38;5;124m'\u001b[39m\u001b[38;5;124mAUSTRALIA\u001b[39m\u001b[38;5;124m'\u001b[39m] \u001b[38;5;28;01melse\u001b[39;00m \u001b[38;5;124m'\u001b[39m\u001b[38;5;124mOther\u001b[39m\u001b[38;5;124m'\u001b[39m)\n\u001b[0;32m      5\u001b[0m \u001b[38;5;66;03m# Step 3: Apply the categorization function to create a new 'activity_group' column\u001b[39;00m\n\u001b[1;32m----> 6\u001b[0m df1[\u001b[38;5;124m'\u001b[39m\u001b[38;5;124mactivity_group\u001b[39m\u001b[38;5;124m'\u001b[39m] \u001b[38;5;241m=\u001b[39m df1[\u001b[38;5;124m'\u001b[39m\u001b[38;5;124mactivity\u001b[39m\u001b[38;5;124m'\u001b[39m]\u001b[38;5;241m.\u001b[39mapply(cat_activ)\n\u001b[0;32m      8\u001b[0m \u001b[38;5;66;03m# Step 4: Filter the dataset to include only rows with 'fatal' values of 'yes' or 'no'\u001b[39;00m\n\u001b[0;32m      9\u001b[0m df1 \u001b[38;5;241m=\u001b[39m df1[df1[\u001b[38;5;124m'\u001b[39m\u001b[38;5;124mfatal\u001b[39m\u001b[38;5;124m'\u001b[39m]\u001b[38;5;241m.\u001b[39misin([\u001b[38;5;124m'\u001b[39m\u001b[38;5;124myes\u001b[39m\u001b[38;5;124m'\u001b[39m, \u001b[38;5;124m'\u001b[39m\u001b[38;5;124mno\u001b[39m\u001b[38;5;124m'\u001b[39m])]\n",
      "File \u001b[1;32m~\\anaconda3\\Lib\\site-packages\\pandas\\core\\series.py:4764\u001b[0m, in \u001b[0;36mSeries.apply\u001b[1;34m(self, func, convert_dtype, args, by_row, **kwargs)\u001b[0m\n\u001b[0;32m   4629\u001b[0m \u001b[38;5;28;01mdef\u001b[39;00m \u001b[38;5;21mapply\u001b[39m(\n\u001b[0;32m   4630\u001b[0m     \u001b[38;5;28mself\u001b[39m,\n\u001b[0;32m   4631\u001b[0m     func: AggFuncType,\n\u001b[1;32m   (...)\u001b[0m\n\u001b[0;32m   4636\u001b[0m     \u001b[38;5;241m*\u001b[39m\u001b[38;5;241m*\u001b[39mkwargs,\n\u001b[0;32m   4637\u001b[0m ) \u001b[38;5;241m-\u001b[39m\u001b[38;5;241m>\u001b[39m DataFrame \u001b[38;5;241m|\u001b[39m Series:\n\u001b[0;32m   4638\u001b[0m \u001b[38;5;250m    \u001b[39m\u001b[38;5;124;03m\"\"\"\u001b[39;00m\n\u001b[0;32m   4639\u001b[0m \u001b[38;5;124;03m    Invoke function on values of Series.\u001b[39;00m\n\u001b[0;32m   4640\u001b[0m \n\u001b[1;32m   (...)\u001b[0m\n\u001b[0;32m   4755\u001b[0m \u001b[38;5;124;03m    dtype: float64\u001b[39;00m\n\u001b[0;32m   4756\u001b[0m \u001b[38;5;124;03m    \"\"\"\u001b[39;00m\n\u001b[0;32m   4757\u001b[0m     \u001b[38;5;28;01mreturn\u001b[39;00m SeriesApply(\n\u001b[0;32m   4758\u001b[0m         \u001b[38;5;28mself\u001b[39m,\n\u001b[0;32m   4759\u001b[0m         func,\n\u001b[0;32m   4760\u001b[0m         convert_dtype\u001b[38;5;241m=\u001b[39mconvert_dtype,\n\u001b[0;32m   4761\u001b[0m         by_row\u001b[38;5;241m=\u001b[39mby_row,\n\u001b[0;32m   4762\u001b[0m         args\u001b[38;5;241m=\u001b[39margs,\n\u001b[0;32m   4763\u001b[0m         kwargs\u001b[38;5;241m=\u001b[39mkwargs,\n\u001b[1;32m-> 4764\u001b[0m     )\u001b[38;5;241m.\u001b[39mapply()\n",
      "File \u001b[1;32m~\\anaconda3\\Lib\\site-packages\\pandas\\core\\apply.py:1209\u001b[0m, in \u001b[0;36mSeriesApply.apply\u001b[1;34m(self)\u001b[0m\n\u001b[0;32m   1206\u001b[0m     \u001b[38;5;28;01mreturn\u001b[39;00m \u001b[38;5;28mself\u001b[39m\u001b[38;5;241m.\u001b[39mapply_compat()\n\u001b[0;32m   1208\u001b[0m \u001b[38;5;66;03m# self.func is Callable\u001b[39;00m\n\u001b[1;32m-> 1209\u001b[0m \u001b[38;5;28;01mreturn\u001b[39;00m \u001b[38;5;28mself\u001b[39m\u001b[38;5;241m.\u001b[39mapply_standard()\n",
      "File \u001b[1;32m~\\anaconda3\\Lib\\site-packages\\pandas\\core\\apply.py:1289\u001b[0m, in \u001b[0;36mSeriesApply.apply_standard\u001b[1;34m(self)\u001b[0m\n\u001b[0;32m   1283\u001b[0m \u001b[38;5;66;03m# row-wise access\u001b[39;00m\n\u001b[0;32m   1284\u001b[0m \u001b[38;5;66;03m# apply doesn't have a `na_action` keyword and for backward compat reasons\u001b[39;00m\n\u001b[0;32m   1285\u001b[0m \u001b[38;5;66;03m# we need to give `na_action=\"ignore\"` for categorical data.\u001b[39;00m\n\u001b[0;32m   1286\u001b[0m \u001b[38;5;66;03m# TODO: remove the `na_action=\"ignore\"` when that default has been changed in\u001b[39;00m\n\u001b[0;32m   1287\u001b[0m \u001b[38;5;66;03m#  Categorical (GH51645).\u001b[39;00m\n\u001b[0;32m   1288\u001b[0m action \u001b[38;5;241m=\u001b[39m \u001b[38;5;124m\"\u001b[39m\u001b[38;5;124mignore\u001b[39m\u001b[38;5;124m\"\u001b[39m \u001b[38;5;28;01mif\u001b[39;00m \u001b[38;5;28misinstance\u001b[39m(obj\u001b[38;5;241m.\u001b[39mdtype, CategoricalDtype) \u001b[38;5;28;01melse\u001b[39;00m \u001b[38;5;28;01mNone\u001b[39;00m\n\u001b[1;32m-> 1289\u001b[0m mapped \u001b[38;5;241m=\u001b[39m obj\u001b[38;5;241m.\u001b[39m_map_values(\n\u001b[0;32m   1290\u001b[0m     mapper\u001b[38;5;241m=\u001b[39mcurried, na_action\u001b[38;5;241m=\u001b[39maction, convert\u001b[38;5;241m=\u001b[39m\u001b[38;5;28mself\u001b[39m\u001b[38;5;241m.\u001b[39mconvert_dtype\n\u001b[0;32m   1291\u001b[0m )\n\u001b[0;32m   1293\u001b[0m \u001b[38;5;28;01mif\u001b[39;00m \u001b[38;5;28mlen\u001b[39m(mapped) \u001b[38;5;129;01mand\u001b[39;00m \u001b[38;5;28misinstance\u001b[39m(mapped[\u001b[38;5;241m0\u001b[39m], ABCSeries):\n\u001b[0;32m   1294\u001b[0m     \u001b[38;5;66;03m# GH#43986 Need to do list(mapped) in order to get treated as nested\u001b[39;00m\n\u001b[0;32m   1295\u001b[0m     \u001b[38;5;66;03m#  See also GH#25959 regarding EA support\u001b[39;00m\n\u001b[0;32m   1296\u001b[0m     \u001b[38;5;28;01mreturn\u001b[39;00m obj\u001b[38;5;241m.\u001b[39m_constructor_expanddim(\u001b[38;5;28mlist\u001b[39m(mapped), index\u001b[38;5;241m=\u001b[39mobj\u001b[38;5;241m.\u001b[39mindex)\n",
      "File \u001b[1;32m~\\anaconda3\\Lib\\site-packages\\pandas\\core\\base.py:921\u001b[0m, in \u001b[0;36mIndexOpsMixin._map_values\u001b[1;34m(self, mapper, na_action, convert)\u001b[0m\n\u001b[0;32m    918\u001b[0m \u001b[38;5;28;01mif\u001b[39;00m \u001b[38;5;28misinstance\u001b[39m(arr, ExtensionArray):\n\u001b[0;32m    919\u001b[0m     \u001b[38;5;28;01mreturn\u001b[39;00m arr\u001b[38;5;241m.\u001b[39mmap(mapper, na_action\u001b[38;5;241m=\u001b[39mna_action)\n\u001b[1;32m--> 921\u001b[0m \u001b[38;5;28;01mreturn\u001b[39;00m algorithms\u001b[38;5;241m.\u001b[39mmap_array(arr, mapper, na_action\u001b[38;5;241m=\u001b[39mna_action, convert\u001b[38;5;241m=\u001b[39mconvert)\n",
      "File \u001b[1;32m~\\anaconda3\\Lib\\site-packages\\pandas\\core\\algorithms.py:1814\u001b[0m, in \u001b[0;36mmap_array\u001b[1;34m(arr, mapper, na_action, convert)\u001b[0m\n\u001b[0;32m   1812\u001b[0m values \u001b[38;5;241m=\u001b[39m arr\u001b[38;5;241m.\u001b[39mastype(\u001b[38;5;28mobject\u001b[39m, copy\u001b[38;5;241m=\u001b[39m\u001b[38;5;28;01mFalse\u001b[39;00m)\n\u001b[0;32m   1813\u001b[0m \u001b[38;5;28;01mif\u001b[39;00m na_action \u001b[38;5;129;01mis\u001b[39;00m \u001b[38;5;28;01mNone\u001b[39;00m:\n\u001b[1;32m-> 1814\u001b[0m     \u001b[38;5;28;01mreturn\u001b[39;00m lib\u001b[38;5;241m.\u001b[39mmap_infer(values, mapper, convert\u001b[38;5;241m=\u001b[39mconvert)\n\u001b[0;32m   1815\u001b[0m \u001b[38;5;28;01melse\u001b[39;00m:\n\u001b[0;32m   1816\u001b[0m     \u001b[38;5;28;01mreturn\u001b[39;00m lib\u001b[38;5;241m.\u001b[39mmap_infer_mask(\n\u001b[0;32m   1817\u001b[0m         values, mapper, mask\u001b[38;5;241m=\u001b[39misna(values)\u001b[38;5;241m.\u001b[39mview(np\u001b[38;5;241m.\u001b[39muint8), convert\u001b[38;5;241m=\u001b[39mconvert\n\u001b[0;32m   1818\u001b[0m     )\n",
      "File \u001b[1;32mlib.pyx:2926\u001b[0m, in \u001b[0;36mpandas._libs.lib.map_infer\u001b[1;34m()\u001b[0m\n",
      "Cell \u001b[1;32mIn[44], line 5\u001b[0m, in \u001b[0;36mcat_activ\u001b[1;34m(activity)\u001b[0m\n\u001b[0;32m      2\u001b[0m \u001b[38;5;28;01mif\u001b[39;00m pd\u001b[38;5;241m.\u001b[39misna(activity):\n\u001b[0;32m      3\u001b[0m     \u001b[38;5;28;01mreturn\u001b[39;00m pd\u001b[38;5;241m.\u001b[39mNA\n\u001b[1;32m----> 5\u001b[0m activity \u001b[38;5;241m=\u001b[39m activity\u001b[38;5;241m.\u001b[39mlower()\n\u001b[0;32m      7\u001b[0m \u001b[38;5;28;01mif\u001b[39;00m \u001b[38;5;124m\"\u001b[39m\u001b[38;5;124msurf\u001b[39m\u001b[38;5;124m\"\u001b[39m \u001b[38;5;129;01min\u001b[39;00m activity \u001b[38;5;129;01mor\u001b[39;00m \u001b[38;5;124m\"\u001b[39m\u001b[38;5;124mbody\u001b[39m\u001b[38;5;124m\"\u001b[39m \u001b[38;5;129;01min\u001b[39;00m activity \u001b[38;5;129;01mor\u001b[39;00m \u001b[38;5;124m\"\u001b[39m\u001b[38;5;124mboogie\u001b[39m\u001b[38;5;124m\"\u001b[39m \u001b[38;5;129;01min\u001b[39;00m activity \u001b[38;5;129;01mor\u001b[39;00m \u001b[38;5;124m\"\u001b[39m\u001b[38;5;124mboarding\u001b[39m\u001b[38;5;124m\"\u001b[39m \u001b[38;5;129;01min\u001b[39;00m activity \u001b[38;5;129;01mor\u001b[39;00m \u001b[38;5;124m\"\u001b[39m\u001b[38;5;124mfoil\u001b[39m\u001b[38;5;124m\"\u001b[39m \u001b[38;5;129;01min\u001b[39;00m activity \u001b[38;5;129;01mor\u001b[39;00m \u001b[38;5;124m\"\u001b[39m\u001b[38;5;124mkite\u001b[39m\u001b[38;5;124m\"\u001b[39m \u001b[38;5;129;01min\u001b[39;00m activity:\n\u001b[0;32m      8\u001b[0m     \u001b[38;5;28;01mreturn\u001b[39;00m \u001b[38;5;124m\"\u001b[39m\u001b[38;5;124msurfing\u001b[39m\u001b[38;5;124m\"\u001b[39m\n",
      "\u001b[1;31mAttributeError\u001b[0m: 'float' object has no attribute 'lower'"
     ]
    }
   ],
   "source": [
    "# Comparison of Activities and Fatality (Yes/No) in USA & Australia vs Other Countries\n",
    "\n",
    "df1['Country Group'] = df1['country'].apply(lambda x: 'USA & Australia' if x in ['USA', 'AUSTRALIA'] else 'Other')\n",
    "\n",
    "# Step 3: Apply the categorization function to create a new 'activity_group' column\n",
    "df1['activity_group'] = df1['activity'].apply(cat_activ)\n",
    "\n",
    "# Step 4: Filter the dataset to include only rows with 'fatal' values of 'yes' or 'no'\n",
    "df1 = df1[df1['fatal'].isin(['yes', 'no'])]\n",
    "\n",
    "# Step 5: Group by 'Country Group', 'activity_group', and 'fatal', then count the occurrences\n",
    "activity_fatal_counts = df1.groupby(['Country Group', 'activity_group', 'fatal']).size().unstack(fill_value=0)\n",
    "\n",
    "# Step 6: Plot the data - Count of activities and fatality in each country group\n",
    "plt.figure(figsize=(12, 8))\n",
    "activity_fatal_counts.plot(kind='bar', stacked=True, colormap='Set2', figsize=(12, 8))\n",
    "\n",
    "# Step 7: Customize the plot\n",
    "plt.title('Comparison of Activities and Fatality (Yes/No) in USA & Australia vs Other Countries')\n",
    "plt.ylabel('Count of Activities and Fatalities')\n",
    "plt.xlabel('Country Group and Activity')\n",
    "plt.xticks(rotation=45, ha='right')  # Rotate x-axis labels for readability\n",
    "plt.legend(title='Fatality', bbox_to_anchor=(1.05, 1), loc='upper left')\n",
    "plt.tight_layout()\n",
    "\n",
    "plt.show()"
   ]
  },
  {
   "cell_type": "markdown",
   "id": "e16014cc-9b6b-4452-ad61-9af6b609855f",
   "metadata": {
    "tags": []
   },
   "source": [
    "<h3 style=\"color: #008080;\">Correlation on ....</h3>"
   ]
  },
  {
   "cell_type": "code",
   "execution_count": 80,
   "id": "9fd21244-7b86-46b7-ac61-887e54636832",
   "metadata": {},
   "outputs": [
    {
     "ename": "AttributeError",
     "evalue": "'float' object has no attribute 'lower'",
     "output_type": "error",
     "traceback": [
      "\u001b[1;31m---------------------------------------------------------------------------\u001b[0m",
      "\u001b[1;31mAttributeError\u001b[0m                            Traceback (most recent call last)",
      "Cell \u001b[1;32mIn[80], line 6\u001b[0m\n\u001b[0;32m      3\u001b[0m df1[\u001b[38;5;124m'\u001b[39m\u001b[38;5;124mCountry Group\u001b[39m\u001b[38;5;124m'\u001b[39m] \u001b[38;5;241m=\u001b[39m df1[\u001b[38;5;124m'\u001b[39m\u001b[38;5;124mcountry\u001b[39m\u001b[38;5;124m'\u001b[39m]\u001b[38;5;241m.\u001b[39mapply(\u001b[38;5;28;01mlambda\u001b[39;00m x: \u001b[38;5;124m'\u001b[39m\u001b[38;5;124mUSA & Australia\u001b[39m\u001b[38;5;124m'\u001b[39m \u001b[38;5;28;01mif\u001b[39;00m x \u001b[38;5;129;01min\u001b[39;00m [\u001b[38;5;124m'\u001b[39m\u001b[38;5;124mUSA\u001b[39m\u001b[38;5;124m'\u001b[39m, \u001b[38;5;124m'\u001b[39m\u001b[38;5;124mAUSTRALIA\u001b[39m\u001b[38;5;124m'\u001b[39m] \u001b[38;5;28;01melse\u001b[39;00m \u001b[38;5;124m'\u001b[39m\u001b[38;5;124mOther\u001b[39m\u001b[38;5;124m'\u001b[39m)\n\u001b[0;32m      5\u001b[0m \u001b[38;5;66;03m# Step 2: Apply the categorization function to create a new 'activity_group' column\u001b[39;00m\n\u001b[1;32m----> 6\u001b[0m df1[\u001b[38;5;124m'\u001b[39m\u001b[38;5;124mactivity_group\u001b[39m\u001b[38;5;124m'\u001b[39m] \u001b[38;5;241m=\u001b[39m df1[\u001b[38;5;124m'\u001b[39m\u001b[38;5;124mactivity\u001b[39m\u001b[38;5;124m'\u001b[39m]\u001b[38;5;241m.\u001b[39mapply(cat_activ)\n\u001b[0;32m      8\u001b[0m \u001b[38;5;66;03m# Step 3: Group by 'Country Group' and 'activity_group', then count the occurrences\u001b[39;00m\n\u001b[0;32m      9\u001b[0m activity_counts \u001b[38;5;241m=\u001b[39m df1\u001b[38;5;241m.\u001b[39mgroupby([\u001b[38;5;124m'\u001b[39m\u001b[38;5;124mCountry Group\u001b[39m\u001b[38;5;124m'\u001b[39m, \u001b[38;5;124m'\u001b[39m\u001b[38;5;124mactivity_group\u001b[39m\u001b[38;5;124m'\u001b[39m])\u001b[38;5;241m.\u001b[39msize()\u001b[38;5;241m.\u001b[39munstack(fill_value\u001b[38;5;241m=\u001b[39m\u001b[38;5;241m0\u001b[39m)\n",
      "File \u001b[1;32m~\\anaconda3\\Lib\\site-packages\\pandas\\core\\series.py:4764\u001b[0m, in \u001b[0;36mSeries.apply\u001b[1;34m(self, func, convert_dtype, args, by_row, **kwargs)\u001b[0m\n\u001b[0;32m   4629\u001b[0m \u001b[38;5;28;01mdef\u001b[39;00m \u001b[38;5;21mapply\u001b[39m(\n\u001b[0;32m   4630\u001b[0m     \u001b[38;5;28mself\u001b[39m,\n\u001b[0;32m   4631\u001b[0m     func: AggFuncType,\n\u001b[1;32m   (...)\u001b[0m\n\u001b[0;32m   4636\u001b[0m     \u001b[38;5;241m*\u001b[39m\u001b[38;5;241m*\u001b[39mkwargs,\n\u001b[0;32m   4637\u001b[0m ) \u001b[38;5;241m-\u001b[39m\u001b[38;5;241m>\u001b[39m DataFrame \u001b[38;5;241m|\u001b[39m Series:\n\u001b[0;32m   4638\u001b[0m \u001b[38;5;250m    \u001b[39m\u001b[38;5;124;03m\"\"\"\u001b[39;00m\n\u001b[0;32m   4639\u001b[0m \u001b[38;5;124;03m    Invoke function on values of Series.\u001b[39;00m\n\u001b[0;32m   4640\u001b[0m \n\u001b[1;32m   (...)\u001b[0m\n\u001b[0;32m   4755\u001b[0m \u001b[38;5;124;03m    dtype: float64\u001b[39;00m\n\u001b[0;32m   4756\u001b[0m \u001b[38;5;124;03m    \"\"\"\u001b[39;00m\n\u001b[0;32m   4757\u001b[0m     \u001b[38;5;28;01mreturn\u001b[39;00m SeriesApply(\n\u001b[0;32m   4758\u001b[0m         \u001b[38;5;28mself\u001b[39m,\n\u001b[0;32m   4759\u001b[0m         func,\n\u001b[0;32m   4760\u001b[0m         convert_dtype\u001b[38;5;241m=\u001b[39mconvert_dtype,\n\u001b[0;32m   4761\u001b[0m         by_row\u001b[38;5;241m=\u001b[39mby_row,\n\u001b[0;32m   4762\u001b[0m         args\u001b[38;5;241m=\u001b[39margs,\n\u001b[0;32m   4763\u001b[0m         kwargs\u001b[38;5;241m=\u001b[39mkwargs,\n\u001b[1;32m-> 4764\u001b[0m     )\u001b[38;5;241m.\u001b[39mapply()\n",
      "File \u001b[1;32m~\\anaconda3\\Lib\\site-packages\\pandas\\core\\apply.py:1209\u001b[0m, in \u001b[0;36mSeriesApply.apply\u001b[1;34m(self)\u001b[0m\n\u001b[0;32m   1206\u001b[0m     \u001b[38;5;28;01mreturn\u001b[39;00m \u001b[38;5;28mself\u001b[39m\u001b[38;5;241m.\u001b[39mapply_compat()\n\u001b[0;32m   1208\u001b[0m \u001b[38;5;66;03m# self.func is Callable\u001b[39;00m\n\u001b[1;32m-> 1209\u001b[0m \u001b[38;5;28;01mreturn\u001b[39;00m \u001b[38;5;28mself\u001b[39m\u001b[38;5;241m.\u001b[39mapply_standard()\n",
      "File \u001b[1;32m~\\anaconda3\\Lib\\site-packages\\pandas\\core\\apply.py:1289\u001b[0m, in \u001b[0;36mSeriesApply.apply_standard\u001b[1;34m(self)\u001b[0m\n\u001b[0;32m   1283\u001b[0m \u001b[38;5;66;03m# row-wise access\u001b[39;00m\n\u001b[0;32m   1284\u001b[0m \u001b[38;5;66;03m# apply doesn't have a `na_action` keyword and for backward compat reasons\u001b[39;00m\n\u001b[0;32m   1285\u001b[0m \u001b[38;5;66;03m# we need to give `na_action=\"ignore\"` for categorical data.\u001b[39;00m\n\u001b[0;32m   1286\u001b[0m \u001b[38;5;66;03m# TODO: remove the `na_action=\"ignore\"` when that default has been changed in\u001b[39;00m\n\u001b[0;32m   1287\u001b[0m \u001b[38;5;66;03m#  Categorical (GH51645).\u001b[39;00m\n\u001b[0;32m   1288\u001b[0m action \u001b[38;5;241m=\u001b[39m \u001b[38;5;124m\"\u001b[39m\u001b[38;5;124mignore\u001b[39m\u001b[38;5;124m\"\u001b[39m \u001b[38;5;28;01mif\u001b[39;00m \u001b[38;5;28misinstance\u001b[39m(obj\u001b[38;5;241m.\u001b[39mdtype, CategoricalDtype) \u001b[38;5;28;01melse\u001b[39;00m \u001b[38;5;28;01mNone\u001b[39;00m\n\u001b[1;32m-> 1289\u001b[0m mapped \u001b[38;5;241m=\u001b[39m obj\u001b[38;5;241m.\u001b[39m_map_values(\n\u001b[0;32m   1290\u001b[0m     mapper\u001b[38;5;241m=\u001b[39mcurried, na_action\u001b[38;5;241m=\u001b[39maction, convert\u001b[38;5;241m=\u001b[39m\u001b[38;5;28mself\u001b[39m\u001b[38;5;241m.\u001b[39mconvert_dtype\n\u001b[0;32m   1291\u001b[0m )\n\u001b[0;32m   1293\u001b[0m \u001b[38;5;28;01mif\u001b[39;00m \u001b[38;5;28mlen\u001b[39m(mapped) \u001b[38;5;129;01mand\u001b[39;00m \u001b[38;5;28misinstance\u001b[39m(mapped[\u001b[38;5;241m0\u001b[39m], ABCSeries):\n\u001b[0;32m   1294\u001b[0m     \u001b[38;5;66;03m# GH#43986 Need to do list(mapped) in order to get treated as nested\u001b[39;00m\n\u001b[0;32m   1295\u001b[0m     \u001b[38;5;66;03m#  See also GH#25959 regarding EA support\u001b[39;00m\n\u001b[0;32m   1296\u001b[0m     \u001b[38;5;28;01mreturn\u001b[39;00m obj\u001b[38;5;241m.\u001b[39m_constructor_expanddim(\u001b[38;5;28mlist\u001b[39m(mapped), index\u001b[38;5;241m=\u001b[39mobj\u001b[38;5;241m.\u001b[39mindex)\n",
      "File \u001b[1;32m~\\anaconda3\\Lib\\site-packages\\pandas\\core\\base.py:921\u001b[0m, in \u001b[0;36mIndexOpsMixin._map_values\u001b[1;34m(self, mapper, na_action, convert)\u001b[0m\n\u001b[0;32m    918\u001b[0m \u001b[38;5;28;01mif\u001b[39;00m \u001b[38;5;28misinstance\u001b[39m(arr, ExtensionArray):\n\u001b[0;32m    919\u001b[0m     \u001b[38;5;28;01mreturn\u001b[39;00m arr\u001b[38;5;241m.\u001b[39mmap(mapper, na_action\u001b[38;5;241m=\u001b[39mna_action)\n\u001b[1;32m--> 921\u001b[0m \u001b[38;5;28;01mreturn\u001b[39;00m algorithms\u001b[38;5;241m.\u001b[39mmap_array(arr, mapper, na_action\u001b[38;5;241m=\u001b[39mna_action, convert\u001b[38;5;241m=\u001b[39mconvert)\n",
      "File \u001b[1;32m~\\anaconda3\\Lib\\site-packages\\pandas\\core\\algorithms.py:1814\u001b[0m, in \u001b[0;36mmap_array\u001b[1;34m(arr, mapper, na_action, convert)\u001b[0m\n\u001b[0;32m   1812\u001b[0m values \u001b[38;5;241m=\u001b[39m arr\u001b[38;5;241m.\u001b[39mastype(\u001b[38;5;28mobject\u001b[39m, copy\u001b[38;5;241m=\u001b[39m\u001b[38;5;28;01mFalse\u001b[39;00m)\n\u001b[0;32m   1813\u001b[0m \u001b[38;5;28;01mif\u001b[39;00m na_action \u001b[38;5;129;01mis\u001b[39;00m \u001b[38;5;28;01mNone\u001b[39;00m:\n\u001b[1;32m-> 1814\u001b[0m     \u001b[38;5;28;01mreturn\u001b[39;00m lib\u001b[38;5;241m.\u001b[39mmap_infer(values, mapper, convert\u001b[38;5;241m=\u001b[39mconvert)\n\u001b[0;32m   1815\u001b[0m \u001b[38;5;28;01melse\u001b[39;00m:\n\u001b[0;32m   1816\u001b[0m     \u001b[38;5;28;01mreturn\u001b[39;00m lib\u001b[38;5;241m.\u001b[39mmap_infer_mask(\n\u001b[0;32m   1817\u001b[0m         values, mapper, mask\u001b[38;5;241m=\u001b[39misna(values)\u001b[38;5;241m.\u001b[39mview(np\u001b[38;5;241m.\u001b[39muint8), convert\u001b[38;5;241m=\u001b[39mconvert\n\u001b[0;32m   1818\u001b[0m     )\n",
      "File \u001b[1;32mlib.pyx:2926\u001b[0m, in \u001b[0;36mpandas._libs.lib.map_infer\u001b[1;34m()\u001b[0m\n",
      "Cell \u001b[1;32mIn[44], line 5\u001b[0m, in \u001b[0;36mcat_activ\u001b[1;34m(activity)\u001b[0m\n\u001b[0;32m      2\u001b[0m \u001b[38;5;28;01mif\u001b[39;00m pd\u001b[38;5;241m.\u001b[39misna(activity):\n\u001b[0;32m      3\u001b[0m     \u001b[38;5;28;01mreturn\u001b[39;00m pd\u001b[38;5;241m.\u001b[39mNA\n\u001b[1;32m----> 5\u001b[0m activity \u001b[38;5;241m=\u001b[39m activity\u001b[38;5;241m.\u001b[39mlower()\n\u001b[0;32m      7\u001b[0m \u001b[38;5;28;01mif\u001b[39;00m \u001b[38;5;124m\"\u001b[39m\u001b[38;5;124msurf\u001b[39m\u001b[38;5;124m\"\u001b[39m \u001b[38;5;129;01min\u001b[39;00m activity \u001b[38;5;129;01mor\u001b[39;00m \u001b[38;5;124m\"\u001b[39m\u001b[38;5;124mbody\u001b[39m\u001b[38;5;124m\"\u001b[39m \u001b[38;5;129;01min\u001b[39;00m activity \u001b[38;5;129;01mor\u001b[39;00m \u001b[38;5;124m\"\u001b[39m\u001b[38;5;124mboogie\u001b[39m\u001b[38;5;124m\"\u001b[39m \u001b[38;5;129;01min\u001b[39;00m activity \u001b[38;5;129;01mor\u001b[39;00m \u001b[38;5;124m\"\u001b[39m\u001b[38;5;124mboarding\u001b[39m\u001b[38;5;124m\"\u001b[39m \u001b[38;5;129;01min\u001b[39;00m activity \u001b[38;5;129;01mor\u001b[39;00m \u001b[38;5;124m\"\u001b[39m\u001b[38;5;124mfoil\u001b[39m\u001b[38;5;124m\"\u001b[39m \u001b[38;5;129;01min\u001b[39;00m activity \u001b[38;5;129;01mor\u001b[39;00m \u001b[38;5;124m\"\u001b[39m\u001b[38;5;124mkite\u001b[39m\u001b[38;5;124m\"\u001b[39m \u001b[38;5;129;01min\u001b[39;00m activity:\n\u001b[0;32m      8\u001b[0m     \u001b[38;5;28;01mreturn\u001b[39;00m \u001b[38;5;124m\"\u001b[39m\u001b[38;5;124msurfing\u001b[39m\u001b[38;5;124m\"\u001b[39m\n",
      "\u001b[1;31mAttributeError\u001b[0m: 'float' object has no attribute 'lower'"
     ]
    }
   ],
   "source": [
    "#Count of Different Activities in USA, Australia, and Other Countries\n",
    "# Step 1: Create the 'Country Group' column with USA and Australia together, compared to Other countries\n",
    "df1['Country Group'] = df1['country'].apply(lambda x: 'USA & Australia' if x in ['USA', 'AUSTRALIA'] else 'Other')\n",
    "\n",
    "# Step 2: Apply the categorization function to create a new 'activity_group' column\n",
    "df1['activity_group'] = df1['activity'].apply(cat_activ)\n",
    "\n",
    "# Step 3: Group by 'Country Group' and 'activity_group', then count the occurrences\n",
    "activity_counts = df1.groupby(['Country Group', 'activity_group']).size().unstack(fill_value=0)\n",
    "\n",
    "# Step 4: Plot the data - Count of activities in each country group\n",
    "plt.figure(figsize=(12, 8))\n",
    "activity_counts.plot(kind='bar', stacked=True, colormap='Set3', figsize=(12, 8))\n",
    "\n",
    "# Step 5: Customize the plot\n",
    "plt.title('Count of Different Activities in USA & Australia vs Other Countries')\n",
    "plt.ylabel('Count of Activities')\n",
    "plt.xlabel('Country Group')\n",
    "plt.xticks(rotation=45, ha='right')  # Rotate x-axis labels for readability\n",
    "plt.legend(title='Activity', bbox_to_anchor=(1.05, 1), loc='upper left')\n",
    "plt.tight_layout()\n",
    "\n",
    "plt.show()"
   ]
  },
  {
   "cell_type": "markdown",
   "id": "b9690e61-286e-4b57-ba42-93cd2fc4f729",
   "metadata": {
    "tags": []
   },
   "source": [
    "<h3 style=\"color: #008080;\">Correlation on ....</h3>"
   ]
  },
  {
   "cell_type": "code",
   "execution_count": 74,
   "id": "176422c7-bc29-4a15-9f71-7fbdfb84fd75",
   "metadata": {},
   "outputs": [
    {
     "data": {
      "image/png": "[encoded data removed]",
      "text/plain": [
       "<Figure size 900x700 with 1 Axes>"
      ]
     },
     "metadata": {},
     "output_type": "display_data"
    }
   ],
   "source": [
    "# Group the data by 'Year' and count the number of shark attacks per year\n",
    "shark_attacks_per_year = df.groupby('Year').size().reset_index(name='Number of Attacks')\n",
    "\n",
    "# Convert 'Year' to numeric format, handling any errors\n",
    "shark_attacks_per_year['Year'] = pd.to_numeric(shark_attacks_per_year['Year'], errors='coerce')\n",
    "\n",
    "# Drop any rows where 'Year' is NaN (if there are any non-numeric year values)\n",
    "# shark_attacks_per_year = shark_attacks_per_year.dropna(subset=['Year']) # we have no more nans\n",
    "\n",
    "# Sort the data by 'Year' to ensure the plot is ordered chronologically\n",
    "shark_attacks_per_year = shark_attacks_per_year.sort_values(by='Year')\n",
    "\n",
    "# Plot the number of shark attacks over time\n",
    "plt.figure(figsize=(9, 7))\n",
    "plt.plot(shark_attacks_per_year['Year'], shark_attacks_per_year['Number of Attacks'], marker='o')\n",
    "plt.title('Number of Shark Attacks Over Time')\n",
    "plt.xlabel('Year')\n",
    "plt.ylabel('Number of Attacks')\n",
    "plt.grid(True)\n",
    "plt.show()"
   ]
  },
  {
   "cell_type": "code",
   "execution_count": 76,
   "id": "d818efa0-a3ab-4f3c-b5af-7db06494ccf3",
   "metadata": {},
   "outputs": [
    {
     "data": {
      "text/html": [
       "<div>\n",
       "<style scoped>\n",
       "    .dataframe tbody tr th:only-of-type {\n",
       "        vertical-align: middle;\n",
       "    }\n",
       "\n",
       "    .dataframe tbody tr th {\n",
       "        vertical-align: top;\n",
       "    }\n",
       "\n",
       "    .dataframe thead th {\n",
       "        text-align: right;\n",
       "    }\n",
       "</style>\n",
       "<table border=\"1\" class=\"dataframe\">\n",
       "  <thead>\n",
       "    <tr style=\"text-align: right;\">\n",
       "      <th>fatal</th>\n",
       "      <th>28.0</th>\n",
       "      <th>no</th>\n",
       "      <th>unknown</th>\n",
       "      <th>yes</th>\n",
       "    </tr>\n",
       "    <tr>\n",
       "      <th>country</th>\n",
       "      <th></th>\n",
       "      <th></th>\n",
       "      <th></th>\n",
       "      <th></th>\n",
       "    </tr>\n",
       "  </thead>\n",
       "  <tbody>\n",
       "    <tr>\n",
       "      <th>USA</th>\n",
       "      <td>NaN</td>\n",
       "      <td>1234.0</td>\n",
       "      <td>45.0</td>\n",
       "      <td>30.0</td>\n",
       "    </tr>\n",
       "    <tr>\n",
       "      <th>AUSTRALIA</th>\n",
       "      <td>NaN</td>\n",
       "      <td>453.0</td>\n",
       "      <td>25.0</td>\n",
       "      <td>54.0</td>\n",
       "    </tr>\n",
       "    <tr>\n",
       "      <th>SOUTH AFRICA</th>\n",
       "      <td>NaN</td>\n",
       "      <td>116.0</td>\n",
       "      <td>11.0</td>\n",
       "      <td>24.0</td>\n",
       "    </tr>\n",
       "    <tr>\n",
       "      <th>BAHAMAS</th>\n",
       "      <td>NaN</td>\n",
       "      <td>54.0</td>\n",
       "      <td>2.0</td>\n",
       "      <td>5.0</td>\n",
       "    </tr>\n",
       "    <tr>\n",
       "      <th>NEW ZEALAND</th>\n",
       "      <td>NaN</td>\n",
       "      <td>52.0</td>\n",
       "      <td>2.0</td>\n",
       "      <td>5.0</td>\n",
       "    </tr>\n",
       "    <tr>\n",
       "      <th>...</th>\n",
       "      <td>...</td>\n",
       "      <td>...</td>\n",
       "      <td>...</td>\n",
       "      <td>...</td>\n",
       "    </tr>\n",
       "    <tr>\n",
       "      <th>BRITISH VIRGIN ISLANDS</th>\n",
       "      <td>NaN</td>\n",
       "      <td>NaN</td>\n",
       "      <td>1.0</td>\n",
       "      <td>NaN</td>\n",
       "    </tr>\n",
       "    <tr>\n",
       "      <th>CAPE VERDE</th>\n",
       "      <td>NaN</td>\n",
       "      <td>NaN</td>\n",
       "      <td>1.0</td>\n",
       "      <td>NaN</td>\n",
       "    </tr>\n",
       "    <tr>\n",
       "      <th>COMOROS</th>\n",
       "      <td>NaN</td>\n",
       "      <td>NaN</td>\n",
       "      <td>1.0</td>\n",
       "      <td>NaN</td>\n",
       "    </tr>\n",
       "    <tr>\n",
       "      <th>HONDURAS</th>\n",
       "      <td>NaN</td>\n",
       "      <td>NaN</td>\n",
       "      <td>1.0</td>\n",
       "      <td>NaN</td>\n",
       "    </tr>\n",
       "    <tr>\n",
       "      <th>Seychelles</th>\n",
       "      <td>NaN</td>\n",
       "      <td>NaN</td>\n",
       "      <td>1.0</td>\n",
       "      <td>NaN</td>\n",
       "    </tr>\n",
       "  </tbody>\n",
       "</table>\n",
       "<p>94 rows × 4 columns</p>\n",
       "</div>"
      ],
      "text/plain": [
       "fatal                   28.0      no  unknown   yes\n",
       "country                                            \n",
       "USA                      NaN  1234.0     45.0  30.0\n",
       "AUSTRALIA                NaN   453.0     25.0  54.0\n",
       "SOUTH AFRICA             NaN   116.0     11.0  24.0\n",
       "BAHAMAS                  NaN    54.0      2.0   5.0\n",
       "NEW ZEALAND              NaN    52.0      2.0   5.0\n",
       "...                      ...     ...      ...   ...\n",
       "BRITISH VIRGIN ISLANDS   NaN     NaN      1.0   NaN\n",
       "CAPE VERDE               NaN     NaN      1.0   NaN\n",
       "COMOROS                  NaN     NaN      1.0   NaN\n",
       "HONDURAS                 NaN     NaN      1.0   NaN\n",
       "Seychelles               NaN     NaN      1.0   NaN\n",
       "\n",
       "[94 rows x 4 columns]"
      ]
     },
     "execution_count": 76,
     "metadata": {},
     "output_type": "execute_result"
    }
   ],
   "source": [
    "country_df = df1.groupby(['country', 'fatal']).size().unstack()\n",
    "sorted_country_df = country_df.sort_values(['no', 'yes'], ascending=False)\n",
    "sorted_country_df"
   ]
  },
  {
   "cell_type": "code",
   "execution_count": 78,
   "id": "11ea43fc-8e46-4b48-80c8-751d5f02dc5f",
   "metadata": {},
   "outputs": [
    {
     "data": {
      "text/html": [
       "<div>\n",
       "<style scoped>\n",
       "    .dataframe tbody tr th:only-of-type {\n",
       "        vertical-align: middle;\n",
       "    }\n",
       "\n",
       "    .dataframe tbody tr th {\n",
       "        vertical-align: top;\n",
       "    }\n",
       "\n",
       "    .dataframe thead th {\n",
       "        text-align: right;\n",
       "    }\n",
       "</style>\n",
       "<table border=\"1\" class=\"dataframe\">\n",
       "  <thead>\n",
       "    <tr style=\"text-align: right;\">\n",
       "      <th>fatal</th>\n",
       "      <th>28.0</th>\n",
       "      <th>no</th>\n",
       "      <th>unknown</th>\n",
       "      <th>yes</th>\n",
       "    </tr>\n",
       "    <tr>\n",
       "      <th>activity</th>\n",
       "      <th></th>\n",
       "      <th></th>\n",
       "      <th></th>\n",
       "      <th></th>\n",
       "    </tr>\n",
       "  </thead>\n",
       "  <tbody>\n",
       "    <tr>\n",
       "      <th>surfing</th>\n",
       "      <td>NaN</td>\n",
       "      <td>982.0</td>\n",
       "      <td>30.0</td>\n",
       "      <td>68.0</td>\n",
       "    </tr>\n",
       "    <tr>\n",
       "      <th>swimming</th>\n",
       "      <td>NaN</td>\n",
       "      <td>452.0</td>\n",
       "      <td>36.0</td>\n",
       "      <td>72.0</td>\n",
       "    </tr>\n",
       "    <tr>\n",
       "      <th>fishing</th>\n",
       "      <td>NaN</td>\n",
       "      <td>374.0</td>\n",
       "      <td>12.0</td>\n",
       "      <td>28.0</td>\n",
       "    </tr>\n",
       "    <tr>\n",
       "      <th>others</th>\n",
       "      <td>NaN</td>\n",
       "      <td>126.0</td>\n",
       "      <td>13.0</td>\n",
       "      <td>15.0</td>\n",
       "    </tr>\n",
       "    <tr>\n",
       "      <th>diving</th>\n",
       "      <td>NaN</td>\n",
       "      <td>120.0</td>\n",
       "      <td>17.0</td>\n",
       "      <td>22.0</td>\n",
       "    </tr>\n",
       "    <tr>\n",
       "      <th>snorkeling</th>\n",
       "      <td>NaN</td>\n",
       "      <td>97.0</td>\n",
       "      <td>3.0</td>\n",
       "      <td>14.0</td>\n",
       "    </tr>\n",
       "    <tr>\n",
       "      <th>boating</th>\n",
       "      <td>NaN</td>\n",
       "      <td>56.0</td>\n",
       "      <td>2.0</td>\n",
       "      <td>1.0</td>\n",
       "    </tr>\n",
       "    <tr>\n",
       "      <th>sharking</th>\n",
       "      <td>NaN</td>\n",
       "      <td>38.0</td>\n",
       "      <td>NaN</td>\n",
       "      <td>NaN</td>\n",
       "    </tr>\n",
       "    <tr>\n",
       "      <th>paddling</th>\n",
       "      <td>NaN</td>\n",
       "      <td>3.0</td>\n",
       "      <td>NaN</td>\n",
       "      <td>NaN</td>\n",
       "    </tr>\n",
       "    <tr>\n",
       "      <th>28.0</th>\n",
       "      <td>1.0</td>\n",
       "      <td>NaN</td>\n",
       "      <td>NaN</td>\n",
       "      <td>NaN</td>\n",
       "    </tr>\n",
       "  </tbody>\n",
       "</table>\n",
       "</div>"
      ],
      "text/plain": [
       "fatal       28.0     no  unknown   yes\n",
       "activity                              \n",
       "surfing      NaN  982.0     30.0  68.0\n",
       "swimming     NaN  452.0     36.0  72.0\n",
       "fishing      NaN  374.0     12.0  28.0\n",
       "others       NaN  126.0     13.0  15.0\n",
       "diving       NaN  120.0     17.0  22.0\n",
       "snorkeling   NaN   97.0      3.0  14.0\n",
       "boating      NaN   56.0      2.0   1.0\n",
       "sharking     NaN   38.0      NaN   NaN\n",
       "paddling     NaN    3.0      NaN   NaN\n",
       "28.0         1.0    NaN      NaN   NaN"
      ]
     },
     "execution_count": 78,
     "metadata": {},
     "output_type": "execute_result"
    }
   ],
   "source": [
    "activity_df = df1.groupby(['activity', 'fatal']).size().unstack()\n",
    "sorted_activity_df = activity_df.sort_values(['no', 'yes'], ascending=False)\n",
    "sorted_activity_df"
   ]
  },
  {
   "cell_type": "markdown",
   "id": "32bb65f9-6c5a-4f39-bb90-490d04268888",
   "metadata": {
    "tags": []
   },
   "source": [
    "<h3 style=\"color: #008080;\">Correlation on ....</h3>"
   ]
  },
  {
   "cell_type": "markdown",
   "id": "9483a5fa-c612-4f36-97ee-9235646fd721",
   "metadata": {
    "tags": []
   },
   "source": [
    "<h3 style=\"color: #008080;\">Correlation on ....</h3>"
   ]
  },
  {
   "cell_type": "markdown",
   "id": "c9135f41-5016-482d-8e0c-c49023c9ae50",
   "metadata": {
    "tags": []
   },
   "source": [
    "<h1 style=\"color: #00BFFF;\">05 | Visualization</h1>"
   ]
  }
 ],
 "metadata": {
  "kernelspec": {
   "display_name": "Python 3 (ipykernel)",
   "language": "python",
   "name": "python3"
  },
  "language_info": {
   "codemirror_mode": {
    "name": "ipython",
    "version": 3
   },
   "file_extension": ".py",
   "mimetype": "text/x-python",
   "name": "python",
   "nbconvert_exporter": "python",
   "pygments_lexer": "ipython3",
   "version": "3.11.7"
  }
 },
 "nbformat": 4,
 "nbformat_minor": 5
}
